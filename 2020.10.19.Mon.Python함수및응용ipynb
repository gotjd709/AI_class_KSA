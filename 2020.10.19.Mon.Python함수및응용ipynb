{
 "cells": [
  {
   "cell_type": "code",
   "execution_count": 1,
   "metadata": {},
   "outputs": [],
   "source": [
    "def say_hello(name):\n",
    "    print(\"안녕,\", name);"
   ]
  },
  {
   "cell_type": "code",
   "execution_count": 2,
   "metadata": {},
   "outputs": [
    {
     "name": "stdout",
     "output_type": "stream",
     "text": [
      "안녕, 철수\n"
     ]
    }
   ],
   "source": [
    "say_hello(\"철수\")"
   ]
  },
  {
   "cell_type": "code",
   "execution_count": 3,
   "metadata": {},
   "outputs": [],
   "source": [
    "def say_hello(name, msg):\n",
    "    print(\"안녕\", name, \"아\", msg);"
   ]
  },
  {
   "cell_type": "code",
   "execution_count": 4,
   "metadata": {},
   "outputs": [
    {
     "name": "stdout",
     "output_type": "stream",
     "text": [
      "안녕 혜성 아 어서 집에 오너라\n"
     ]
    }
   ],
   "source": [
    "name = \"혜성\"\n",
    "msg = \"어서 집에 오너라\"\n",
    "say_hello(name, msg)"
   ]
  },
  {
   "cell_type": "code",
   "execution_count": 5,
   "metadata": {},
   "outputs": [],
   "source": [
    "def get_sum(start, end):\n",
    "    sum=0\n",
    "    for i in range(start, end+1):\n",
    "        sum += i\n",
    "    return sum"
   ]
  },
  {
   "cell_type": "code",
   "execution_count": 6,
   "metadata": {},
   "outputs": [
    {
     "name": "stdout",
     "output_type": "stream",
     "text": [
      "55\n"
     ]
    }
   ],
   "source": [
    "value = get_sum(1, 10)\n",
    "print(value)"
   ]
  },
  {
   "cell_type": "code",
   "execution_count": 7,
   "metadata": {},
   "outputs": [
    {
     "name": "stdout",
     "output_type": "stream",
     "text": [
      "이름 : 이혜성\n",
      "나이 : 25\n",
      "학교 : 충북대\n",
      "학과 : 미생물학과\n"
     ]
    }
   ],
   "source": [
    "def MyInformation(name, age, univ, dept):\n",
    "    print('이름 : %s' % name)\n",
    "    print('나이 : %d' % age)\n",
    "    print('학교 : %s' % univ)\n",
    "    print('학과 : %s' % dept)\n",
    "\n",
    "MyInformation('이혜성', 25, '충북대', '미생물학과')"
   ]
  },
  {
   "cell_type": "code",
   "execution_count": 8,
   "metadata": {},
   "outputs": [
    {
     "name": "stdout",
     "output_type": "stream",
     "text": [
      "55\n",
      "210\n"
     ]
    }
   ],
   "source": [
    "print(get_sum(1, 10))\n",
    "print(get_sum(1, 20))"
   ]
  },
  {
   "cell_type": "code",
   "execution_count": 9,
   "metadata": {},
   "outputs": [
    {
     "name": "stdout",
     "output_type": "stream",
     "text": [
      "100\n"
     ]
    }
   ],
   "source": [
    "def square(n):\n",
    "    return(n*n)\n",
    "\n",
    "print(square(10))"
   ]
  },
  {
   "cell_type": "code",
   "execution_count": 10,
   "metadata": {},
   "outputs": [
    {
     "name": "stdout",
     "output_type": "stream",
     "text": [
      "20\n"
     ]
    }
   ],
   "source": [
    "def get_max(x, y):\n",
    "    if(x >y):\n",
    "        return x\n",
    "    else:\n",
    "        return y\n",
    "    \n",
    "print(get_max(10, 20))"
   ]
  },
  {
   "cell_type": "code",
   "execution_count": 11,
   "metadata": {},
   "outputs": [
    {
     "name": "stdout",
     "output_type": "stream",
     "text": [
      "10\n"
     ]
    }
   ],
   "source": [
    "def get_min(x, y):\n",
    "    if(x > y):\n",
    "        return(y)\n",
    "    else:\n",
    "        return(x)\n",
    "    \n",
    "print(get_min(10, 15))"
   ]
  },
  {
   "cell_type": "code",
   "execution_count": 12,
   "metadata": {},
   "outputs": [
    {
     "data": {
      "text/plain": [
       "100"
      ]
     },
     "execution_count": 12,
     "metadata": {},
     "output_type": "execute_result"
    }
   ],
   "source": [
    "def num_exponential(x, y):\n",
    "    z = x**y\n",
    "    return(z)\n",
    "\n",
    "num_exponential(10, 2)"
   ]
  },
  {
   "cell_type": "code",
   "execution_count": 13,
   "metadata": {},
   "outputs": [
    {
     "name": "stdout",
     "output_type": "stream",
     "text": [
      "25.555555555555557\n"
     ]
    }
   ],
   "source": [
    "def FtoC(F):\n",
    "    C = 5/9*(F - 32)\n",
    "    return(C)\n",
    "\n",
    "print(FtoC(78))"
   ]
  },
  {
   "cell_type": "code",
   "execution_count": 14,
   "metadata": {},
   "outputs": [
    {
     "name": "stdout",
     "output_type": "stream",
     "text": [
      "정수를 입력하시오: 10\n",
      "False\n"
     ]
    }
   ],
   "source": [
    "def is_prime(n):\n",
    "    for i in range(2, n):\n",
    "        if ( n%i == 0 ):\n",
    "            return False\n",
    "        return True\n",
    "\n",
    "n = int(input(\"정수를 입력하시오: \"))\n",
    "print(is_prime(n))"
   ]
  },
  {
   "cell_type": "code",
   "execution_count": 15,
   "metadata": {},
   "outputs": [
    {
     "name": "stdout",
     "output_type": "stream",
     "text": [
      "구의 반지름을 입력하시오: 10\n",
      "4188.790204786391\n"
     ]
    }
   ],
   "source": [
    "import math\n",
    "\n",
    "def sphereVolume(r):\n",
    "    V = 4/3*math.pi*r**3\n",
    "    return(V)\n",
    "\n",
    "r = float(input('구의 반지름을 입력하시오: '))\n",
    "print(sphereVolume(r))"
   ]
  },
  {
   "cell_type": "code",
   "execution_count": 22,
   "metadata": {},
   "outputs": [
    {
     "name": "stdout",
     "output_type": "stream",
     "text": [
      "610\n"
     ]
    }
   ],
   "source": [
    "def add(a, b):\n",
    "    return(a + b)\n",
    "\n",
    "def sub(a, b):\n",
    "    return(a - b)\n",
    "\n",
    "def mul(a, b):\n",
    "    return(a * b)\n",
    "\n",
    "def div(a, b):\n",
    "    return(a / b)\n",
    "\n",
    "r1 = mul(a = 20, b = 30)\n",
    "r2 = add(a = 10, b = r1)\n",
    "print(r2)"
   ]
  },
  {
   "cell_type": "code",
   "execution_count": 17,
   "metadata": {},
   "outputs": [
    {
     "name": "stdout",
     "output_type": "stream",
     "text": [
      "100\n"
     ]
    }
   ],
   "source": [
    "def power(x, y):\n",
    "    result = 1\n",
    "    for i in range(y):\n",
    "        result = result * x\n",
    "    return result\n",
    "\n",
    "print(power(10, 2))"
   ]
  },
  {
   "cell_type": "code",
   "execution_count": 23,
   "metadata": {},
   "outputs": [
    {
     "name": "stdout",
     "output_type": "stream",
     "text": [
      "바나나가 좋음!\n"
     ]
    }
   ],
   "source": [
    "def sub():\n",
    "    s = \"바나나가 좋음!\"\n",
    "    print(s)\n",
    "    \n",
    "sub()"
   ]
  },
  {
   "cell_type": "code",
   "execution_count": 26,
   "metadata": {},
   "outputs": [
    {
     "name": "stdout",
     "output_type": "stream",
     "text": [
      "314.159265358979 62.8318530717958\n"
     ]
    }
   ],
   "source": [
    "pi = 3.14159265358979\n",
    "\n",
    "def large(r):\n",
    "    return(pi*r**2)\n",
    "def length(r):\n",
    "    return(2*pi*r)\n",
    "\n",
    "print(large(10), length(10))"
   ]
  },
  {
   "cell_type": "code",
   "execution_count": 27,
   "metadata": {},
   "outputs": [],
   "source": [
    "def fib(n):\n",
    "    a, b = 0, 1\n",
    "    while b < n:\n",
    "        print(b, end = '')\n",
    "        a, b = b, a + b\n",
    "    print()\n"
   ]
  },
  {
   "cell_type": "code",
   "execution_count": 28,
   "metadata": {},
   "outputs": [
    {
     "data": {
      "text/plain": [
       "21"
      ]
     },
     "execution_count": 28,
     "metadata": {},
     "output_type": "execute_result"
    }
   ],
   "source": [
    "len('this is a test string')"
   ]
  },
  {
   "cell_type": "code",
   "execution_count": 29,
   "metadata": {},
   "outputs": [
    {
     "name": "stdout",
     "output_type": "stream",
     "text": [
      "the fruit at index 0 is apple\n",
      "the fruit at index 1 is banana\n",
      "the fruit at index 2 is clementine\n",
      "the fruit at index 3 is dragon fruit\n"
     ]
    }
   ],
   "source": [
    "fruit = ['apple', 'banana', 'clementine', 'dragon fruit']\n",
    "length = len(fruit)\n",
    "for x in range(0, length):\n",
    "    print('the fruit at index %s is %s' % (x, fruit[x]))"
   ]
  },
  {
   "cell_type": "code",
   "execution_count": 30,
   "metadata": {},
   "outputs": [
    {
     "name": "stdout",
     "output_type": "stream",
     "text": [
      "13\n",
      "788\n",
      "1996\n"
     ]
    }
   ],
   "source": [
    "import random\n",
    "print(random.randint(1, 100))\n",
    "print(random.randint(100, 1000))\n",
    "print(random.randint(1000, 5000))"
   ]
  },
  {
   "cell_type": "code",
   "execution_count": null,
   "metadata": {},
   "outputs": [],
   "source": []
  }
 ],
 "metadata": {
  "kernelspec": {
   "display_name": "Python 3",
   "language": "python",
   "name": "python3"
  },
  "language_info": {
   "codemirror_mode": {
    "name": "ipython",
    "version": 3
   },
   "file_extension": ".py",
   "mimetype": "text/x-python",
   "name": "python",
   "nbconvert_exporter": "python",
   "pygments_lexer": "ipython3",
   "version": "3.7.6"
  }
 },
 "nbformat": 4,
 "nbformat_minor": 4
}
