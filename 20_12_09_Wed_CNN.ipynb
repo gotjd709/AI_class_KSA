{
  "nbformat": 4,
  "nbformat_minor": 0,
  "metadata": {
    "colab": {
      "name": "20.12.09.Wed.CNN.ipynb",
      "provenance": [],
      "collapsed_sections": [],
      "authorship_tag": "ABX9TyOseGfN5Hy8z2p9QG17YqPA",
      "include_colab_link": true
    },
    "kernelspec": {
      "display_name": "Python 3",
      "name": "python3"
    }
  },
  "cells": [
    {
      "cell_type": "markdown",
      "metadata": {
        "id": "view-in-github",
        "colab_type": "text"
      },
      "source": [
        "<a href=\"https://colab.research.google.com/github/gotjd709/AI_class_KSA/blob/main/20_12_09_Wed_CNN.ipynb\" target=\"_parent\"><img src=\"https://colab.research.google.com/assets/colab-badge.svg\" alt=\"Open In Colab\"/></a>"
      ]
    },
    {
      "cell_type": "code",
      "metadata": {
        "colab": {
          "base_uri": "https://localhost:8080/"
        },
        "id": "71Q-AXIZ-Bpf",
        "outputId": "710cc08d-5ae9-4e00-8b26-536a87d132e3"
      },
      "source": [
        "import tensorflow as tf\r\n",
        "import matplotlib.pyplot as plt\r\n",
        "from tensorflow.keras.models import Sequential\r\n",
        "from tensorflow.keras.layers import Flatten, Dense, Dropout \r\n",
        "\r\n",
        "mnist = tf.keras.datasets.mnist\r\n",
        "(X_train, y_train), (X_test, y_test) = mnist.load_data()\r\n",
        "X_train, X_test = X_train / 255.0, X_test / 255.0\r\n",
        "\r\n",
        "model = Sequential()\r\n",
        "model.add(Flatten(input_shape=(28,28)))\r\n",
        "model.add(Dense(512, activation = 'relu'))\r\n",
        "model.add(Dropout(0.3))\r\n",
        "model.add(Dense(512, activation = 'relu'))\r\n",
        "model.add(Dropout(0.3))\r\n",
        "model.add(Dense(256, activation = 'relu'))\r\n",
        "model.add(Dropout(0.3))\r\n",
        "model.add(Dense(16, activation= 'relu'))\r\n",
        "model.add(Dense(10, activation = 'sigmoid')) #class의 개수가 10개 이므로 10을 넣을 것)\r\n",
        "\r\n",
        "model.summary()\r\n",
        "\r\n",
        "model.compile(optimizer=tf.keras.optimizers.Adam(),\r\n",
        "              loss=tf.keras.losses.SparseCategoricalCrossentropy(),\r\n",
        "              metrics=['accuracy'])\r\n",
        "model.summary()\r\n",
        "\r\n",
        "hist = model.fit(X_train, y_train,\r\n",
        "                 validation_data=(X_test, y_test),\r\n",
        "                 verbose=2, batch_size=100, epochs=15,\r\n",
        "                 use_multiprocessing=True)\r\n",
        "\r\n"
      ],
      "execution_count": 3,
      "outputs": [
        {
          "output_type": "stream",
          "text": [
            "Model: \"sequential_1\"\n",
            "_________________________________________________________________\n",
            "Layer (type)                 Output Shape              Param #   \n",
            "=================================================================\n",
            "flatten_1 (Flatten)          (None, 784)               0         \n",
            "_________________________________________________________________\n",
            "dense_5 (Dense)              (None, 512)               401920    \n",
            "_________________________________________________________________\n",
            "dropout_3 (Dropout)          (None, 512)               0         \n",
            "_________________________________________________________________\n",
            "dense_6 (Dense)              (None, 512)               262656    \n",
            "_________________________________________________________________\n",
            "dropout_4 (Dropout)          (None, 512)               0         \n",
            "_________________________________________________________________\n",
            "dense_7 (Dense)              (None, 256)               131328    \n",
            "_________________________________________________________________\n",
            "dropout_5 (Dropout)          (None, 256)               0         \n",
            "_________________________________________________________________\n",
            "dense_8 (Dense)              (None, 16)                4112      \n",
            "_________________________________________________________________\n",
            "dense_9 (Dense)              (None, 10)                170       \n",
            "=================================================================\n",
            "Total params: 800,186\n",
            "Trainable params: 800,186\n",
            "Non-trainable params: 0\n",
            "_________________________________________________________________\n",
            "Model: \"sequential_1\"\n",
            "_________________________________________________________________\n",
            "Layer (type)                 Output Shape              Param #   \n",
            "=================================================================\n",
            "flatten_1 (Flatten)          (None, 784)               0         \n",
            "_________________________________________________________________\n",
            "dense_5 (Dense)              (None, 512)               401920    \n",
            "_________________________________________________________________\n",
            "dropout_3 (Dropout)          (None, 512)               0         \n",
            "_________________________________________________________________\n",
            "dense_6 (Dense)              (None, 512)               262656    \n",
            "_________________________________________________________________\n",
            "dropout_4 (Dropout)          (None, 512)               0         \n",
            "_________________________________________________________________\n",
            "dense_7 (Dense)              (None, 256)               131328    \n",
            "_________________________________________________________________\n",
            "dropout_5 (Dropout)          (None, 256)               0         \n",
            "_________________________________________________________________\n",
            "dense_8 (Dense)              (None, 16)                4112      \n",
            "_________________________________________________________________\n",
            "dense_9 (Dense)              (None, 10)                170       \n",
            "=================================================================\n",
            "Total params: 800,186\n",
            "Trainable params: 800,186\n",
            "Non-trainable params: 0\n",
            "_________________________________________________________________\n",
            "Epoch 1/15\n",
            "600/600 - 8s - loss: 0.4219 - accuracy: 0.8545 - val_loss: 0.1302 - val_accuracy: 0.9596\n",
            "Epoch 2/15\n",
            "600/600 - 8s - loss: 0.1416 - accuracy: 0.9587 - val_loss: 0.0964 - val_accuracy: 0.9713\n",
            "Epoch 3/15\n",
            "600/600 - 8s - loss: 0.1074 - accuracy: 0.9688 - val_loss: 0.0858 - val_accuracy: 0.9757\n",
            "Epoch 4/15\n",
            "600/600 - 8s - loss: 0.0893 - accuracy: 0.9738 - val_loss: 0.0675 - val_accuracy: 0.9802\n",
            "Epoch 5/15\n",
            "600/600 - 8s - loss: 0.0758 - accuracy: 0.9770 - val_loss: 0.0701 - val_accuracy: 0.9800\n",
            "Epoch 6/15\n",
            "600/600 - 8s - loss: 0.0665 - accuracy: 0.9801 - val_loss: 0.0621 - val_accuracy: 0.9814\n",
            "Epoch 7/15\n",
            "600/600 - 8s - loss: 0.0606 - accuracy: 0.9815 - val_loss: 0.0694 - val_accuracy: 0.9803\n",
            "Epoch 8/15\n",
            "600/600 - 8s - loss: 0.0528 - accuracy: 0.9838 - val_loss: 0.0664 - val_accuracy: 0.9813\n",
            "Epoch 9/15\n",
            "600/600 - 8s - loss: 0.0503 - accuracy: 0.9848 - val_loss: 0.0718 - val_accuracy: 0.9801\n",
            "Epoch 10/15\n",
            "600/600 - 8s - loss: 0.0472 - accuracy: 0.9856 - val_loss: 0.0704 - val_accuracy: 0.9792\n",
            "Epoch 11/15\n",
            "600/600 - 8s - loss: 0.0422 - accuracy: 0.9874 - val_loss: 0.0833 - val_accuracy: 0.9793\n",
            "Epoch 12/15\n",
            "600/600 - 8s - loss: 0.0419 - accuracy: 0.9880 - val_loss: 0.0650 - val_accuracy: 0.9831\n",
            "Epoch 13/15\n",
            "600/600 - 8s - loss: 0.0361 - accuracy: 0.9890 - val_loss: 0.0758 - val_accuracy: 0.9818\n",
            "Epoch 14/15\n",
            "600/600 - 8s - loss: 0.0351 - accuracy: 0.9885 - val_loss: 0.0711 - val_accuracy: 0.9832\n",
            "Epoch 15/15\n",
            "600/600 - 8s - loss: 0.0335 - accuracy: 0.9905 - val_loss: 0.0739 - val_accuracy: 0.9838\n"
          ],
          "name": "stdout"
        }
      ]
    },
    {
      "cell_type": "code",
      "metadata": {
        "id": "gAfDAqLuJOYs",
        "colab": {
          "base_uri": "https://localhost:8080/",
          "height": 314
        },
        "outputId": "d31a9075-1e96-49e4-f1bd-76654283eb35"
      },
      "source": [
        "model.evaluate(X_test, y_test, \r\n",
        "               verbose=2, batch_size=100, use_multiprocessing=True)\r\n",
        "plt.figure(figsize=(8, 4)) # 8 x 4 inchs \r\n",
        "plt.subplot(1, 2, 1) \r\n",
        "plt.plot(hist.history['loss']) \r\n",
        "plt.title(\"Cost Graph\") \r\n",
        "plt.ylabel(\"cost\") \r\n",
        "plt.subplot(1, 2, 2) \r\n",
        "plt.title(\"Accuracy Graph\") \r\n",
        "plt.ylabel(\"accuracy\") \r\n",
        "plt.plot(hist.history['accuracy'], 'b-', label=\"training accuracy\") \r\n",
        "plt.plot(hist.history['val_accuracy'], 'r:', label=\"validation accuracy\") \r\n",
        "plt.legend() \r\n",
        "plt.tight_layout() \r\n",
        "plt.show()"
      ],
      "execution_count": 4,
      "outputs": [
        {
          "output_type": "stream",
          "text": [
            "100/100 - 0s - loss: 0.0739 - accuracy: 0.9838\n"
          ],
          "name": "stdout"
        },
        {
          "output_type": "display_data",
          "data": {
            "image/png": "[encoded data removed]",
            "text/plain": [
              "<Figure size 576x288 with 2 Axes>"
            ]
          },
          "metadata": {
            "tags": [],
            "needs_background": "light"
          }
        }
      ]
    },
    {
      "cell_type": "code",
      "metadata": {
        "colab": {
          "base_uri": "https://localhost:8080/",
          "height": 392
        },
        "id": "WwoDyRuaO12c",
        "outputId": "f84daa9f-6b7f-4fab-e86e-47c3d55c3324"
      },
      "source": [
        "import os\r\n",
        "os.environ['TF_CPP_MIN_LOG_LEVEL'] = '3'\r\n",
        "import tensorflow as tf\r\n",
        "import numpy as np\r\n",
        "import matplotlib.pyplot as plt\r\n",
        "import random\r\n",
        "image = np.array([[[[1],[2],[3]],\r\n",
        "                   [[4],[5],[6]],\r\n",
        "                   [[7],[8],[9]]]], dtype=np.float32)\r\n",
        "print('image.shape = ', image.shape) #(1,3,3,1) : (number, row, col, channel)\r\n",
        "print('image.reshaped.shape = ', image.reshape(3,3).shape)\r\n",
        "print('image.reshaped:\\n', image.reshape(3,3), sep='')\r\n",
        "plt.imshow(image.reshape(3,3), cmap='gray')"
      ],
      "execution_count": 6,
      "outputs": [
        {
          "output_type": "stream",
          "text": [
            "image.shape =  (1, 3, 3, 1)\n",
            "image.reshaped.shape =  (3, 3)\n",
            "image.reshaped:\n",
            "[[1. 2. 3.]\n",
            " [4. 5. 6.]\n",
            " [7. 8. 9.]]\n"
          ],
          "name": "stdout"
        },
        {
          "output_type": "execute_result",
          "data": {
            "text/plain": [
              "<matplotlib.image.AxesImage at 0x7f30522c14a8>"
            ]
          },
          "metadata": {
            "tags": []
          },
          "execution_count": 6
        },
        {
          "output_type": "display_data",
          "data": {
            "image/png": "[encoded data removed]",
            "text/plain": [
              "<Figure size 432x288 with 1 Axes>"
            ]
          },
          "metadata": {
            "tags": [],
            "needs_background": "light"
          }
        }
      ]
    },
    {
      "cell_type": "code",
      "metadata": {
        "colab": {
          "base_uri": "https://localhost:8080/"
        },
        "id": "lAk2jiO0R0Ts",
        "outputId": "b8de93c3-8cc7-440b-8fe2-85747322dd11"
      },
      "source": [
        "weight = tf.constant([[[[1.0]],[[1.0]]],\r\n",
        " [[[1.0]],[[1.0]]]])\r\n",
        "print('weight.shape = ', weight.shape) #(2,2,1,1):(row,col,channel,number)\r\n",
        "weight_init = tf.constant_initializer(weight.numpy())\r\n",
        "weight_img = tf.reshape(weight, (2,2))\r\n",
        "print('weight.reshaped.shape = ', weight_img.shape)\r\n",
        "print('weight.reshaped:\\n', weight_img.numpy(), sep='')"
      ],
      "execution_count": 13,
      "outputs": [
        {
          "output_type": "stream",
          "text": [
            "weight.shape =  (2, 2, 1, 1)\n",
            "weight.reshaped.shape =  (2, 2)\n",
            "weight.reshaped:\n",
            "[[1. 1.]\n",
            " [1. 1.]]\n"
          ],
          "name": "stdout"
        }
      ]
    },
    {
      "cell_type": "code",
      "metadata": {
        "colab": {
          "base_uri": "https://localhost:8080/"
        },
        "id": "dDY6EzhfStMB",
        "outputId": "7af1bed0-2a7a-4eb8-ce63-30cd48ab1415"
      },
      "source": [
        "print(\"padding='VALID'\") # 패딩(바깥여백)을 적용안함\r\n",
        "conv2d = tf.keras.layers.Conv2D(filters=1, kernel_size=2, padding='VALID',\r\n",
        " kernel_initializer=weight_init)(image)\r\n",
        "conv2d_img = conv2d.numpy()\r\n",
        "print('conv2d_img.shape = ', conv2d_img.shape)\r\n",
        "print('conv2d_img:\\n', conv2d_img, sep='')\r\n",
        "print('conv2d_img.reshaped.shape = ', conv2d_img.reshape(2,2).shape)\r\n",
        "print('conv2d_img.reshaped:\\n', conv2d_img.reshape(2,2), sep='')\r\n"
      ],
      "execution_count": 14,
      "outputs": [
        {
          "output_type": "stream",
          "text": [
            "padding='VALID'\n",
            "conv2d_img.shape =  (1, 2, 2, 1)\n",
            "conv2d_img:\n",
            "[[[[12.]\n",
            "   [16.]]\n",
            "\n",
            "  [[24.]\n",
            "   [28.]]]]\n",
            "conv2d_img.reshaped.shape =  (2, 2)\n",
            "conv2d_img.reshaped:\n",
            "[[12. 16.]\n",
            " [24. 28.]]\n"
          ],
          "name": "stdout"
        }
      ]
    },
    {
      "cell_type": "code",
      "metadata": {
        "colab": {
          "base_uri": "https://localhost:8080/"
        },
        "id": "TGprmyraSw5y",
        "outputId": "66aec4ee-f564-469c-d1f0-1487c8e212d7"
      },
      "source": [
        "print(\"padding='SAME'\") # 출력이 입력과 같은 크기가 되도록 패딩을 적용함\r\n",
        "conv2d = tf.keras.layers.Conv2D(filters=1, kernel_size=2, padding='SAME',\r\n",
        " kernel_initializer=weight_init)(image)\r\n",
        "conv2d_img = conv2d.numpy()\r\n",
        "print('conv2d_img.shape = ', conv2d_img.shape)\r\n",
        "print('conv2d_img:\\n', conv2d_img, sep='')\r\n",
        "print('conv2d_img.reshaped.shape = ', conv2d_img.reshape(3,3).shape)\r\n",
        "print('conv2d_img.reshaped:\\n', conv2d_img.reshape(3,3), sep='')\r\n"
      ],
      "execution_count": 15,
      "outputs": [
        {
          "output_type": "stream",
          "text": [
            "padding='SAME'\n",
            "conv2d_img.shape =  (1, 3, 3, 1)\n",
            "conv2d_img:\n",
            "[[[[12.]\n",
            "   [16.]\n",
            "   [ 9.]]\n",
            "\n",
            "  [[24.]\n",
            "   [28.]\n",
            "   [15.]]\n",
            "\n",
            "  [[15.]\n",
            "   [17.]\n",
            "   [ 9.]]]]\n",
            "conv2d_img.reshaped.shape =  (3, 3)\n",
            "conv2d_img.reshaped:\n",
            "[[12. 16.  9.]\n",
            " [24. 28. 15.]\n",
            " [15. 17.  9.]]\n"
          ],
          "name": "stdout"
        }
      ]
    },
    {
      "cell_type": "code",
      "metadata": {
        "colab": {
          "base_uri": "https://localhost:8080/"
        },
        "id": "wqTfPpWqS0v8",
        "outputId": "705e2196-0057-4e4b-d087-f2f889a81b6f"
      },
      "source": [
        "weight = tf.constant([[[[1.0, 10.0, -1.0]],[[1.0, 10.0, -1.0]]],\r\n",
        " [[[1.0, 10.0, -1.0]],[[1.0, 10.0, -1.0]]]])\r\n",
        "weight_img = weight.numpy()\r\n",
        "print('weight.shape = ', weight.shape) # (2,2,1,3)=>(row,col,channel,number)\r\n",
        "weight_init = tf.constant_initializer(weight.numpy())\r\n",
        "weight_img = np.swapaxes(weight_img, 0, 3)\r\n",
        "for i, one_img in enumerate(weight_img):\r\n",
        " print(one_img.reshape(2,2))"
      ],
      "execution_count": 16,
      "outputs": [
        {
          "output_type": "stream",
          "text": [
            "weight.shape =  (2, 2, 1, 3)\n",
            "[[1. 1.]\n",
            " [1. 1.]]\n",
            "[[10. 10.]\n",
            " [10. 10.]]\n",
            "[[-1. -1.]\n",
            " [-1. -1.]]\n"
          ],
          "name": "stdout"
        }
      ]
    },
    {
      "cell_type": "code",
      "metadata": {
        "colab": {
          "base_uri": "https://localhost:8080/"
        },
        "id": "FVTxeiUvS36s",
        "outputId": "140a4b23-df22-4250-fb7a-9cd778714644"
      },
      "source": [
        "import numpy as np\r\n",
        "x = np.array([[1,2,3]])\r\n",
        "print('-----------------------------------')\r\n",
        "print('shape = ', x.shape)\r\n",
        "print(x)\r\n",
        "print('---- swap 0 and 1 -----------------')\r\n",
        "print('shape = ', np.swapaxes(x, 0, 1).shape)\r\n",
        "print(np.swapaxes(x, 0, 1))\r\n",
        "y = np.array([[[0,1],[2,3],[4,5],[6,7]]])\r\n",
        "print('-----------------------------------')\r\n",
        "print('shape = ', y.shape)\r\n",
        "print(y)\r\n",
        "print('---- swap 0 and 1 -----------------')\r\n",
        "print('shape = ', np.swapaxes(y, 0, 1).shape)\r\n",
        "print(np.swapaxes(y, 0, 1))\r\n",
        "print('---- swap 0 and 2 -----------------')\r\n",
        "print('shape = ', np.swapaxes(y, 0, 2).shape)\r\n",
        "print(np.swapaxes(y, 0, 2))\r\n",
        "print('---- swap 1 and 2 -----------------')\r\n",
        "print('shape = ', np.swapaxes(y, 1, 2).shape)\r\n",
        "print(np.swapaxes(y, 1, 2))"
      ],
      "execution_count": 17,
      "outputs": [
        {
          "output_type": "stream",
          "text": [
            "-----------------------------------\n",
            "shape =  (1, 3)\n",
            "[[1 2 3]]\n",
            "---- swap 0 and 1 -----------------\n",
            "shape =  (3, 1)\n",
            "[[1]\n",
            " [2]\n",
            " [3]]\n",
            "-----------------------------------\n",
            "shape =  (1, 4, 2)\n",
            "[[[0 1]\n",
            "  [2 3]\n",
            "  [4 5]\n",
            "  [6 7]]]\n",
            "---- swap 0 and 1 -----------------\n",
            "shape =  (4, 1, 2)\n",
            "[[[0 1]]\n",
            "\n",
            " [[2 3]]\n",
            "\n",
            " [[4 5]]\n",
            "\n",
            " [[6 7]]]\n",
            "---- swap 0 and 2 -----------------\n",
            "shape =  (2, 4, 1)\n",
            "[[[0]\n",
            "  [2]\n",
            "  [4]\n",
            "  [6]]\n",
            "\n",
            " [[1]\n",
            "  [3]\n",
            "  [5]\n",
            "  [7]]]\n",
            "---- swap 1 and 2 -----------------\n",
            "shape =  (1, 2, 4)\n",
            "[[[0 2 4 6]\n",
            "  [1 3 5 7]]]\n"
          ],
          "name": "stdout"
        }
      ]
    },
    {
      "cell_type": "code",
      "metadata": {
        "colab": {
          "base_uri": "https://localhost:8080/"
        },
        "id": "wR6Ohkx-S8Cx",
        "outputId": "d76689aa-aa87-46bc-821a-e90021f95cbf"
      },
      "source": [
        "print(\"padding='SAME'\")\r\n",
        "conv2d = tf.keras.layers.Conv2D(filters=3, kernel_size=2, padding='SAME',\r\n",
        " kernel_initializer=weight_init)(image)\r\n",
        "conv2d_img = conv2d.numpy()\r\n",
        "print('conv2d_img.shape = ', conv2d_img.shape)\r\n",
        "conv2d_img = np.swapaxes(conv2d_img, 0, 3)\r\n",
        "for i, one_img in enumerate(conv2d_img):\r\n",
        " print(one_img.reshape(3,3))"
      ],
      "execution_count": 18,
      "outputs": [
        {
          "output_type": "stream",
          "text": [
            "padding='SAME'\n",
            "conv2d_img.shape =  (1, 3, 3, 3)\n",
            "[[12. 16.  9.]\n",
            " [24. 28. 15.]\n",
            " [15. 17.  9.]]\n",
            "[[120. 160.  90.]\n",
            " [240. 280. 150.]\n",
            " [150. 170.  90.]]\n",
            "[[-12. -16.  -9.]\n",
            " [-24. -28. -15.]\n",
            " [-15. -17.  -9.]]\n"
          ],
          "name": "stdout"
        }
      ]
    },
    {
      "cell_type": "code",
      "metadata": {
        "colab": {
          "base_uri": "https://localhost:8080/"
        },
        "id": "2g43AHP2S-0C",
        "outputId": "9b2b8796-7887-478c-a364-819e9fa9784c"
      },
      "source": [
        "import os\r\n",
        "os.environ['TF_CPP_MIN_LOG_LEVEL'] = '3'\r\n",
        "import tensorflow as tf\r\n",
        "import numpy as np\r\n",
        "import matplotlib.pyplot as plt\r\n",
        "import random\r\n",
        "image = np.array([[[[1],[2],[3]],\r\n",
        " [[4],[5],[6]],\r\n",
        " [[7],[8],[9]]]], dtype=np.float32)\r\n",
        "print('image.shape = ', image.shape)\r\n",
        "print('image.reshaped.shape = ', image.reshape(3,3).shape)\r\n",
        "print('image.reshaped:\\n', image.reshape(3,3), sep='')"
      ],
      "execution_count": 19,
      "outputs": [
        {
          "output_type": "stream",
          "text": [
            "image.shape =  (1, 3, 3, 1)\n",
            "image.reshaped.shape =  (3, 3)\n",
            "image.reshaped:\n",
            "[[1. 2. 3.]\n",
            " [4. 5. 6.]\n",
            " [7. 8. 9.]]\n"
          ],
          "name": "stdout"
        }
      ]
    },
    {
      "cell_type": "code",
      "metadata": {
        "colab": {
          "base_uri": "https://localhost:8080/"
        },
        "id": "P0zfKt-tTEse",
        "outputId": "f2f0e698-2b81-4b1c-8f04-2dd1085e7867"
      },
      "source": [
        "print(\"padding='SAME'\")\r\n",
        "pool = tf.keras.layers.MaxPool2D(pool_size=(2,2), strides=1,\r\n",
        "padding='SAME')(image)\r\n",
        "pool_img = pool.numpy()\r\n",
        "print('pool_img.shape = ', pool_img.shape)\r\n",
        "conv2d_img = np.swapaxes(pool_img, 0, 3)\r\n",
        "for i, one_img in enumerate(pool_img):\r\n",
        " print(one_img.reshape(3,3))"
      ],
      "execution_count": 20,
      "outputs": [
        {
          "output_type": "stream",
          "text": [
            "padding='SAME'\n",
            "pool_img.shape =  (1, 3, 3, 1)\n",
            "[[5. 6. 6.]\n",
            " [8. 9. 9.]\n",
            " [8. 9. 9.]]\n"
          ],
          "name": "stdout"
        }
      ]
    },
    {
      "cell_type": "code",
      "metadata": {
        "colab": {
          "base_uri": "https://localhost:8080/",
          "height": 265
        },
        "id": "tRyAOv_ETGmL",
        "outputId": "09bc1011-965a-4fd4-f03f-ce4cf7992ae9"
      },
      "source": [
        "import os\r\n",
        "os.environ['TF_CPP_MIN_LOG_LEVEL'] = '3'\r\n",
        "import tensorflow as tf\r\n",
        "import numpy as np\r\n",
        "import matplotlib.pyplot as plt\r\n",
        "mnist = tf.keras.datasets.mnist\r\n",
        "(X_train, y_train), (X_test, y_test) = mnist.load_data()\r\n",
        "X_train = X_train.astype(np.float32) / 255.0\r\n",
        "X_test = X_test.astype(np.float32) / 255.0\r\n",
        "img = X_train[0]\r\n",
        "plt.imshow(img, cmap='gray')\r\n",
        "plt.show()"
      ],
      "execution_count": 21,
      "outputs": [
        {
          "output_type": "display_data",
          "data": {
            "image/png": "[encoded data removed]",
            "text/plain": [
              "<Figure size 432x288 with 1 Axes>"
            ]
          },
          "metadata": {
            "tags": [],
            "needs_background": "light"
          }
        }
      ]
    },
    {
      "cell_type": "code",
      "metadata": {
        "colab": {
          "base_uri": "https://localhost:8080/",
          "height": 126
        },
        "id": "zodtGcZ7TLwu",
        "outputId": "ffb22e78-cb7f-4128-f93c-3b9898f5aa4c"
      },
      "source": [
        "img = img.reshape(-1, 28, 28, 1)\r\n",
        "img = tf.convert_to_tensor(img)\r\n",
        "weight_init = tf.keras.initializers.RandomNormal(stddev=0.01)\r\n",
        "conv2d = tf.keras.layers.Conv2D(filters=5, kernel_size=3, strides=(2,2),\r\n",
        " padding='SAME',\r\n",
        " kernel_initializer=weight_init)(img)\r\n",
        "print(f\"conv2d.shape = {conv2d.shape}\")\r\n",
        "images = np.swapaxes(conv2d, 0, 3)\r\n",
        "for i, image in enumerate(images):\r\n",
        " plt.subplot(1, 5, i+1)\r\n",
        " plt.imshow(image.reshape(14,14), cmap='gray')\r\n",
        "plt.show()"
      ],
      "execution_count": 22,
      "outputs": [
        {
          "output_type": "stream",
          "text": [
            "conv2d.shape = (1, 14, 14, 5)\n"
          ],
          "name": "stdout"
        },
        {
          "output_type": "display_data",
          "data": {
            "image/png": "[encoded data removed]",
            "text/plain": [
              "<Figure size 432x288 with 5 Axes>"
            ]
          },
          "metadata": {
            "tags": [],
            "needs_background": "light"
          }
        }
      ]
    },
    {
      "cell_type": "code",
      "metadata": {
        "colab": {
          "base_uri": "https://localhost:8080/",
          "height": 124
        },
        "id": "I7xvA-T6TOj-",
        "outputId": "eb2a8d44-6f8c-491c-b990-4e7deafb6536"
      },
      "source": [
        "pool = tf.keras.layers.MaxPool2D(pool_size=(2,2), strides=(2,2),\r\n",
        " padding='SAME')(conv2d)\r\n",
        "print(f\"pool.shape = {pool.shape}\")\r\n",
        "images = np.swapaxes(pool, 0, 3)\r\n",
        "for i, image in enumerate(images):\r\n",
        " plt.subplot(1, 5, i+1)\r\n",
        " plt.imshow(image.reshape(7,7), cmap='gray')\r\n",
        "plt.show()"
      ],
      "execution_count": 23,
      "outputs": [
        {
          "output_type": "stream",
          "text": [
            "pool.shape = (1, 7, 7, 5)\n"
          ],
          "name": "stdout"
        },
        {
          "output_type": "display_data",
          "data": {
            "image/png": "[encoded data removed]",
            "text/plain": [
              "<Figure size 432x288 with 5 Axes>"
            ]
          },
          "metadata": {
            "tags": [],
            "needs_background": "light"
          }
        }
      ]
    },
    {
      "cell_type": "code",
      "metadata": {
        "id": "F5WFCIaqTSYZ"
      },
      "source": [
        "import os\r\n",
        "os.environ['TF_CPP_MIN_LOG_LEVEL'] = '3'\r\n",
        "import tensorflow as tf\r\n",
        "import matplotlib.pyplot as plt\r\n",
        "mnist = tf.keras.datasets.mnist\r\n",
        "(X_train, Y_train), (X_test, Y_test) = mnist.load_data()\r\n",
        "X_train = X_train.reshape(-1, 28, 28, 1)\r\n",
        "X_test = X_test.reshape(-1, 28, 28, 1)\r\n",
        "X_train, X_test = X_train / 255.0, X_test / 255.0\r\n",
        "# print(X_train.shape, X_train.dtype)\r\n",
        "# print(Y_train.shape, Y_train.dtype)\r\n",
        "# print(X_test.shape, X_test.dtype)\r\n",
        "# print(Y_test.shape, Y_test.dtype)"
      ],
      "execution_count": 25,
      "outputs": []
    },
    {
      "cell_type": "code",
      "metadata": {
        "id": "ky2MWBGyxchx"
      },
      "source": [
        "model = tf.keras.models.Sequential([\r\n",
        " tf.keras.layers.Conv2D(32, (3, 3), padding='same',\r\n",
        "activation='relu', input_shape=(28, 28, 1)),\r\n",
        " tf.keras.layers.MaxPooling2D((2, 2), padding='same'),\r\n",
        " tf.keras.layers.Dropout(0.3),\r\n",
        " tf.keras.layers.Conv2D(64, (3, 3), strides=(1, 1),\r\n",
        "padding='same', activation='relu'),\r\n",
        " tf.keras.layers.MaxPooling2D((2, 2), padding='same'),\r\n",
        " tf.keras.layers.Dropout(0.3),\r\n",
        " tf.keras.layers.Conv2D(128, (3, 3), padding='same',\r\n",
        "activation='relu'),\r\n",
        " tf.keras.layers.MaxPooling2D((2, 2), padding='same'),\r\n",
        " tf.keras.layers.Flatten(),\r\n",
        " tf.keras.layers.Dense(128, activation='relu'),\r\n",
        " tf.keras.layers.Dense(10, activation='softmax')\r\n",
        "])"
      ],
      "execution_count": 28,
      "outputs": []
    },
    {
      "cell_type": "code",
      "metadata": {
        "colab": {
          "base_uri": "https://localhost:8080/"
        },
        "id": "Par3L3e_xxJF",
        "outputId": "7c31f34f-d271-4b9a-d633-ada59727125d"
      },
      "source": [
        "model.compile(optimizer='adam',\r\n",
        " loss='sparse_categorical_crossentropy',\r\n",
        " metrics=[\"accuracy\"])\r\n",
        "model.summary()\r\n",
        "hist = model.fit(X_train, Y_train,\r\n",
        " validation_data=(X_test, Y_test),\r\n",
        " verbose=2, batch_size=100, epochs=5, use_multiprocessing=True)\r\n",
        "model.evaluate(X_test, Y_test,\r\n",
        " verbose=2, batch_size=100, use_multiprocessing=True)"
      ],
      "execution_count": null,
      "outputs": [
        {
          "output_type": "stream",
          "text": [
            "Model: \"sequential_3\"\n",
            "_________________________________________________________________\n",
            "Layer (type)                 Output Shape              Param #   \n",
            "=================================================================\n",
            "conv2d_7 (Conv2D)            (None, 28, 28, 32)        320       \n",
            "_________________________________________________________________\n",
            "max_pooling2d_5 (MaxPooling2 (None, 14, 14, 32)        0         \n",
            "_________________________________________________________________\n",
            "dropout_8 (Dropout)          (None, 14, 14, 32)        0         \n",
            "_________________________________________________________________\n",
            "conv2d_8 (Conv2D)            (None, 14, 14, 64)        18496     \n",
            "_________________________________________________________________\n",
            "max_pooling2d_6 (MaxPooling2 (None, 7, 7, 64)          0         \n",
            "_________________________________________________________________\n",
            "dropout_9 (Dropout)          (None, 7, 7, 64)          0         \n",
            "_________________________________________________________________\n",
            "conv2d_9 (Conv2D)            (None, 7, 7, 128)         73856     \n",
            "_________________________________________________________________\n",
            "max_pooling2d_7 (MaxPooling2 (None, 4, 4, 128)         0         \n",
            "_________________________________________________________________\n",
            "flatten_3 (Flatten)          (None, 2048)              0         \n",
            "_________________________________________________________________\n",
            "dense_12 (Dense)             (None, 128)               262272    \n",
            "_________________________________________________________________\n",
            "dense_13 (Dense)             (None, 10)                1290      \n",
            "=================================================================\n",
            "Total params: 356,234\n",
            "Trainable params: 356,234\n",
            "Non-trainable params: 0\n",
            "_________________________________________________________________\n",
            "Epoch 1/5\n",
            "600/600 - 91s - loss: 0.2337 - accuracy: 0.9247 - val_loss: 0.0539 - val_accuracy: 0.9833\n",
            "Epoch 2/5\n",
            "600/600 - 89s - loss: 0.0655 - accuracy: 0.9790 - val_loss: 0.0336 - val_accuracy: 0.9880\n",
            "Epoch 3/5\n",
            "600/600 - 91s - loss: 0.0489 - accuracy: 0.9850 - val_loss: 0.0264 - val_accuracy: 0.9905\n",
            "Epoch 4/5\n",
            "600/600 - 90s - loss: 0.0384 - accuracy: 0.9875 - val_loss: 0.0255 - val_accuracy: 0.9919\n",
            "Epoch 5/5\n"
          ],
          "name": "stdout"
        }
      ]
    },
    {
      "cell_type": "code",
      "metadata": {
        "id": "uf1L_DuLx1Cf"
      },
      "source": [
        "import tensorflow as tf\r\n",
        "import matplotlib.pyplot as plt\r\n",
        "mnist = tf.keras.datasets.mnist\r\n",
        "(X_train, Y_train), (X_test, Y_test) = mnist.load_data()\r\n",
        "X_train = X_train.reshape(-1, 28, 28, 1)\r\n",
        "X_test = X_test.reshape(-1, 28, 28, 1)\r\n",
        "X_train, X_test = X_train / 255.0, X_test / 255.0\r\n",
        "# print(X_train.shape, X_train.dtype)\r\n",
        "# print(Y_train.shape, Y_train.dtype)\r\n",
        "# print(X_test.shape, X_test.dtype)\r\n",
        "# print(Y_test.shape, Y_test.dtype)\r\n",
        "model = tf.keras.models.Sequential([\r\n",
        " tf.keras.layers.Conv2D(32, (3, 3), padding='same', activation='relu’,\r\n",
        "input_shape=(28, 28, 1)),\r\n",
        " tf.keras.layers.MaxPooling2D((2, 2), padding='same'),\r\n",
        " tf.keras.layers.Dropout(0.3),\r\n",
        " tf.keras.layers.Conv2D(64, (3, 3), strides=(1, 1), padding='same’,\r\n",
        "activation='relu'),\r\n",
        " tf.keras.layers.MaxPooling2D((2, 2), padding='same'),\r\n",
        " tf.keras.layers.Dropout(0.3),\r\n",
        " tf.keras.layers.Conv2D(128, (3, 3), padding='same', activation='relu'),\r\n",
        " tf.keras.layers.MaxPooling2D((2, 2), padding='same'),\r\n",
        " tf.keras.layers.Flatten(),\r\n",
        " tf.keras.layers.Dense(128, activation='relu'),\r\n",
        " tf.keras.layers.Dense(10, activation='softmax')\r\n",
        "])\r\n"
      ],
      "execution_count": null,
      "outputs": []
    },
    {
      "cell_type": "code",
      "metadata": {
        "id": "nj6aPWrmx5G_"
      },
      "source": [
        "model.compile(optimizer='adam',\r\n",
        " loss='sparse_categorical_crossentropy',\r\n",
        " metrics=[\"accuracy\"])\r\n",
        "model.summary()\r\n",
        "hist = model.fit(X_train, Y_train,\r\n",
        " validation_data=(X_test, Y_test),\r\n",
        " verbose=2, batch_size=100, epochs=5, use_multiprocessing=True)\r\n",
        "model.evaluate(X_test, Y_test,\r\n",
        " verbose=2, batch_size=100, use_multiprocessing=True)\r\n",
        "# Reporting......\r\n",
        "plt.figure(figsize=(8, 4)) # 8 x 4 inchs\r\n",
        "plt.subplot(1, 2, 1)\r\n",
        "plt.plot(hist.history['loss'])\r\n",
        "plt.title(\"Cost Graph\")\r\n",
        "plt.ylabel(\"cost\")\r\n",
        "plt.subplot(1, 2, 2)\r\n",
        "plt.title(\"Accuracy Graph\")\r\n",
        "plt.ylabel(\"accuracy\")\r\n",
        "plt.plot(hist.history['accuracy'], 'b-', label=\"training accuracy\")\r\n",
        "plt.plot(hist.history['val_accuracy'], 'r:', label=\"validation accuracy\")\r\n",
        "plt.legend()\r\n",
        "plt.tight_layout()\r\n",
        "plt.show()\r\n"
      ],
      "execution_count": null,
      "outputs": []
    }
  ]
}