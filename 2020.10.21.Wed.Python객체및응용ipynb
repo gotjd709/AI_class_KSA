{
 "cells": [
  {
   "cell_type": "code",
   "execution_count": 9,
   "metadata": {},
   "outputs": [],
   "source": [
    "class Counter:\n",
    "    def __init__(self):\n",
    "        self.count = 0\n",
    "    def reset(self):\n",
    "        self.count = 0\n",
    "    def increment(self):\n",
    "        self.count +=1\n",
    "    def get(self):\n",
    "        return self.count"
   ]
  },
  {
   "cell_type": "code",
   "execution_count": 13,
   "metadata": {},
   "outputs": [],
   "source": [
    "firstCounter = Counter()\n",
    "#객체 하나 생성\n",
    "secondCounter = Counter()\n",
    "# 두번째 객체 생성"
   ]
  },
  {
   "cell_type": "code",
   "execution_count": 14,
   "metadata": {},
   "outputs": [
    {
     "name": "stdout",
     "output_type": "stream",
     "text": [
      "Odd Counter 50\n",
      "Even Counter 50\n"
     ]
    }
   ],
   "source": [
    "firstCounter.reset()\n",
    "secondCounter.reset()\n",
    "for i in range(100):\n",
    "    if (i%2 == 0):\n",
    "        firstCounter.increment()\n",
    "    else:\n",
    "        secondCounter.increment()\n",
    "        \n",
    "print(\"Odd Counter\", firstCounter.get())\n",
    "print(\"Even Counter\", secondCounter.get())"
   ]
  },
  {
   "cell_type": "code",
   "execution_count": 48,
   "metadata": {},
   "outputs": [],
   "source": [
    "class Television:\n",
    "    def __init__(self , channel = 0, volume = 0, on = 0):\n",
    "        self.channel = channel\n",
    "        self.volume = volume\n",
    "        self.on = on\n",
    "    def __init__(self):\n",
    "        self.channel = 0\n",
    "        self.volume = 0\n",
    "        self.on = 0\n",
    "    def turnOn(self):\n",
    "        self.on = 1\n",
    "    def turnOff(self):\n",
    "        self.on = 0\n",
    "    def setChannel(self, channel):\n",
    "        if (self.on == 1):\n",
    "            self.channel = channel\n",
    "    def incChannel(self):\n",
    "        if (self.on == 1):\n",
    "            self.channel += 1\n",
    "    def decChannel(self):\n",
    "        if (self.on == 1):\n",
    "            self.channel -= 1\n",
    "    def getChannel(self):\n",
    "        return self.channel\n",
    "    def show(self):\n",
    "        print(self.channel, self.volume, self.on)\n",
    "        "
   ]
  },
  {
   "cell_type": "code",
   "execution_count": 31,
   "metadata": {},
   "outputs": [],
   "source": [
    "tv1 = Television(1, 10, 0)"
   ]
  },
  {
   "cell_type": "code",
   "execution_count": 32,
   "metadata": {},
   "outputs": [
    {
     "name": "stdout",
     "output_type": "stream",
     "text": [
      "15\n"
     ]
    },
    {
     "data": {
      "text/plain": [
       "<bound method Television.show of <__main__.Television object at 0x00000216D3EE0108>>"
      ]
     },
     "execution_count": 32,
     "metadata": {},
     "output_type": "execute_result"
    }
   ],
   "source": [
    "tv1.turnOn()\n",
    "tv1.setChannel(10)\n",
    "tv1.incChannel()\n",
    "tv1.incChannel()\n",
    "tv1.incChannel()\n",
    "tv1.incChannel()\n",
    "tv1.incChannel()\n",
    "tv1.incChannel()\n",
    "tv1.decChannel()\n",
    "print(tv1.getChannel())\n",
    "tv1.turnOff()\n",
    "tv1.show"
   ]
  },
  {
   "cell_type": "code",
   "execution_count": 29,
   "metadata": {},
   "outputs": [
    {
     "name": "stdout",
     "output_type": "stream",
     "text": [
      "15 10 0\n"
     ]
    }
   ],
   "source": [
    "tv1.channel = 15\n",
    "tv1.show()"
   ]
  },
  {
   "cell_type": "code",
   "execution_count": 50,
   "metadata": {},
   "outputs": [
    {
     "name": "stdout",
     "output_type": "stream",
     "text": [
      "0 0 0\n"
     ]
    }
   ],
   "source": [
    "tv3 = Television()\n",
    "tv3.show()"
   ]
  },
  {
   "cell_type": "code",
   "execution_count": 98,
   "metadata": {},
   "outputs": [
    {
     "ename": "AttributeError",
     "evalue": "'int' object has no attribute 'show'",
     "output_type": "error",
     "traceback": [
      "\u001b[1;31m---------------------------------------------------------------------------\u001b[0m",
      "\u001b[1;31mAttributeError\u001b[0m                            Traceback (most recent call last)",
      "\u001b[1;32m<ipython-input-98-57e21b4d477a>\u001b[0m in \u001b[0;36m<module>\u001b[1;34m\u001b[0m\n\u001b[0;32m     25\u001b[0m \u001b[0mc1\u001b[0m \u001b[1;33m==\u001b[0m \u001b[0mc2\u001b[0m\u001b[1;33m\u001b[0m\u001b[1;33m\u001b[0m\u001b[0m\n\u001b[0;32m     26\u001b[0m \u001b[0mc4\u001b[0m \u001b[1;33m=\u001b[0m \u001b[0mc1\u001b[0m \u001b[1;33m+\u001b[0m \u001b[0mc2\u001b[0m\u001b[1;33m\u001b[0m\u001b[1;33m\u001b[0m\u001b[0m\n\u001b[1;32m---> 27\u001b[1;33m \u001b[0mc4\u001b[0m\u001b[1;33m.\u001b[0m\u001b[0mshow\u001b[0m\u001b[1;33m(\u001b[0m\u001b[1;33m)\u001b[0m\u001b[1;33m\u001b[0m\u001b[1;33m\u001b[0m\u001b[0m\n\u001b[0m",
      "\u001b[1;31mAttributeError\u001b[0m: 'int' object has no attribute 'show'"
     ]
    }
   ],
   "source": [
    "class Circle:\n",
    "    def __init__(self, radius):\n",
    "        self.radius = radius\n",
    "    def show(self):\n",
    "        print(\"반지름\", self.radius)\n",
    "    def calcArea(self):\n",
    "        area = 3.14156*self.radius*self.radius\n",
    "        return area\n",
    "    def calcCircum(self):\n",
    "        circum = 2.0*3.14159*self.radius\n",
    "        return circum\n",
    "    def __eq__(self, other):\n",
    "        return self.radius == other.radius\n",
    "    def __add__(self, other):\n",
    "        return (self.radius + other.radius)\n",
    "    def __sub__(self, other):\n",
    "        return (self.radius - other.radius)\n",
    "    \n",
    "    \n",
    "    \n",
    "c1 = Circle(10)\n",
    "c2 = Circle(20)\n",
    "c3 = Circle(20)\n",
    "\n",
    "c1 == c2\n",
    "c4 = c1 + c2\n",
    "c4.show()"
   ]
  },
  {
   "cell_type": "code",
   "execution_count": 60,
   "metadata": {},
   "outputs": [
    {
     "name": "stdout",
     "output_type": "stream",
     "text": [
      "반지름 5.0\n"
     ]
    }
   ],
   "source": [
    "c1 = Circle(5.0)\n",
    "c1.show()"
   ]
  },
  {
   "cell_type": "code",
   "execution_count": 61,
   "metadata": {},
   "outputs": [
    {
     "name": "stdout",
     "output_type": "stream",
     "text": [
      "78.539\n",
      "31.4159\n"
     ]
    }
   ],
   "source": [
    "print(c1.calcArea())\n",
    "print(c1.calcCircum())"
   ]
  },
  {
   "cell_type": "code",
   "execution_count": 77,
   "metadata": {},
   "outputs": [
    {
     "name": "stdout",
     "output_type": "stream",
     "text": [
      "통장에  15364 입금되었음\n",
      "통장에서  11335 출금되었음\n",
      "통장에서  13326 출금되었음\n",
      "이혜성 352 3653\n",
      "[이혜성 | 352 | 3653]\n"
     ]
    }
   ],
   "source": [
    "class BankAccount:\n",
    "    def __init__(self, name=None, accountNumber = None, balance = 0):\n",
    "        self.__name = name\n",
    "        self.__accountNumber = accountNumber\n",
    "        self.__balance = balance\n",
    "    def withdraw(self, amount):\n",
    "        if (self.__balance >= amount):\n",
    "            self.__balance -= amount\n",
    "            print(\"통장에서 \", amount, \"출금되었음\")\n",
    "            return self.__balance\n",
    "        else:\n",
    "            print(\"통장에 잔액이 부족\")\n",
    "            return self.__balance\n",
    "    def deposit(self, amount):\n",
    "        self.__balance += amount\n",
    "        print(\"통장에 \", amount, \"입금되었음\")\n",
    "        return self.__balance\n",
    "    def show(self):\n",
    "        print(self.__name, self.__accountNumber, self.__balance)\n",
    "    def __str__(self):\n",
    "        return '[%s | %s | %d]' % (self.__name, self.__accountNumber, self.__balance)\n",
    "        \n",
    "a = BankAccount(\"이혜성\", \"352\", 12950)\n",
    "a.deposit(15364)\n",
    "a.withdraw(11335)\n",
    "a.withdraw(13326)\n",
    "a.show()\n",
    "print(a)"
   ]
  },
  {
   "cell_type": "code",
   "execution_count": 93,
   "metadata": {},
   "outputs": [
    {
     "name": "stdout",
     "output_type": "stream",
     "text": [
      "(홍길동, sonata, 100, 5, Green)\n",
      "(홍길동, sonata, 80, 4, Green)\n"
     ]
    }
   ],
   "source": [
    "class Car:\n",
    "    def __init__(self, own = None, kind = None, speed = 0, gear = 1, color = \"white\"):\n",
    "        self.__own = own\n",
    "        self.__kind = kind\n",
    "        self.__speed = speed\n",
    "        self.__gear = gear\n",
    "        self.__color = color\n",
    "        \n",
    "    def __str__(self):\n",
    "        return '(%s, %s, %d, %d, %s)' % (self.__own, self.__kind, self.__speed, self.__gear, self.__color)\n",
    "    \n",
    "    def upGear(self):\n",
    "        if (self.__gear <= 2):\n",
    "            self.__gear += 1\n",
    "    def downGear(self):\n",
    "        if (self.__gear >= 4):\n",
    "            self.__gear -= 1\n",
    "    def upSpeed(self):\n",
    "        if (self.__speed <= 40):\n",
    "            self.__speed += 20\n",
    "    def downSpeed(self):\n",
    "        if (self.__speed >= 100):\n",
    "            self.__speed -= 20    \n",
    "    \n",
    "    \n",
    "myCar = Car(\"홍길동\", \"sonata\", 100, 5, \"Green\")\n",
    "print(myCar)\n",
    "myCar.downGear()\n",
    "myCar.downSpeed()\n",
    "print(myCar)"
   ]
  },
  {
   "cell_type": "code",
   "execution_count": 100,
   "metadata": {},
   "outputs": [
    {
     "name": "stdout",
     "output_type": "stream",
     "text": [
      "(10, 11)\n"
     ]
    }
   ],
   "source": [
    "class Vector2D :\n",
    "    def __init__(self, x, y):\n",
    "        self.x = x\n",
    "        self.y = y\n",
    "        \n",
    "    def __add__(self, other):\n",
    "        return Vector2D(self.x + other.x, self.y + other.y)\n",
    "    def __sub__(self, other):\n",
    "        return Vector2D(self.x - other.x, self.y - other.y)\n",
    "    def __eq__(self, other):\n",
    "        return Vector2D(self.x == other.x, self.y == other.y)\n",
    "    def __str__(self):\n",
    "        return '(%g, %g)' %(self.x, self.y)\n",
    "    \n",
    "u = Vector2D(4, 6)\n",
    "v = Vector2D(6, 5)\n",
    "w = Vector2D(1, 1)\n",
    "a = u + v\n",
    "print(a)"
   ]
  },
  {
   "cell_type": "code",
   "execution_count": 103,
   "metadata": {},
   "outputs": [
    {
     "name": "stdout",
     "output_type": "stream",
     "text": [
      "(10, 11, 5)\n"
     ]
    }
   ],
   "source": [
    "class Vector3D :\n",
    "    def __init__(self, x, y, z):\n",
    "        self.x = x\n",
    "        self.y = y\n",
    "        self.z = z\n",
    "        \n",
    "    def __add__(self, other):\n",
    "        return Vector3D(self.x + other.x, self.y + other.y, self.z + other.z)\n",
    "    def __sub__(self, other):\n",
    "        return Vector3D(self.x - other.x, self.y - other.y, self.z - other.z)\n",
    "    def __eq__(self, other):\n",
    "        return Vector3D(self.x == other.x, self.y == other.y, self.z == other.z)\n",
    "    def __str__(self):\n",
    "        return '(%g, %g, %g)' %(self.x, self.y, self.z)\n",
    "    \n",
    "u3 = Vector3D(4, 6, 3)\n",
    "v3 = Vector3D(6, 5, 2)\n",
    "w3 = Vector3D(1, 1, 5)\n",
    "a3 = u3 + v3\n",
    "print(a3)"
   ]
  },
  {
   "cell_type": "code",
   "execution_count": 106,
   "metadata": {},
   "outputs": [],
   "source": [
    "class Student:\n",
    "    def __init__(self, name = None, no = None, kor = 0, mat = 0, eng = 0):\n",
    "        self.__name = name\n",
    "        self.__no = no\n",
    "        self.__kor = kor\n",
    "        self.__mat = mat\n",
    "        self.__eng = eng\n",
    "    def calcTotalScore(self):\n",
    "        self.__tot = self.__no + self.__mat + self.__eng\n",
    "        \n",
    "    def calcAvg(self):\n",
    "        self.__avg = self.__tot / 3.0\n",
    "    def __str__(self):\n",
    "        return '(%s, %s, %f, %f, %f, %f, %f)' % (self.__name, self.__no, self.__kor, self._mat, self.__eng, self.__avg, self.__tot)\n"
   ]
  },
  {
   "cell_type": "code",
   "execution_count": 110,
   "metadata": {},
   "outputs": [
    {
     "ename": "AttributeError",
     "evalue": "'Student' object has no attribute 'tot'",
     "output_type": "error",
     "traceback": [
      "\u001b[1;31m---------------------------------------------------------------------------\u001b[0m",
      "\u001b[1;31mAttributeError\u001b[0m                            Traceback (most recent call last)",
      "\u001b[1;32m<ipython-input-110-cb6ddc65b093>\u001b[0m in \u001b[0;36m<module>\u001b[1;34m\u001b[0m\n\u001b[0;32m      1\u001b[0m \u001b[0ms1\u001b[0m \u001b[1;33m=\u001b[0m \u001b[0mStudent\u001b[0m\u001b[1;33m(\u001b[0m\u001b[1;34m\"홍길동\"\u001b[0m\u001b[1;33m,\u001b[0m \u001b[1;34m\"9999\"\u001b[0m\u001b[1;33m,\u001b[0m \u001b[1;36m59\u001b[0m\u001b[1;33m,\u001b[0m \u001b[1;36m100\u001b[0m\u001b[1;33m,\u001b[0m \u001b[1;36m100\u001b[0m\u001b[1;33m)\u001b[0m\u001b[1;33m\u001b[0m\u001b[1;33m\u001b[0m\u001b[0m\n\u001b[1;32m----> 2\u001b[1;33m \u001b[0ms1\u001b[0m\u001b[1;33m.\u001b[0m\u001b[0mtot\u001b[0m\u001b[1;33m(\u001b[0m\u001b[1;33m)\u001b[0m\u001b[1;33m\u001b[0m\u001b[1;33m\u001b[0m\u001b[0m\n\u001b[0m\u001b[0;32m      3\u001b[0m \u001b[0ms1\u001b[0m\u001b[1;33m.\u001b[0m\u001b[0mavg\u001b[0m\u001b[1;33m(\u001b[0m\u001b[1;33m)\u001b[0m\u001b[1;33m\u001b[0m\u001b[1;33m\u001b[0m\u001b[0m\n",
      "\u001b[1;31mAttributeError\u001b[0m: 'Student' object has no attribute 'tot'"
     ]
    }
   ],
   "source": [
    "s1 = Student(\"홍길동\", \"9999\", 59, 100, 100)\n",
    "s1.tot()\n",
    "s1.avg()"
   ]
  },
  {
   "cell_type": "code",
   "execution_count": null,
   "metadata": {},
   "outputs": [],
   "source": []
  }
 ],
 "metadata": {
  "kernelspec": {
   "display_name": "Python 3",
   "language": "python",
   "name": "python3"
  },
  "language_info": {
   "codemirror_mode": {
    "name": "ipython",
    "version": 3
   },
   "file_extension": ".py",
   "mimetype": "text/x-python",
   "name": "python",
   "nbconvert_exporter": "python",
   "pygments_lexer": "ipython3",
   "version": "3.7.6"
  }
 },
 "nbformat": 4,
 "nbformat_minor": 4
}
