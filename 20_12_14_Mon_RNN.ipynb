{
  "nbformat": 4,
  "nbformat_minor": 0,
  "metadata": {
    "colab": {
      "name": "20.12.14.Mon.RNN.ipynb",
      "provenance": [],
      "collapsed_sections": [],
      "authorship_tag": "ABX9TyNLttna/WdN828+MsckbdWX",
      "include_colab_link": true
    },
    "kernelspec": {
      "name": "python3",
      "display_name": "Python 3"
    }
  },
  "cells": [
    {
      "cell_type": "markdown",
      "metadata": {
        "id": "view-in-github",
        "colab_type": "text"
      },
      "source": [
        "<a href=\"https://colab.research.google.com/github/gotjd709/AI_class_KSA/blob/main/20_12_14_Mon_RNN.ipynb\" target=\"_parent\"><img src=\"https://colab.research.google.com/assets/colab-badge.svg\" alt=\"Open In Colab\"/></a>"
      ]
    },
    {
      "cell_type": "code",
      "metadata": {
        "colab": {
          "base_uri": "https://localhost:8080/"
        },
        "id": "7ieTJ-TZtIeo",
        "outputId": "d04dd978-f97e-4baa-da11-a913c6c48683"
      },
      "source": [
        "import numpy as np\r\n",
        "import tensorflow as tf\r\n",
        "# input data(mini batch)\r\n",
        "# t = 0\r\n",
        "X0_batch = np.array([[0, 1, 2],\r\n",
        " [3, 4, 5],\r\n",
        " [6, 7, 8],\r\n",
        " [9, 0, 1]], dtype=np.float32)\r\n",
        "# t = 1\r\n",
        "X1_batch = np.array([[9, 8, 7],\r\n",
        " [3, 4, 5],\r\n",
        " [6, 5, 4],\r\n",
        " [3, 2, 1]], dtype=np.float32)\r\n",
        "print(f\"X0_batch = {X0_batch.shape}\")\r\n",
        "print(f\"X1_batch = {X1_batch.shape}\")"
      ],
      "execution_count": 3,
      "outputs": [
        {
          "output_type": "stream",
          "text": [
            "X0_batch = (4, 3)\n",
            "X1_batch = (4, 3)\n"
          ],
          "name": "stdout"
        }
      ]
    },
    {
      "cell_type": "code",
      "metadata": {
        "colab": {
          "base_uri": "https://localhost:8080/"
        },
        "id": "GeyOkIysHT5l",
        "outputId": "39c79cbe-4889-4773-9eb9-6fb3745bdc1a"
      },
      "source": [
        "# input data(mini batch)\r\n",
        "...\r\n",
        "hidden_size = 2\r\n",
        "Wx = tf.Variable(tf.random.normal([3, hidden_size], dtype=tf.float32))\r\n",
        "Wy = tf.Variable(tf.random.normal([hidden_size, hidden_size], dtype=tf.float32))\r\n",
        "b = tf.Variable(tf.zeros([1, hidden_size], dtype=tf.float32))\r\n",
        "@tf.function\r\n",
        "def run(X0, X1):\r\n",
        " Y0 = tf.tanh(tf.matmul(X0, Wx) + b)\r\n",
        " Y1 = tf.tanh(tf.matmul(Y0, Wy) + tf.matmul(X1, Wx) + b)\r\n",
        " return Y0, Y1\r\n",
        "_Y0, _Y1 = run(X0_batch, X1_batch)\r\n",
        "print(f\"Y0:{_Y0.shape}\\n{_Y0}\")\r\n",
        "print(f\"Y1:{_Y1.shape}\\n{_Y1}\")\r\n"
      ],
      "execution_count": 4,
      "outputs": [
        {
          "output_type": "stream",
          "text": [
            "Y0:(4, 2)\n",
            "[[ 0.04094705  0.18347883]\n",
            " [-0.98887855  0.9632678 ]\n",
            " [-0.9999423   0.99898565]\n",
            " [-0.999996    1.        ]]\n",
            "Y1:(4, 2)\n",
            "[[-0.9999997   0.99993724]\n",
            " [-0.95863134  0.99704844]\n",
            " [-0.9998039   0.99983674]\n",
            " [-0.96256304  0.99399865]]\n"
          ],
          "name": "stdout"
        }
      ]
    },
    {
      "cell_type": "code",
      "metadata": {
        "colab": {
          "base_uri": "https://localhost:8080/"
        },
        "id": "Ec88Wm_CHs7R",
        "outputId": "32bb7f76-4490-4636-a540-04802c9072cc"
      },
      "source": [
        "import numpy as np\r\n",
        "import tensorflow as tf\r\n",
        "from tensorflow.keras import layers\r\n",
        "# one hot encoding\r\n",
        "h = [1, 0, 0, 0]\r\n",
        "e = [0, 1, 0, 0]\r\n",
        "l = [0, 0, 1, 0]\r\n",
        "o = [0, 0, 0, 1]\r\n",
        "sequence_length = 1\r\n",
        "x_data = np.array([[h]], dtype=np.float32)\r\n",
        "hidden_size = 2\r\n",
        "cell = layers.SimpleRNNCell(units=hidden_size)\r\n",
        "rnn = layers.RNN(cell, return_sequences=True, return_state=True)\r\n",
        "outputs, states = rnn(x_data)\r\n",
        "print(f\"x_data = {x_data.shape}\\n{x_data}\")\r\n",
        "print(f\"outputs = {outputs.shape}\\n{outputs}\")\r\n",
        "print(f\"states = {states.shape}\\n{states}\")"
      ],
      "execution_count": 7,
      "outputs": [
        {
          "output_type": "stream",
          "text": [
            "x_data = (1, 1, 4)\n",
            "[[[1. 0. 0. 0.]]]\n",
            "outputs = (1, 1, 2)\n",
            "[[[ 0.5513723 -0.6466778]]]\n",
            "states = (1, 2)\n",
            "[[ 0.5513723 -0.6466778]]\n"
          ],
          "name": "stdout"
        }
      ]
    },
    {
      "cell_type": "code",
      "metadata": {
        "colab": {
          "base_uri": "https://localhost:8080/"
        },
        "id": "bW1qVTw9HxAG",
        "outputId": "9299db2c-4ed3-4b4f-bfb2-4e601ca3496c"
      },
      "source": [
        "import numpy as np\r\n",
        "import tensorflow as tf\r\n",
        "from tensorflow.keras import layers\r\n",
        "# one hot encoding\r\n",
        "h = [1, 0, 0, 0]\r\n",
        "e = [0, 1, 0, 0]\r\n",
        "l = [0, 0, 1, 0]\r\n",
        "o = [0, 0, 0, 1]\r\n",
        "sequence_length = 5\r\n",
        "x_data = np.array([[h, e, l, l, o]], dtype=np.float32)\r\n",
        "hidden_size = 2\r\n",
        "cell = layers.SimpleRNNCell(units=hidden_size)\r\n",
        "rnn = layers.RNN(cell, return_sequences=True, return_state=True)\r\n",
        "outputs, states = rnn(x_data)\r\n",
        "print(f\"x_data = {x_data.shape}\\n{x_data}\")\r\n",
        "print(f\"outputs = {outputs.shape}\\n{outputs}\")\r\n",
        "print(f\"states = {states.shape}\\n{states}\")"
      ],
      "execution_count": 9,
      "outputs": [
        {
          "output_type": "stream",
          "text": [
            "x_data = (1, 5, 4)\n",
            "[[[1. 0. 0. 0.]\n",
            "  [0. 1. 0. 0.]\n",
            "  [0. 0. 1. 0.]\n",
            "  [0. 0. 1. 0.]\n",
            "  [0. 0. 0. 1.]]]\n",
            "outputs = (1, 5, 2)\n",
            "[[[-0.67581016 -0.64976335]\n",
            "  [ 0.2855474   0.6735734 ]\n",
            "  [-0.5084464   0.11793243]\n",
            "  [-0.41600007  0.79334867]\n",
            "  [-0.66501933  0.67582077]]]\n",
            "states = (1, 2)\n",
            "[[-0.66501933  0.67582077]]\n"
          ],
          "name": "stdout"
        }
      ]
    },
    {
      "cell_type": "code",
      "metadata": {
        "colab": {
          "base_uri": "https://localhost:8080/"
        },
        "id": "kUEyKecKH1T6",
        "outputId": "5f1f0c65-d731-4b46-fdf5-08df29e30ac3"
      },
      "source": [
        "import numpy as np\r\n",
        "import tensorflow as tf\r\n",
        "from tensorflow.keras import layers\r\n",
        "# one hot encoding\r\n",
        "h = [1, 0, 0, 0]\r\n",
        "e = [0, 1, 0, 0]\r\n",
        "l = [0, 0, 1, 0]\r\n",
        "o = [0, 0, 0, 1]\r\n",
        "sequence_length = 5\r\n",
        "x_data = np.array([[h, e, l, l, o],\r\n",
        " [e, l, l, o, h],\r\n",
        " [l, l, o, h, e]], dtype=np.float32)\r\n",
        "hidden_size = 2\r\n",
        "cell = layers.SimpleRNNCell(units=hidden_size)\r\n",
        "rnn = layers.RNN(cell, return_sequences=True, return_state=True)\r\n",
        "outputs, states = rnn(x_data)\r\n",
        "print(f\"x_data = {x_data.shape}\\n{x_data}\")\r\n",
        "print(f\"outputs = {outputs.shape}\\n{outputs}\")\r\n",
        "print(f\"states = {states.shape}\\n{states}\")\r\n"
      ],
      "execution_count": 11,
      "outputs": [
        {
          "output_type": "stream",
          "text": [
            "x_data = (3, 5, 4)\n",
            "[[[1. 0. 0. 0.]\n",
            "  [0. 1. 0. 0.]\n",
            "  [0. 0. 1. 0.]\n",
            "  [0. 0. 1. 0.]\n",
            "  [0. 0. 0. 1.]]\n",
            "\n",
            " [[0. 1. 0. 0.]\n",
            "  [0. 0. 1. 0.]\n",
            "  [0. 0. 1. 0.]\n",
            "  [0. 0. 0. 1.]\n",
            "  [1. 0. 0. 0.]]\n",
            "\n",
            " [[0. 0. 1. 0.]\n",
            "  [0. 0. 1. 0.]\n",
            "  [0. 0. 0. 1.]\n",
            "  [1. 0. 0. 0.]\n",
            "  [0. 1. 0. 0.]]]\n",
            "outputs = (3, 5, 2)\n",
            "[[[ 0.3149435   0.65069366]\n",
            "  [ 0.18671021 -0.19031303]\n",
            "  [-0.826411    0.20033167]\n",
            "  [-0.1378366   0.47910368]\n",
            "  [ 0.5618133  -0.05594476]]\n",
            "\n",
            " [[ 0.03455598  0.47272328]\n",
            "  [-0.56994075 -0.22059636]\n",
            "  [-0.5373646   0.6007741 ]\n",
            "  [ 0.77181756  0.09487037]\n",
            "  [-0.21867627  0.22134   ]]\n",
            "\n",
            " [[-0.72224206  0.16719662]\n",
            "  [-0.23653603  0.44905716]\n",
            "  [ 0.60088164  0.02859289]\n",
            "  [-0.12809323  0.36512488]\n",
            "  [ 0.34598085  0.29643008]]]\n",
            "states = (3, 2)\n",
            "[[ 0.5618133  -0.05594476]\n",
            " [-0.21867627  0.22134   ]\n",
            " [ 0.34598085  0.29643008]]\n"
          ],
          "name": "stdout"
        }
      ]
    },
    {
      "cell_type": "code",
      "metadata": {
        "id": "WlmNcleHH4Pz"
      },
      "source": [
        "import numpy as np\r\n",
        "import tensorflow as tf\r\n",
        "model = tf.keras.Sequential()\r\n",
        "# 64개의 유닛을 가진 완전 연결 층을 모델에 추가\r\n",
        "model.add(tf.keras.layers.Dense(64, activation='relu'))\r\n",
        "# 또 하나를 추가\r\n",
        "model.add(tf.keras.layers.Dense(64, activation='relu'))\r\n",
        "# 10개의 출력 유닛을 가진 소프트맥스 층을 추가\r\n",
        "model.add(tf.keras.layers.Dense(10, activation='softmax'))"
      ],
      "execution_count": 12,
      "outputs": []
    },
    {
      "cell_type": "code",
      "metadata": {
        "id": "aoZtgZrTH78p"
      },
      "source": [
        "import numpy as np\r\n",
        "import tensorflow as tf\r\n",
        "model = tf.keras.Sequential([\r\n",
        " tf.keras.layers.Dense(64, activation='relu', input_shape=(32,)),\r\n",
        " tf.keras.layers.Dense(64, activation='relu'),\r\n",
        " tf.keras.layers.Dense(10, activation='softmax')\r\n",
        "])\r\n",
        "model.compile(optimizer=tf.keras.optimizers.Adam(0.001),\r\n",
        " loss='categorical_crossentropy',\r\n",
        " metrics=['accuracy'])"
      ],
      "execution_count": 13,
      "outputs": []
    },
    {
      "cell_type": "code",
      "metadata": {
        "colab": {
          "base_uri": "https://localhost:8080/"
        },
        "id": "K-X5rJkgICg8",
        "outputId": "0d27f300-4dc1-41fb-877e-b4323cbd89f9"
      },
      "source": [
        "# many to one \r\n",
        "\r\n",
        "import numpy as np\r\n",
        "import tensorflow as tf\r\n",
        "# data\r\n",
        "xa = [[1],[2],[3]]; ya = [4]\r\n",
        "xb = [[2],[3],[4]]; yb = [5]\r\n",
        "xc = [[3],[4],[5]]; yc = [6]\r\n",
        "x = np.array([xa, xb, xc])\r\n",
        "y = np.array([ya, yb, yc])\r\n",
        "print(f\"x.shape = {x.shape}\")\r\n",
        "print(f\"y.shape = {y.shape}\")\r\n",
        "# make a model\r\n",
        "model = tf.keras.Sequential([\r\n",
        " tf.keras.Input(shape=(3,1), name='input'),\r\n",
        " tf.keras.layers.SimpleRNN(100, name='RNN'),\r\n",
        " tf.keras.layers.Dense(1, name='output')\r\n",
        "])\r\n",
        "model.summary()\r\n",
        "# compile\r\n",
        "model.compile(loss='mse', optimizer='adam')\r\n",
        "# run model\r\n",
        "model.fit(x, y, epochs=100, batch_size=1, verbose=0)\r\n",
        "# test model\r\n",
        "print(f\"1, 2, 3 next? {model.predict([[[1],[2],[3]]])}\")\r\n",
        "print(f\"2, 3, 4 next? {model.predict([[[2],[3],[4]]])}\")\r\n",
        "print(f\"3, 4, 5 next? {model.predict([[[3],[4],[5]]])}\")\r\n"
      ],
      "execution_count": 15,
      "outputs": [
        {
          "output_type": "stream",
          "text": [
            "x.shape = (3, 3, 1)\n",
            "y.shape = (3, 1)\n",
            "Model: \"sequential_2\"\n",
            "_________________________________________________________________\n",
            "Layer (type)                 Output Shape              Param #   \n",
            "=================================================================\n",
            "RNN (SimpleRNN)              (None, 100)               10200     \n",
            "_________________________________________________________________\n",
            "output (Dense)               (None, 1)                 101       \n",
            "=================================================================\n",
            "Total params: 10,301\n",
            "Trainable params: 10,301\n",
            "Non-trainable params: 0\n",
            "_________________________________________________________________\n",
            "1, 2, 3 next? [[3.910697]]\n",
            "2, 3, 4 next? [[5.156431]]\n",
            "3, 4, 5 next? [[5.882587]]\n"
          ],
          "name": "stdout"
        }
      ]
    },
    {
      "cell_type": "code",
      "metadata": {
        "colab": {
          "base_uri": "https://localhost:8080/"
        },
        "id": "b1rcYZxzIHKY",
        "outputId": "1e65329b-088d-4bdd-b5ce-9b8105c5ad03"
      },
      "source": [
        "# Functional API version\r\n",
        "\r\n",
        "import numpy as np\r\n",
        "import tensorflow as tf\r\n",
        "# data\r\n",
        "xa = [[1],[2],[3]]; ya = [4]\r\n",
        "xb = [[2],[3],[4]]; yb = [5]\r\n",
        "xc = [[3],[4],[5]]; yc = [6]\r\n",
        "x = np.array([xa, xb, xc])\r\n",
        "y = np.array([ya, yb, yc])\r\n",
        "print(f\"x.shape = {x.shape}\")\r\n",
        "print(f\"y.shape = {y.shape}\")\r\n",
        "# make a model\r\n",
        "input_layer = tf.keras.Input(shape=(3,1), name='input')\r\n",
        "rnn_layer = tf.keras.layers.SimpleRNN(100, name='RNN')(input_layer)\r\n",
        "output_layer = tf.keras.layers.Dense(1, name='output')(rnn_layer)\r\n",
        "model = tf.keras.Model(input_layer, output_layer)\r\n",
        "model.summary()\r\n",
        "# compile\r\n",
        "model.compile(loss='mse', optimizer='adam')\r\n",
        "# run model\r\n",
        "model.fit(x, y, epochs=100, batch_size=1, verbose=0)\r\n",
        "# test model\r\n",
        "print(f\"1, 2, 3 next? {model.predict([[[1],[2],[3]]])}\")\r\n",
        "print(f\"2, 3, 4 next? {model.predict([[[2],[3],[4]]])}\")\r\n",
        "print(f\"3, 4, 5 next? {model.predict([[[3],[4],[5]]])}\")"
      ],
      "execution_count": 16,
      "outputs": [
        {
          "output_type": "stream",
          "text": [
            "x.shape = (3, 3, 1)\n",
            "y.shape = (3, 1)\n",
            "Model: \"functional_3\"\n",
            "_________________________________________________________________\n",
            "Layer (type)                 Output Shape              Param #   \n",
            "=================================================================\n",
            "input (InputLayer)           [(None, 3, 1)]            0         \n",
            "_________________________________________________________________\n",
            "RNN (SimpleRNN)              (None, 100)               10200     \n",
            "_________________________________________________________________\n",
            "output (Dense)               (None, 1)                 101       \n",
            "=================================================================\n",
            "Total params: 10,301\n",
            "Trainable params: 10,301\n",
            "Non-trainable params: 0\n",
            "_________________________________________________________________\n",
            "1, 2, 3 next? [[3.930095]]\n",
            "2, 3, 4 next? [[5.1972966]]\n",
            "3, 4, 5 next? [[5.911331]]\n"
          ],
          "name": "stdout"
        }
      ]
    },
    {
      "cell_type": "code",
      "metadata": {
        "colab": {
          "base_uri": "https://localhost:8080/"
        },
        "id": "eh6uoA2dIKOi",
        "outputId": "8f8d9f04-04de-4f33-9d34-f60c561176e8"
      },
      "source": [
        "# Stacked many to one\r\n",
        "\r\n",
        "import numpy as np\r\n",
        "import tensorflow as tf\r\n",
        "# data\r\n",
        "xa = [[1],[2],[3]]; ya = [4]\r\n",
        "xb = [[2],[3],[4]]; yb = [5]\r\n",
        "xc = [[3],[4],[5]]; yc = [6]\r\n",
        "x = np.array([xa, xb, xc])\r\n",
        "y = np.array([ya, yb, yc])\r\n",
        "print(f\"x.shape = {x.shape}\")\r\n",
        "print(f\"y.shape = {y.shape}\")\r\n",
        "# make a model\r\n",
        "input_layer = tf.keras.Input(shape=(3,1), name='input')\r\n",
        "rnn_layer0 = tf.keras.layers.SimpleRNN(100, return_sequences=True, name='RNN0')(input_layer)\r\n",
        "rnn_layer1 = tf.keras.layers.SimpleRNN(100, name='RNN1')(rnn_layer0)\r\n",
        "output_layer = tf.keras.layers.Dense(1, name='output')(rnn_layer1)\r\n",
        "model = tf.keras.Model(input_layer, output_layer)\r\n",
        "model.summary()\r\n",
        "# compile\r\n",
        "model.compile(loss='mse', optimizer='adam')\r\n",
        "# run model\r\n",
        "model.fit(x, y, epochs=100, batch_size=1, verbose=0)\r\n",
        "# test model\r\n",
        "print(f\"1, 2, 3 next? {model.predict([[[1],[2],[3]]])}\")\r\n",
        "print(f\"2, 3, 4 next? {model.predict([[[2],[3],[4]]])}\")\r\n",
        "print(f\"3, 4, 5 next? {model.predict([[[3],[4],[5]]])}\")\r\n"
      ],
      "execution_count": 17,
      "outputs": [
        {
          "output_type": "stream",
          "text": [
            "x.shape = (3, 3, 1)\n",
            "y.shape = (3, 1)\n",
            "Model: \"functional_5\"\n",
            "_________________________________________________________________\n",
            "Layer (type)                 Output Shape              Param #   \n",
            "=================================================================\n",
            "input (InputLayer)           [(None, 3, 1)]            0         \n",
            "_________________________________________________________________\n",
            "RNN0 (SimpleRNN)             (None, 3, 100)            10200     \n",
            "_________________________________________________________________\n",
            "RNN1 (SimpleRNN)             (None, 100)               20100     \n",
            "_________________________________________________________________\n",
            "output (Dense)               (None, 1)                 101       \n",
            "=================================================================\n",
            "Total params: 30,401\n",
            "Trainable params: 30,401\n",
            "Non-trainable params: 0\n",
            "_________________________________________________________________\n",
            "1, 2, 3 next? [[3.917168]]\n",
            "2, 3, 4 next? [[5.091848]]\n",
            "3, 4, 5 next? [[5.8974648]]\n"
          ],
          "name": "stdout"
        }
      ]
    },
    {
      "cell_type": "code",
      "metadata": {
        "colab": {
          "base_uri": "https://localhost:8080/"
        },
        "id": "LvFQN97WIOkW",
        "outputId": "6ccf7054-e018-4414-e344-35a097e11c41"
      },
      "source": [
        "# many to many\r\n",
        "\r\n",
        "import numpy as np\r\n",
        "import tensorflow as tf\r\n",
        "# data\r\n",
        "xa = [[1],[2],[3]]; ya = [[2],[3],[4]]\r\n",
        "xb = [[2],[3],[4]]; yb = [[3],[4],[5]]\r\n",
        "xc = [[3],[4],[5]]; yc = [[4],[5],[6]]\r\n",
        "x = np.array([xa, xb, xc])\r\n",
        "y = np.array([ya, yb, yc])\r\n",
        "print(f\"x.shape = {x.shape}\")\r\n",
        "print(f\"y.shape = {y.shape}\")\r\n",
        "# make a model\r\n",
        "model = tf.keras.Sequential([\r\n",
        " tf.keras.Input(shape=(3,1), name='input'),\r\n",
        " tf.keras.layers.SimpleRNN(100, return_sequences=True, name='RNN'),\r\n",
        " tf.keras.layers.Dense(1, name='output')\r\n",
        "])\r\n",
        "model.summary()\r\n",
        "# compile\r\n",
        "model.compile(loss='mse', optimizer='adam')\r\n",
        "# run model\r\n",
        "model.fit(x, y, epochs=100, batch_size=1, verbose=0)\r\n",
        "# test model\r\n",
        "print(f\"1, 2, 3 next? {model.predict([[[1],[2],[3]]])}\")\r\n",
        "print(f\"2, 3, 4 next? {model.predict([[[2],[3],[4]]])}\")\r\n",
        "print(f\"3, 4, 5 next? {model.predict([[[3],[4],[5]]])}\")"
      ],
      "execution_count": 18,
      "outputs": [
        {
          "output_type": "stream",
          "text": [
            "x.shape = (3, 3, 1)\n",
            "y.shape = (3, 3, 1)\n",
            "Model: \"sequential_3\"\n",
            "_________________________________________________________________\n",
            "Layer (type)                 Output Shape              Param #   \n",
            "=================================================================\n",
            "RNN (SimpleRNN)              (None, 3, 100)            10200     \n",
            "_________________________________________________________________\n",
            "output (Dense)               (None, 3, 1)              101       \n",
            "=================================================================\n",
            "Total params: 10,301\n",
            "Trainable params: 10,301\n",
            "Non-trainable params: 0\n",
            "_________________________________________________________________\n",
            "1, 2, 3 next? [[[2.079409 ]\n",
            "  [2.989925 ]\n",
            "  [3.9544044]]]\n",
            "2, 3, 4 next? [[[3.06693 ]\n",
            "  [4.120216]\n",
            "  [5.092584]]]\n",
            "3, 4, 5 next? [[[3.8413677]\n",
            "  [4.915263 ]\n",
            "  [5.949472 ]]]\n"
          ],
          "name": "stdout"
        }
      ]
    },
    {
      "cell_type": "code",
      "metadata": {
        "colab": {
          "base_uri": "https://localhost:8080/"
        },
        "id": "xTxlrJLzISGY",
        "outputId": "2eaf67ed-22e5-4abe-aa86-21772b8d53eb"
      },
      "source": [
        "# Functional API\r\n",
        "\r\n",
        "import numpy as np\r\n",
        "import tensorflow as tf\r\n",
        "# data\r\n",
        "xa = [[1],[2],[3]]; ya = [[2],[3],[4]]\r\n",
        "xb = [[2],[3],[4]]; yb = [[3],[4],[5]]\r\n",
        "xc = [[3],[4],[5]]; yc = [[4],[5],[6]]\r\n",
        "x = np.array([xa, xb, xc])\r\n",
        "y = np.array([ya, yb, yc])\r\n",
        "print(f\"x.shape = {x.shape}\")\r\n",
        "print(f\"y.shape = {y.shape}\")\r\n",
        "# make a model\r\n",
        "input_layer = tf.keras.Input(shape=(3,1), name='input')\r\n",
        "rnn_layer = tf.keras.layers.SimpleRNN(100, return_sequences=True, name='RNN')(input_layer)\r\n",
        "# 모든 time slice에 Dense layer를 적용\r\n",
        "output_layer = tf.keras.layers.TimeDistributed(tf.keras.layers.Dense(1), name='output')(rnn_layer)\r\n",
        "model = tf.keras.Model(input_layer, output_layer)\r\n",
        "model.summary()\r\n",
        "# compile\r\n",
        "model.compile(loss='mse', optimizer='adam')\r\n",
        "# run model\r\n",
        "model.fit(x, y, epochs=100, batch_size=1, verbose=0)\r\n",
        "# test model\r\n",
        "print(f\"1, 2, 3 next? {model.predict([[[1],[2],[3]]])}\")\r\n",
        "print(f\"2, 3, 4 next? {model.predict([[[2],[3],[4]]])}\")\r\n",
        "print(f\"3, 4, 5 next? {model.predict([[[3],[4],[5]]])}\")"
      ],
      "execution_count": 19,
      "outputs": [
        {
          "output_type": "stream",
          "text": [
            "x.shape = (3, 3, 1)\n",
            "y.shape = (3, 3, 1)\n",
            "Model: \"functional_7\"\n",
            "_________________________________________________________________\n",
            "Layer (type)                 Output Shape              Param #   \n",
            "=================================================================\n",
            "input (InputLayer)           [(None, 3, 1)]            0         \n",
            "_________________________________________________________________\n",
            "RNN (SimpleRNN)              (None, 3, 100)            10200     \n",
            "_________________________________________________________________\n",
            "output (TimeDistributed)     (None, 3, 1)              101       \n",
            "=================================================================\n",
            "Total params: 10,301\n",
            "Trainable params: 10,301\n",
            "Non-trainable params: 0\n",
            "_________________________________________________________________\n",
            "WARNING:tensorflow:5 out of the last 13 calls to <function Model.make_predict_function.<locals>.predict_function at 0x7f8151794d08> triggered tf.function retracing. Tracing is expensive and the excessive number of tracings could be due to (1) creating @tf.function repeatedly in a loop, (2) passing tensors with different shapes, (3) passing Python objects instead of tensors. For (1), please define your @tf.function outside of the loop. For (2), @tf.function has experimental_relax_shapes=True option that relaxes argument shapes that can avoid unnecessary retracing. For (3), please refer to https://www.tensorflow.org/tutorials/customization/performance#python_or_tensor_args and https://www.tensorflow.org/api_docs/python/tf/function for  more details.\n",
            "1, 2, 3 next? [[[2.0127742]\n",
            "  [2.9899442]\n",
            "  [3.969791 ]]]\n",
            "2, 3, 4 next? [[[3.0689538]\n",
            "  [4.1165495]\n",
            "  [5.0805283]]]\n",
            "3, 4, 5 next? [[[3.939261 ]\n",
            "  [4.9191546]\n",
            "  [5.959715 ]]]\n"
          ],
          "name": "stdout"
        }
      ]
    },
    {
      "cell_type": "code",
      "metadata": {
        "colab": {
          "base_uri": "https://localhost:8080/"
        },
        "id": "fUYoft-7IWpi",
        "outputId": "d6c75f93-6cb6-4ac4-ed5a-84bcd6957968"
      },
      "source": [
        "# Stacked many to many\r\n",
        "\r\n",
        "import numpy as np\r\n",
        "import tensorflow as tf\r\n",
        "# data\r\n",
        "xa = [[1],[2],[3]]; ya = [[2],[3],[4]]\r\n",
        "xb = [[2],[3],[4]]; yb = [[3],[4],[5]]\r\n",
        "xc = [[3],[4],[5]]; yc = [[4],[5],[6]]\r\n",
        "x = np.array([xa, xb, xc])\r\n",
        "y = np.array([ya, yb, yc])\r\n",
        "print(f\"x.shape = {x.shape}\")\r\n",
        "print(f\"y.shape = {y.shape}\")\r\n",
        "# make a model\r\n",
        "input_layer = tf.keras.Input(shape=(3,1), name='input')\r\n",
        "rnn_layer0 = tf.keras.layers.SimpleRNN(100, return_sequences=True, name='RNN0')(input_layer)\r\n",
        "rnn_layer1 = tf.keras.layers.SimpleRNN(100, return_sequences=True, name='RNN1')(rnn_layer0)\r\n",
        "output_layer = tf.keras.layers.TimeDistributed(tf.keras.layers.Dense(1), name='output')(rnn_layer1)\r\n",
        "model = tf.keras.Model(input_layer, output_layer)\r\n",
        "model.summary()\r\n",
        "# compile\r\n",
        "model.compile(loss='mse', optimizer='adam')\r\n",
        "# run model\r\n",
        "model.fit(x, y, epochs=100, batch_size=1, verbose=0)\r\n",
        "# test model\r\n",
        "print(f\"1, 2, 3 next? {model.predict([[[1],[2],[3]]])}\")\r\n",
        "print(f\"2, 3, 4 next? {model.predict([[[2],[3],[4]]])}\")\r\n",
        "print(f\"3, 4, 5 next? {model.predict([[[3],[4],[5]]])}\")"
      ],
      "execution_count": 20,
      "outputs": [
        {
          "output_type": "stream",
          "text": [
            "x.shape = (3, 3, 1)\n",
            "y.shape = (3, 3, 1)\n",
            "Model: \"functional_9\"\n",
            "_________________________________________________________________\n",
            "Layer (type)                 Output Shape              Param #   \n",
            "=================================================================\n",
            "input (InputLayer)           [(None, 3, 1)]            0         \n",
            "_________________________________________________________________\n",
            "RNN0 (SimpleRNN)             (None, 3, 100)            10200     \n",
            "_________________________________________________________________\n",
            "RNN1 (SimpleRNN)             (None, 3, 100)            20100     \n",
            "_________________________________________________________________\n",
            "output (TimeDistributed)     (None, 3, 1)              101       \n",
            "=================================================================\n",
            "Total params: 30,401\n",
            "Trainable params: 30,401\n",
            "Non-trainable params: 0\n",
            "_________________________________________________________________\n",
            "WARNING:tensorflow:5 out of the last 13 calls to <function Model.make_predict_function.<locals>.predict_function at 0x7f81504d02f0> triggered tf.function retracing. Tracing is expensive and the excessive number of tracings could be due to (1) creating @tf.function repeatedly in a loop, (2) passing tensors with different shapes, (3) passing Python objects instead of tensors. For (1), please define your @tf.function outside of the loop. For (2), @tf.function has experimental_relax_shapes=True option that relaxes argument shapes that can avoid unnecessary retracing. For (3), please refer to https://www.tensorflow.org/tutorials/customization/performance#python_or_tensor_args and https://www.tensorflow.org/api_docs/python/tf/function for  more details.\n",
            "1, 2, 3 next? [[[1.896312 ]\n",
            "  [2.9652488]\n",
            "  [3.987849 ]]]\n",
            "2, 3, 4 next? [[[3.1238365]\n",
            "  [4.1342974]\n",
            "  [5.127207 ]]]\n",
            "3, 4, 5 next? [[[3.977939 ]\n",
            "  [4.947735 ]\n",
            "  [5.9674087]]]\n"
          ],
          "name": "stdout"
        }
      ]
    },
    {
      "cell_type": "code",
      "metadata": {
        "colab": {
          "base_uri": "https://localhost:8080/"
        },
        "id": "HQUPi9XzIa7n",
        "outputId": "e2466b3c-e85b-4084-868f-39a34b92fd02"
      },
      "source": [
        "# SimpleRNN 대신 LSTM을 사용\r\n",
        "\r\n",
        "import numpy as np\r\n",
        "import tensorflow as tf\r\n",
        "# data\r\n",
        "xa = [[1],[2],[3]]; ya = [4]\r\n",
        "xb = [[2],[3],[4]]; yb = [5]\r\n",
        "xc = [[3],[4],[5]]; yc = [6]\r\n",
        "x = np.array([xa, xb, xc])\r\n",
        "y = np.array([ya, yb, yc])\r\n",
        "# make a model\r\n",
        "input_layer = tf.keras.Input(shape=(3,1), name='input')\r\n",
        "rnn_layer = tf.keras.layers.LSTM(100, name='RNN')(input_layer)\r\n",
        "output_layer = tf.keras.layers.Dense(1, name='output')(rnn_layer)\r\n",
        "model = tf.keras.Model(input_layer, output_layer)\r\n",
        "model.summary()\r\n",
        "# compile & run\r\n",
        "model.compile(loss='mse', optimizer='adam')\r\n",
        "model.fit(x, y, epochs=100, batch_size=1, verbose=0)\r\n",
        "# test model\r\n",
        "print(f\"1, 2, 3 next? {model.predict([[[1],[2],[3]]])}\")\r\n",
        "print(f\"2, 3, 4 next? {model.predict([[[2],[3],[4]]])}\")\r\n",
        "print(f\"3, 4, 5 next? {model.predict([[[3],[4],[5]]])}\")"
      ],
      "execution_count": 21,
      "outputs": [
        {
          "output_type": "stream",
          "text": [
            "Model: \"functional_11\"\n",
            "_________________________________________________________________\n",
            "Layer (type)                 Output Shape              Param #   \n",
            "=================================================================\n",
            "input (InputLayer)           [(None, 3, 1)]            0         \n",
            "_________________________________________________________________\n",
            "RNN (LSTM)                   (None, 100)               40800     \n",
            "_________________________________________________________________\n",
            "output (Dense)               (None, 1)                 101       \n",
            "=================================================================\n",
            "Total params: 40,901\n",
            "Trainable params: 40,901\n",
            "Non-trainable params: 0\n",
            "_________________________________________________________________\n",
            "WARNING:tensorflow:5 out of the last 13 calls to <function Model.make_predict_function.<locals>.predict_function at 0x7f815341f7b8> triggered tf.function retracing. Tracing is expensive and the excessive number of tracings could be due to (1) creating @tf.function repeatedly in a loop, (2) passing tensors with different shapes, (3) passing Python objects instead of tensors. For (1), please define your @tf.function outside of the loop. For (2), @tf.function has experimental_relax_shapes=True option that relaxes argument shapes that can avoid unnecessary retracing. For (3), please refer to https://www.tensorflow.org/tutorials/customization/performance#python_or_tensor_args and https://www.tensorflow.org/api_docs/python/tf/function for  more details.\n",
            "1, 2, 3 next? [[3.8896947]]\n",
            "2, 3, 4 next? [[5.1213493]]\n",
            "3, 4, 5 next? [[5.953287]]\n"
          ],
          "name": "stdout"
        }
      ]
    },
    {
      "cell_type": "code",
      "metadata": {
        "id": "ijrNZTaIdebY"
      },
      "source": [
        "# LSTM을 이용한 주식가격 예측\r\n",
        "# LSTM을 이용한 오존 예측\r\n",
        "# LSTM을 이용한 월 단위 가스 사용량 예측"
      ],
      "execution_count": null,
      "outputs": []
    },
    {
      "cell_type": "code",
      "metadata": {
        "id": "5SIc4nyer_Zk"
      },
      "source": [
        ""
      ],
      "execution_count": null,
      "outputs": []
    }
  ]
}