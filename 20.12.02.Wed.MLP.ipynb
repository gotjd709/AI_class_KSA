{
 "cells": [
  {
   "cell_type": "code",
   "execution_count": 2,
   "metadata": {},
   "outputs": [
    {
     "name": "stdout",
     "output_type": "stream",
     "text": [
      "(0, 0) =>  0\n",
      "(0, 1) =>  0\n",
      "(1, 0) =>  0\n",
      "(1, 1) =>  1\n"
     ]
    }
   ],
   "source": [
    "import numpy as np\n",
    "\n",
    "def AND(x1, x2):\n",
    "    x = np.array([x1, x2])\n",
    "    w = np.array([0.5, 0.5])\n",
    "    b = -0.7\n",
    "    y = np.sum(w*x) + b\n",
    "    if y > 0:\n",
    "        return 1\n",
    "    else:\n",
    "        return 0\n",
    "\n",
    "def main():\n",
    "    print(\"(0, 0) => \", AND(0, 0))\n",
    "    print(\"(0, 1) => \", AND(0, 1))\n",
    "    print(\"(1, 0) => \", AND(1, 0))\n",
    "    print(\"(1, 1) => \", AND(1, 1))\n",
    "    \n",
    "main()"
   ]
  },
  {
   "cell_type": "code",
   "execution_count": 3,
   "metadata": {},
   "outputs": [
    {
     "name": "stdout",
     "output_type": "stream",
     "text": [
      "(0, 0) =>  1\n",
      "(0, 1) =>  1\n",
      "(1, 0) =>  1\n",
      "(1, 1) =>  0\n"
     ]
    }
   ],
   "source": [
    "import numpy as np\n",
    "\n",
    "def NAND(x1, x2):\n",
    "    x = np.array([x1, x2])\n",
    "    w = np.array([-0.5, -0.5])\n",
    "    b = 0.7\n",
    "    y = np.sum(w*x) + b\n",
    "    if y > 0:\n",
    "        return 1\n",
    "    else:\n",
    "        return 0\n",
    "\n",
    "def main():\n",
    "    print(\"(0, 0) => \", NAND(0, 0))\n",
    "    print(\"(0, 1) => \", NAND(0, 1))\n",
    "    print(\"(1, 0) => \", NAND(1, 0))\n",
    "    print(\"(1, 1) => \", NAND(1, 1))\n",
    "    \n",
    "main()"
   ]
  },
  {
   "cell_type": "code",
   "execution_count": 4,
   "metadata": {},
   "outputs": [
    {
     "name": "stdout",
     "output_type": "stream",
     "text": [
      "(0, 0) =>  0\n",
      "(0, 1) =>  1\n",
      "(1, 0) =>  1\n",
      "(1, 1) =>  1\n"
     ]
    }
   ],
   "source": [
    "import numpy as np\n",
    "\n",
    "def OR(x1, x2):\n",
    "    x = np.array([x1, x2])\n",
    "    w = np.array([0.5, 0.5])\n",
    "    b = -0.4\n",
    "    y = np.sum(w*x) + b\n",
    "    if y > 0:\n",
    "        return 1\n",
    "    else:\n",
    "        return 0\n",
    "\n",
    "def main():\n",
    "    print(\"(0, 0) => \", OR(0, 0))\n",
    "    print(\"(0, 1) => \", OR(0, 1))\n",
    "    print(\"(1, 0) => \", OR(1, 0))\n",
    "    print(\"(1, 1) => \", OR(1, 1))\n",
    "    \n",
    "main()"
   ]
  },
  {
   "cell_type": "code",
   "execution_count": 5,
   "metadata": {},
   "outputs": [
    {
     "name": "stdout",
     "output_type": "stream",
     "text": [
      "(0, 0) =>  0\n",
      "(0, 1) =>  1\n",
      "(1, 0) =>  1\n",
      "(1, 1) =>  0\n"
     ]
    }
   ],
   "source": [
    "def XOR(x1, x2):\n",
    "    s1 = NAND(x1, x2)\n",
    "    s2 = OR(x1, x2)\n",
    "    y = AND(s1, s2)\n",
    "    return y\n",
    "\n",
    "def main():\n",
    "    print(\"(0, 0) => \", XOR(0, 0))\n",
    "    print(\"(0, 1) => \", XOR(0, 1))\n",
    "    print(\"(1, 0) => \", XOR(1, 0))\n",
    "    print(\"(1, 1) => \", XOR(1, 1))\n",
    "    \n",
    "main()"
   ]
  },
  {
   "cell_type": "code",
   "execution_count": 8,
   "metadata": {},
   "outputs": [
    {
     "name": "stdout",
     "output_type": "stream",
     "text": [
      "shape of X = (2,)\n",
      "[1 2]\n",
      "shape of W = (2, 3)\n",
      "[[1 2 3]\n",
      " [4 5 6]]\n",
      "shape of Y = (3,)\n",
      "[ 9 12 15]\n"
     ]
    }
   ],
   "source": [
    "import numpy as np\n",
    "\n",
    "X = np.array([1,2])\n",
    "W = np.array([[1,2,3], \n",
    "              [4,5,6]])\n",
    "Y = np.dot(X, W)\n",
    "\n",
    "print('shape of X =', X.shape)\n",
    "print(X)\n",
    "print('shape of W =', W.shape)\n",
    "print(W)\n",
    "print('shape of Y =', Y.shape)\n",
    "print(Y)"
   ]
  },
  {
   "cell_type": "code",
   "execution_count": 9,
   "metadata": {},
   "outputs": [
    {
     "name": "stdout",
     "output_type": "stream",
     "text": [
      "[0.3 0.7 1.1]\n",
      "[0.57444252 0.66818777 0.75026011]\n"
     ]
    }
   ],
   "source": [
    "import numpy as np\n",
    "\n",
    "def sigmoid(x):\n",
    "    return 1 / (1 + np.exp(-x))\n",
    "\n",
    "X = np.array([1.0, 0.5])\n",
    "\n",
    "W1 = np.array([[0.1, 0.3, 0.5],\n",
    "               [0.2, 0.4, 0.6]])\n",
    "B1 = np.array([0.1, 0.2, 0.3])\n",
    "A1 = np.dot(X, W1) + B1\n",
    "Z1 = sigmoid(A1)\n",
    "\n",
    "print(A1)\n",
    "print(Z1)"
   ]
  },
  {
   "cell_type": "code",
   "execution_count": 11,
   "metadata": {},
   "outputs": [
    {
     "name": "stdout",
     "output_type": "stream",
     "text": [
      "[0.51615984 1.21402696]\n",
      "[0.62624937 0.7710107 ]\n"
     ]
    }
   ],
   "source": [
    "import numpy as np\n",
    "\n",
    "def sigmoid(x):\n",
    "    return 1 / (1 + np.exp(-x))\n",
    "\n",
    "X = np.array([1.0, 0.5])\n",
    "\n",
    "W1 = np.array([[0.1, 0.3, 0.5],\n",
    "               [0.2, 0.4, 0.6]])\n",
    "B1 = np.array([0.1, 0.2, 0.3])\n",
    "A1 = np.dot(X, W1) + B1\n",
    "Z1 = sigmoid(A1)\n",
    "\n",
    "W2 = np.array([[0.1, 0.4],\n",
    "               [0.2, 0.5],\n",
    "               [0.3, 0.6]])\n",
    "B2 = np.array([0.1, 0.2])\n",
    "A2 = np.dot(Z1, W2) + B2\n",
    "Z2 = sigmoid(A2)\n",
    "\n",
    "print(A2)\n",
    "print(Z2)"
   ]
  },
  {
   "cell_type": "code",
   "execution_count": 14,
   "metadata": {},
   "outputs": [
    {
     "name": "stdout",
     "output_type": "stream",
     "text": [
      "[0.31682708 0.69627909]\n"
     ]
    }
   ],
   "source": [
    "import numpy as np\n",
    "\n",
    "def sigmoid(x):\n",
    "    return 1 / (1 + np.exp(-x))\n",
    "\n",
    "X = np.array([1.0, 0.5])\n",
    "\n",
    "W1 = np.array([[0.1, 0.3, 0.5],\n",
    "               [0.2, 0.4, 0.6]])\n",
    "B1 = np.array([0.1, 0.2, 0.3])\n",
    "A1 = np.dot(X, W1) + B1\n",
    "Z1 = sigmoid(A1)\n",
    "\n",
    "W2 = np.array([[0.1, 0.4],\n",
    "               [0.2, 0.5],\n",
    "               [0.3, 0.6]])\n",
    "B2 = np.array([0.1, 0.2])\n",
    "A2 = np.dot(Z1, W2) + B2\n",
    "Z2 = sigmoid(A2)\n",
    "\n",
    "W3 = np.array([[0.1, 0.3],\n",
    "               [0.2, 0.4]])\n",
    "B3 = np.array([0.1, 0.2])\n",
    "A3 = np.dot(Z2, W3) + B3\n",
    "\n",
    "print(A3)"
   ]
  },
  {
   "cell_type": "code",
   "execution_count": 15,
   "metadata": {},
   "outputs": [],
   "source": [
    "def softmax(a):\n",
    "    m = np.max(a)\n",
    "    exp_a = np.exp(a - m)\n",
    "    sum_exp_a = np.sum(exp_a)\n",
    "    y = exp_a / sum_exp_a\n",
    "    return y"
   ]
  },
  {
   "cell_type": "code",
   "execution_count": 16,
   "metadata": {},
   "outputs": [
    {
     "name": "stdout",
     "output_type": "stream",
     "text": [
      "[0.40625907 0.59374093]\n"
     ]
    }
   ],
   "source": [
    "print(softmax(A3))"
   ]
  },
  {
   "cell_type": "code",
   "execution_count": 17,
   "metadata": {},
   "outputs": [
    {
     "data": {
      "image/png": "[encoded data removed]",
      "text/plain": [
       "<Figure size 432x288 with 1 Axes>"
      ]
     },
     "metadata": {
      "needs_background": "light"
     },
     "output_type": "display_data"
    },
    {
     "name": "stdout",
     "output_type": "stream",
     "text": [
      "Optimization terminated successfully.\n",
      "         Current function value: -7.945823\n",
      "         Iterations: 5\n",
      "         Function evaluations: 22\n",
      "         Gradient evaluations: 11\n",
      "[-1.30644003]\n"
     ]
    }
   ],
   "source": [
    "import matplotlib.pyplot as plt\n",
    "from scipy.optimize import fmin_bfgs\n",
    "\n",
    "def f(x):\n",
    "    return x**2 + 10*np.sin(x)\n",
    "\n",
    "x = np.arange(-10, 10, 0.1)\n",
    "plt.plot(x, f(x))\n",
    "plt.show()\n",
    "print(fmin_bfgs(f, -7.0))"
   ]
  },
  {
   "cell_type": "code",
   "execution_count": 18,
   "metadata": {},
   "outputs": [
    {
     "name": "stdout",
     "output_type": "stream",
     "text": [
      "[0.59597282 5.42218566 0.15606428]\n"
     ]
    },
    {
     "data": {
      "image/png": "[encoded data removed]",
      "text/plain": [
       "<Figure size 432x288 with 1 Axes>"
      ]
     },
     "metadata": {
      "needs_background": "light"
     },
     "output_type": "display_data"
    }
   ],
   "source": [
    "import numpy as np\n",
    "import matplotlib.pyplot as plt\n",
    "from scipy.optimize import curve_fit\n",
    "def func(x, a, b, c):\n",
    "    return a * x + b * np.exp(-c * x**2 )\n",
    "x = np.linspace(-5, 5, 101)\n",
    "y = 0.6*x + 5* np.exp(-0.2* x**2) + np.random.rand(101)\n",
    "popt, pcov = curve_fit(func, x, y)\n",
    "print(popt) # 파라메터 (a, b, c), pcov는 공분산\n",
    "yfit = func(x, *popt) # popt를 함수의 a,b,c로 전달\n",
    "plt.plot(x, y, 'o', label='data')\n",
    "plt.plot(x, yfit, 'r', label='fitting curve')\n",
    "plt.legend()\n",
    "plt.xlabel('x')\n",
    "plt.ylabel('y')\n",
    "plt.show()\n"
   ]
  },
  {
   "cell_type": "code",
   "execution_count": null,
   "metadata": {},
   "outputs": [],
   "source": []
  }
 ],
 "metadata": {
  "kernelspec": {
   "display_name": "Python 3",
   "language": "python",
   "name": "python3"
  },
  "language_info": {
   "codemirror_mode": {
    "name": "ipython",
    "version": 3
   },
   "file_extension": ".py",
   "mimetype": "text/x-python",
   "name": "python",
   "nbconvert_exporter": "python",
   "pygments_lexer": "ipython3",
   "version": "3.7.4"
  }
 },
 "nbformat": 4,
 "nbformat_minor": 4
}
