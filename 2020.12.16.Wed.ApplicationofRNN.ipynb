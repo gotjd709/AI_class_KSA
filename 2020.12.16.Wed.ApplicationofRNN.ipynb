{
  "nbformat": 4,
  "nbformat_minor": 0,
  "metadata": {
    "colab": {
      "name": "2020.12.16.Wed.ApplicationofRNN.ipynb",
      "provenance": [],
      "collapsed_sections": [],
      "authorship_tag": "ABX9TyPbiVzLAFPcHGClsA/ixroY",
      "include_colab_link": true
    },
    "kernelspec": {
      "name": "python3",
      "display_name": "Python 3"
    }
  },
  "cells": [
    {
      "cell_type": "markdown",
      "metadata": {
        "id": "view-in-github",
        "colab_type": "text"
      },
      "source": [
        "<a href=\"https://colab.research.google.com/github/gotjd709/AI_class_KSA/blob/main/2020.12.16.Wed.ApplicationofRNN.ipynb\" target=\"_parent\"><img src=\"https://colab.research.google.com/assets/colab-badge.svg\" alt=\"Open In Colab\"/></a>"
      ]
    },
    {
      "cell_type": "markdown",
      "metadata": {
        "id": "N5gFGcyaJYRw"
      },
      "source": [
        "# 1. Natural language\r\n",
        "1-1 ~ 1-4: 자연어 전처리 과정\r\n",
        "\r\n",
        "1-5: One-hot encoding\r\n",
        "\r\n",
        "1-6: Word Embedding\r\n"
      ]
    },
    {
      "cell_type": "markdown",
      "metadata": {
        "id": "W0c2q0USJncQ"
      },
      "source": [
        "### 1-1. tockenization\r\n",
        "- 주어진 텍스트를 토큰이라 불리는 단위로 나누는 작업"
      ]
    },
    {
      "cell_type": "code",
      "metadata": {
        "colab": {
          "base_uri": "https://localhost:8080/"
        },
        "id": "fFAYoYDxBMJR",
        "outputId": "cb967f2d-442a-4f01-ef34-cd8d1b168dfe"
      },
      "source": [
        "# Tockenization\r\n",
        "\r\n",
        "from tensorflow.keras.preprocessing.text import text_to_word_sequence\r\n",
        "sequence = \"Don't be fooled by the dark sounding name, Mr. Jone's Orphanage is as cheery as cheery goes for a pastry shop.\"\r\n",
        "result = text_to_word_sequence(sequence)\r\n",
        "print(result)\r\n"
      ],
      "execution_count": 2,
      "outputs": [
        {
          "output_type": "stream",
          "text": [
            "[\"don't\", 'be', 'fooled', 'by', 'the', 'dark', 'sounding', 'name', 'mr', \"jone's\", 'orphanage', 'is', 'as', 'cheery', 'as', 'cheery', 'goes', 'for', 'a', 'pastry', 'shop']\n"
          ],
          "name": "stdout"
        }
      ]
    },
    {
      "cell_type": "markdown",
      "metadata": {
        "id": "9zvRLzYWI5CW"
      },
      "source": [
        "### 1-2. Cleaning and Normalization\r\n",
        "\r\n",
        "#### cleaning: 갖고 있는 텍스트로부터 노이즈 데이터를 제거\r\n",
        "- 토큰화 작업에 방해되는 요소를 배제\r\n",
        "- 토큰화 후에 남아 있는 노이즈 제거\r\n",
        "\r\n",
        "\r\n",
        "#### normalization: 표현 방법이 다른 단어들을 통합\r\n",
        "- 대소문자 통합\r\n",
        "- 같은 의미의 단어 통합\r\n",
        "- 불필요한 단어 제거\r\n"
      ]
    },
    {
      "cell_type": "code",
      "metadata": {
        "colab": {
          "base_uri": "https://localhost:8080/"
        },
        "id": "Z6HwazXqIFnf",
        "outputId": "80cb2921-5e04-4e25-e561-e62a8bd292c6"
      },
      "source": [
        "# Cleaning and Normalization\r\n",
        "\r\n",
        "import re\r\n",
        "text = \"I was wondering if anyone out there could enlighten me on this car.\"\r\n",
        "shortword = re.compile(r'\\W*\\b\\w{1,2}\\b') # Regular Expression 객체 반환\r\n",
        "print(shortword.sub('', text)) # Regular Expression과 일치하는 부분을 ''으로 대체\r\n",
        "\r\n",
        "# r string: row string이라고도 하며 escape 문자를 인식하지 않음  \r\n",
        "# escape: back slash \r\n",
        "# re.compile(): 정규표현식 해석 및 객체반환\r\n",
        "# re.findall(): 매치되는 모든 문자열을 리스트로 반환\r\n",
        "# re.sub(): 매치되는 모든 문자열을 다른 문자열로 대체\r\n",
        "# re.search(): 매치여부를 검사\r\n",
        "# 정규표현식의 연습 사이트: https://regexr.com/"
      ],
      "execution_count": 4,
      "outputs": [
        {
          "output_type": "stream",
          "text": [
            " was wondering anyone out there could enlighten this car.\n"
          ],
          "name": "stdout"
        }
      ]
    },
    {
      "cell_type": "markdown",
      "metadata": {
        "id": "LX_lDdHGQQsZ"
      },
      "source": [
        "### 1-3. Integer Encoding\r\n",
        "- 텍스트를 숫자로 바꾸는 기법"
      ]
    },
    {
      "cell_type": "code",
      "metadata": {
        "colab": {
          "base_uri": "https://localhost:8080/"
        },
        "id": "vll32DyNQesf",
        "outputId": "c2581eab-5e9f-4b73-95fc-b9a70ba7f258"
      },
      "source": [
        "from tensorflow.keras.preprocessing.text import text_to_word_sequence\r\n",
        "from tensorflow.keras.preprocessing.text import Tokenizer\r\n",
        "\r\n",
        "text = \"...\"\r\n",
        "\r\n",
        "sentences = text_to_word_sequence(text) # 단어들의 시퀀스 반환\r\n",
        "\r\n",
        "tokenizer = Tokenizer()\r\n",
        "tokenizer.fit_on_texts(sentences) # 단어들의 빈도수에 따라 정수 부여\r\n",
        "\r\n",
        "from tensorflow.keras.preprocessing.text import text_to_word_sequence\r\n",
        "from tensorflow.keras.preprocessing.text import Tokenizer\r\n",
        "\r\n",
        "text = \"A barber is a person. a barber is good person.\\\r\n",
        " A barber is huge person. he Knew A Secret!\\\r\n",
        " The Secret He kept is huge secret. Huge secret.\\\r\n",
        " His barber kept his word. A barber kept his word.\\\r\n",
        " His barber kept his secret. But keeping and keeping such a huge secret\\\r\n",
        " to himself was driving the barber crazy.\\\r\n",
        " The barber went up a huge mountain.\"\r\n",
        "\r\n",
        "sentences = text_to_word_sequence(text)\r\n",
        "print(sentences)\r\n",
        "\r\n",
        "tokenizer = Tokenizer()\r\n",
        "tokenizer.fit_on_texts(sentences) # 빈도수를 기준으로 단어 집합을 생성\r\n",
        "print(tokenizer.word_index) # 단어의 정수화 결과\r\n",
        "print(tokenizer.word_counts) # 단어의 빈도수 출력"
      ],
      "execution_count": 7,
      "outputs": [
        {
          "output_type": "stream",
          "text": [
            "['a', 'barber', 'is', 'a', 'person', 'a', 'barber', 'is', 'good', 'person', 'a', 'barber', 'is', 'huge', 'person', 'he', 'knew', 'a', 'secret', 'the', 'secret', 'he', 'kept', 'is', 'huge', 'secret', 'huge', 'secret', 'his', 'barber', 'kept', 'his', 'word', 'a', 'barber', 'kept', 'his', 'word', 'his', 'barber', 'kept', 'his', 'secret', 'but', 'keeping', 'and', 'keeping', 'such', 'a', 'huge', 'secret', 'to', 'himself', 'was', 'driving', 'the', 'barber', 'crazy', 'the', 'barber', 'went', 'up', 'a', 'huge', 'mountain']\n",
            "{'a': 1, 'barber': 2, 'secret': 3, 'huge': 4, 'his': 5, 'is': 6, 'kept': 7, 'person': 8, 'the': 9, 'he': 10, 'word': 11, 'keeping': 12, 'good': 13, 'knew': 14, 'but': 15, 'and': 16, 'such': 17, 'to': 18, 'himself': 19, 'was': 20, 'driving': 21, 'crazy': 22, 'went': 23, 'up': 24, 'mountain': 25}\n",
            "OrderedDict([('a', 8), ('barber', 8), ('is', 4), ('person', 3), ('good', 1), ('huge', 5), ('he', 2), ('knew', 1), ('secret', 6), ('the', 3), ('kept', 4), ('his', 5), ('word', 2), ('but', 1), ('keeping', 2), ('and', 1), ('such', 1), ('to', 1), ('himself', 1), ('was', 1), ('driving', 1), ('crazy', 1), ('went', 1), ('up', 1), ('mountain', 1)])\n"
          ],
          "name": "stdout"
        }
      ]
    },
    {
      "cell_type": "code",
      "metadata": {
        "colab": {
          "base_uri": "https://localhost:8080/"
        },
        "id": "IcfrvXYUR14r",
        "outputId": "d8b9ecd9-5b63-4232-ccdf-1a8f6135451f"
      },
      "source": [
        "# Normalization and Integer Encoding\r\n",
        "\r\n",
        "text = \"A barber is a person. a barber is good person.\\\r\n",
        " A barber is huge person. he Knew A Secret!\\\r\n",
        " The Secret He kept is huge secret. Huge secret.\\\r\n",
        " His barber kept his word. A barber kept his word.\\\r\n",
        " His barber kept his secret. But keeping and keeping such a huge secret\\\r\n",
        " to himself was driving the barber crazy.\\\r\n",
        " The barber went up a huge mountain.\"\r\n",
        "\r\n",
        "shortword = re.compile(r'\\W*\\b\\w{1,2}\\b') # Regular Expression 객체 반환\r\n",
        "text = shortword.sub('', text) # Regular Expression과 일치하는 부분을 ''으로 대체\r\n",
        "\r\n",
        "sentences = text_to_word_sequence(text)\r\n",
        "print(sentences)\r\n",
        "\r\n",
        "tokenizer = Tokenizer()\r\n",
        "tokenizer.fit_on_texts(sentences) # 빈도수를 기준으로 단어 집합을 생성\r\n",
        "print(tokenizer.word_index) # 단어의 정수화 결과\r\n",
        "print(tokenizer.word_counts) # 단어의 빈도수 출력\r\n"
      ],
      "execution_count": 9,
      "outputs": [
        {
          "output_type": "stream",
          "text": [
            "['barber', 'person', 'barber', 'good', 'person', 'barber', 'huge', 'person', 'knew', 'secret', 'the', 'secret', 'kept', 'huge', 'secret', 'huge', 'secret', 'his', 'barber', 'kept', 'his', 'word', 'barber', 'kept', 'his', 'word', 'his', 'barber', 'kept', 'his', 'secret', 'but', 'keeping', 'and', 'keeping', 'such', 'huge', 'secret', 'himself', 'was', 'driving', 'the', 'barber', 'crazy', 'the', 'barber', 'went', 'huge', 'mountain']\n",
            "{'barber': 1, 'secret': 2, 'huge': 3, 'his': 4, 'kept': 5, 'person': 6, 'the': 7, 'word': 8, 'keeping': 9, 'good': 10, 'knew': 11, 'but': 12, 'and': 13, 'such': 14, 'himself': 15, 'was': 16, 'driving': 17, 'crazy': 18, 'went': 19, 'mountain': 20}\n",
            "OrderedDict([('barber', 8), ('person', 3), ('good', 1), ('huge', 5), ('knew', 1), ('secret', 6), ('the', 3), ('kept', 4), ('his', 5), ('word', 2), ('but', 1), ('keeping', 2), ('and', 1), ('such', 1), ('himself', 1), ('was', 1), ('driving', 1), ('crazy', 1), ('went', 1), ('mountain', 1)])\n"
          ],
          "name": "stdout"
        }
      ]
    },
    {
      "cell_type": "markdown",
      "metadata": {
        "id": "3wrjhBPdSpMy"
      },
      "source": [
        "### 1-4. Padding\r\n",
        "- 컴퓨터는 길이가 전부 동일한 문서들에 대해서는 하나의 행렬로 처리가 가능하기 때문에 필요한 작업으로 각 문장이 서로 길이가 다를 수 있으므로 문장의 길이를 동일하게 맞춰주는 작업"
      ]
    },
    {
      "cell_type": "code",
      "metadata": {
        "colab": {
          "base_uri": "https://localhost:8080/"
        },
        "id": "0GVqrEPUTF7t",
        "outputId": "590d3782-7b0e-44e9-b5be-54a6150b210b"
      },
      "source": [
        "# Padding\r\n",
        "\r\n",
        "from tensorflow.keras.preprocessing.text import Tokenizer\r\n",
        "from tensorflow.keras.preprocessing.sequence import pad_sequences\r\n",
        "from pprint import pprint\r\n",
        "# pad_sequences: \r\n",
        "# pprint: 보기 좋게 출력해주는 역할\r\n",
        "\r\n",
        "sentences = [['barber', 'person'],\r\n",
        " ['barber', 'good', 'person'],\r\n",
        " ['knew', 'secret'],\r\n",
        " ['secret', 'kept', 'huge', 'secret'],\r\n",
        " ['barber', 'kept', 'word'],\r\n",
        " ['barber', 'kept', 'secret'],\r\n",
        " ['keeping', 'keeping', 'huge', 'secret', 'driving', 'barber', 'crazy'],\r\n",
        " ['barber', 'went', 'huge', 'mountain']]\r\n",
        "tokenizer = Tokenizer()\r\n",
        "tokenizer.fit_on_texts(sentences)\r\n",
        "\r\n",
        "encoded = tokenizer.texts_to_sequences(sentences)\r\n",
        "pprint(encoded)\r\n",
        "\r\n",
        "padded = pad_sequences(encoded, padding='post') #post는 뒤에서부터 0을 붙이는 역할\r\n",
        "print(f\"padded = \\n{padded}\")\r\n"
      ],
      "execution_count": 10,
      "outputs": [
        {
          "output_type": "stream",
          "text": [
            "[[1, 5],\n",
            " [1, 7, 5],\n",
            " [8, 2],\n",
            " [2, 3, 4, 2],\n",
            " [1, 3, 9],\n",
            " [1, 3, 2],\n",
            " [6, 6, 4, 2, 10, 1, 11],\n",
            " [1, 12, 4, 13]]\n",
            "padded = \n",
            "[[ 1  5  0  0  0  0  0]\n",
            " [ 1  7  5  0  0  0  0]\n",
            " [ 8  2  0  0  0  0  0]\n",
            " [ 2  3  4  2  0  0  0]\n",
            " [ 1  3  9  0  0  0  0]\n",
            " [ 1  3  2  0  0  0  0]\n",
            " [ 6  6  4  2 10  1 11]\n",
            " [ 1 12  4 13  0  0  0]]\n"
          ],
          "name": "stdout"
        }
      ]
    },
    {
      "cell_type": "markdown",
      "metadata": {
        "id": "TGO6c7uPU8-q"
      },
      "source": [
        "### 1-5. One-hot encoding\r\n",
        "- 고차원 벡터 (단어 집합의 크기)\r\n",
        "- 희소 벡터 \r\n",
        "- 단어 집합의 최대크기를 벡터의 차원으로 설정\r\n",
        "- 표현하고 싶은 단어의 인덱스에 1의 값을 부여하고, 다른 인덱스에는 0을 부여하는 단어의 벡터 표현 방식\r\n",
        "\r\n"
      ]
    },
    {
      "cell_type": "code",
      "metadata": {
        "colab": {
          "base_uri": "https://localhost:8080/"
        },
        "id": "pNwUuFp_VN9d",
        "outputId": "1029b9db-8b84-4440-d26b-ae4b9bdae96a"
      },
      "source": [
        "# One-hot encoding\r\n",
        "\r\n",
        "from tensorflow.keras.preprocessing.text import Tokenizer\r\n",
        "from tensorflow.keras.utils import to_categorical\r\n",
        "\r\n",
        "text=\"A barber is a person. He is good person. He is huge person.\"\r\n",
        "tokenizer = Tokenizer()\r\n",
        "tokenizer.fit_on_texts([text])\r\n",
        "print(tokenizer.word_index)\r\n",
        "\r\n",
        "sub_text = \"He is good person.\"\r\n",
        "encoded = tokenizer.texts_to_sequences([sub_text])\r\n",
        "pprint(encoded[0])\r\n",
        "\r\n",
        "one_hot = to_categorical(encoded[0])\r\n",
        "print(f\"one_hot = \\n{one_hot}\")\r\n"
      ],
      "execution_count": 11,
      "outputs": [
        {
          "output_type": "stream",
          "text": [
            "{'is': 1, 'person': 2, 'a': 3, 'he': 4, 'barber': 5, 'good': 6, 'huge': 7}\n",
            "[4, 1, 6, 2]\n",
            "one_hot = \n",
            "[[0. 0. 0. 0. 1. 0. 0.]\n",
            " [0. 1. 0. 0. 0. 0. 0.]\n",
            " [0. 0. 0. 0. 0. 0. 1.]\n",
            " [0. 0. 1. 0. 0. 0. 0.]]\n"
          ],
          "name": "stdout"
        }
      ]
    },
    {
      "cell_type": "markdown",
      "metadata": {
        "id": "aRjZafffVU94"
      },
      "source": [
        "### 1-6. Word Embedding\r\n",
        "- 저차원 벡터\r\n",
        "- 밀집 벡터\r\n",
        "- 단어를 밀집 벡터의 형태로 표현하는 방법\r\n",
        "- 단어의 유사도를 표현하면서도 공간을 효율적으로 사용하는 방법"
      ]
    },
    {
      "cell_type": "markdown",
      "metadata": {
        "id": "7ltzQLJWWF7r"
      },
      "source": [
        "# 2. Sentiment Classification\r\n",
        "텍스트에서 정보를 추출하여 특정 주제에 대한 주관적인 인상, 감정, 태도 등을 파악하는 자연어처리(NLP)의 한 분류\r\n",
        "\r\n",
        "####분석방식\r\n",
        "- 감성단어사전을 이용한 감성분석\r\n",
        "- 텍스트의 문법적 구조 파악을 통한 감성분석\r\n",
        "- 기계학습을 통한 감성분석\r\n"
      ]
    },
    {
      "cell_type": "code",
      "metadata": {
        "id": "M3TxrPUcWj34"
      },
      "source": [
        "# Sentiment Classification\r\n",
        "import numpy as np\r\n",
        "import matplotlib.pyplot as plt\r\n",
        "import tensorflow as tf\r\n",
        "from tensorflow.keras.preprocessing.text import Tokenizer\r\n",
        "from tensorflow.keras.preprocessing.sequence import pad_sequences\r\n",
        "from tensorflow.keras.optimizers import Adam\r\n",
        "from tensorflow.keras import Sequential, Model\r\n",
        "from tensorflow.keras.layers import Embedding, SimpleRNN, TimeDistributed\r\n",
        "from tensorflow.keras.layers import Dropout, Dense\r\n",
        "\r\n",
        "sentences = ['What I cannot create, I do not understand.',\r\n",
        " 'Intellecuals solve problems, geniuses prevent them',\r\n",
        " 'A person who never made a mistake never tied anything new.',\r\n",
        " 'The same equations have the same solutions.']\r\n"
      ],
      "execution_count": 22,
      "outputs": []
    },
    {
      "cell_type": "code",
      "metadata": {
        "colab": {
          "base_uri": "https://localhost:8080/"
        },
        "id": "ZZ6IoXgoeyZO",
        "outputId": "c698f5d2-0c9c-47a2-e935-00497bef3fb0"
      },
      "source": [
        "## tokenizer\r\n",
        "tokenizer = Tokenizer()\r\n",
        "tokenizer.fit_on_texts(sentences) # 각 행에 토큰화를 수행\r\n",
        "x_data = tokenizer.texts_to_sequences(sentences) # 단어를 인덱스로 변환 저장\r\n",
        "print(tokenizer.word_index)\r\n",
        "vocab_size = len(tokenizer.word_index) + 1"
      ],
      "execution_count": 23,
      "outputs": [
        {
          "output_type": "stream",
          "text": [
            "{'i': 1, 'a': 2, 'never': 3, 'the': 4, 'same': 5, 'what': 6, 'cannot': 7, 'create': 8, 'do': 9, 'not': 10, 'understand': 11, 'intellecuals': 12, 'solve': 13, 'problems': 14, 'geniuses': 15, 'prevent': 16, 'them': 17, 'person': 18, 'who': 19, 'made': 20, 'mistake': 21, 'tied': 22, 'anything': 23, 'new': 24, 'equations': 25, 'have': 26, 'solutions': 27}\n"
          ],
          "name": "stdout"
        }
      ]
    },
    {
      "cell_type": "code",
      "metadata": {
        "colab": {
          "base_uri": "https://localhost:8080/"
        },
        "id": "PJOz8RVcey6q",
        "outputId": "a7312a10-771f-4187-a85a-bedae6ae9556"
      },
      "source": [
        "## padding\r\n",
        "sequence_size = max(len(s) for s in x_data)\r\n",
        "print(f\"최대 길이 : {sequence_size}\")\r\n",
        "\r\n",
        "x_data = pad_sequences(sequences=x_data, maxlen=sequence_size,\r\n",
        " padding='post', truncating='post') # 'post'는 오른쪽을 패딩\r\n",
        "y_data = np.array([1, 0, 0, 1]) # 0:albert einstein이 한 말, # 1:richard feyman이 한 말\r\n",
        "\r\n",
        "print(f\"x_data = \\n{x_data}\")\r\n",
        "print(f\"y_data = {y_data}\")"
      ],
      "execution_count": 24,
      "outputs": [
        {
          "output_type": "stream",
          "text": [
            "최대 길이 : 11\n",
            "x_data = \n",
            "[[ 6  1  7  8  1  9 10 11  0  0  0]\n",
            " [12 13 14 15 16 17  0  0  0  0  0]\n",
            " [ 2 18 19  3 20  2 21  3 22 23 24]\n",
            " [ 4  5 25 26  4  5 27  0  0  0  0]]\n",
            "y_data = [1 0 0 1]\n"
          ],
          "name": "stdout"
        }
      ]
    },
    {
      "cell_type": "code",
      "metadata": {
        "colab": {
          "base_uri": "https://localhost:8080/"
        },
        "id": "vj63hSUYezT5",
        "outputId": "7c038313-704d-4a3d-c2c4-680477701f44"
      },
      "source": [
        "## RNN model\r\n",
        "hidden_size = [10, 10]\r\n",
        "nb_classes = 2\r\n",
        "\r\n",
        "model = Sequential()\r\n",
        "model.add(Embedding(input_dim=vocab_size, output_dim=vocab_size))\r\n",
        "model.add(SimpleRNN(units=hidden_size[0], return_sequences=True))\r\n",
        "model.add(TimeDistributed(Dropout(rate=.2)))\r\n",
        "model.add(SimpleRNN(units=hidden_size[1]))\r\n",
        "model.add(Dropout(rate=.2))\r\n",
        "model.add(Dense(units=nb_classes))\r\n",
        "\r\n",
        "model.compile(optimizer='adam',\r\n",
        " loss=tf.losses.SparseCategoricalCrossentropy(from_logits=True),\r\n",
        " metrics=[\"accuracy\"])\r\n",
        "model.summary()\r\n",
        "\r\n",
        "hist = model.fit(x_data, y_data, validation_data=(x_data, y_data),\r\n",
        " verbose=2, batch_size=2, epochs=15)\r\n",
        "model.evaluate(x_data, y_data, batch_size=2, verbose=2)"
      ],
      "execution_count": 25,
      "outputs": [
        {
          "output_type": "stream",
          "text": [
            "Model: \"sequential_5\"\n",
            "_________________________________________________________________\n",
            "Layer (type)                 Output Shape              Param #   \n",
            "=================================================================\n",
            "embedding_5 (Embedding)      (None, None, 28)          784       \n",
            "_________________________________________________________________\n",
            "simple_rnn_10 (SimpleRNN)    (None, None, 10)          390       \n",
            "_________________________________________________________________\n",
            "time_distributed_5 (TimeDist (None, None, 10)          0         \n",
            "_________________________________________________________________\n",
            "simple_rnn_11 (SimpleRNN)    (None, 10)                210       \n",
            "_________________________________________________________________\n",
            "dropout_11 (Dropout)         (None, 10)                0         \n",
            "_________________________________________________________________\n",
            "dense_5 (Dense)              (None, 2)                 22        \n",
            "=================================================================\n",
            "Total params: 1,406\n",
            "Trainable params: 1,406\n",
            "Non-trainable params: 0\n",
            "_________________________________________________________________\n",
            "Epoch 1/15\n",
            "2/2 - 0s - loss: 0.7407 - accuracy: 0.7500 - val_loss: 0.5486 - val_accuracy: 0.7500\n",
            "Epoch 2/15\n",
            "2/2 - 0s - loss: 0.5405 - accuracy: 1.0000 - val_loss: 0.4857 - val_accuracy: 1.0000\n",
            "Epoch 3/15\n",
            "2/2 - 0s - loss: 0.5318 - accuracy: 0.7500 - val_loss: 0.4308 - val_accuracy: 1.0000\n",
            "Epoch 4/15\n",
            "2/2 - 0s - loss: 0.4232 - accuracy: 1.0000 - val_loss: 0.3849 - val_accuracy: 1.0000\n",
            "Epoch 5/15\n",
            "2/2 - 0s - loss: 0.4912 - accuracy: 1.0000 - val_loss: 0.3469 - val_accuracy: 1.0000\n",
            "Epoch 6/15\n",
            "2/2 - 0s - loss: 0.3760 - accuracy: 1.0000 - val_loss: 0.3142 - val_accuracy: 1.0000\n",
            "Epoch 7/15\n",
            "2/2 - 0s - loss: 0.3276 - accuracy: 1.0000 - val_loss: 0.2858 - val_accuracy: 1.0000\n",
            "Epoch 8/15\n",
            "2/2 - 0s - loss: 0.2791 - accuracy: 1.0000 - val_loss: 0.2616 - val_accuracy: 1.0000\n",
            "Epoch 9/15\n",
            "2/2 - 0s - loss: 0.1897 - accuracy: 1.0000 - val_loss: 0.2408 - val_accuracy: 1.0000\n",
            "Epoch 10/15\n",
            "2/2 - 0s - loss: 0.2310 - accuracy: 1.0000 - val_loss: 0.2229 - val_accuracy: 1.0000\n",
            "Epoch 11/15\n",
            "2/2 - 0s - loss: 0.2385 - accuracy: 1.0000 - val_loss: 0.2072 - val_accuracy: 1.0000\n",
            "Epoch 12/15\n",
            "2/2 - 0s - loss: 0.2029 - accuracy: 1.0000 - val_loss: 0.1930 - val_accuracy: 1.0000\n",
            "Epoch 13/15\n",
            "2/2 - 0s - loss: 0.2118 - accuracy: 1.0000 - val_loss: 0.1797 - val_accuracy: 1.0000\n",
            "Epoch 14/15\n",
            "2/2 - 0s - loss: 0.2143 - accuracy: 1.0000 - val_loss: 0.1675 - val_accuracy: 1.0000\n",
            "Epoch 15/15\n",
            "2/2 - 0s - loss: 0.2874 - accuracy: 1.0000 - val_loss: 0.1567 - val_accuracy: 1.0000\n",
            "2/2 - 0s - loss: 0.1567 - accuracy: 1.0000\n"
          ],
          "name": "stdout"
        },
        {
          "output_type": "execute_result",
          "data": {
            "text/plain": [
              "[0.15668928623199463, 1.0]"
            ]
          },
          "metadata": {
            "tags": []
          },
          "execution_count": 25
        }
      ]
    },
    {
      "cell_type": "code",
      "metadata": {
        "colab": {
          "base_uri": "https://localhost:8080/",
          "height": 297
        },
        "id": "tBW3grdrfDZx",
        "outputId": "5fe5811c-fab2-44e1-952a-bbc6c38ccfba"
      },
      "source": [
        "## Reporting\r\n",
        "plt.figure(figsize=(8, 4)) # 8 x 4 inchs\r\n",
        "plt.subplot(1, 2, 1)\r\n",
        "plt.plot(hist.history['loss'])\r\n",
        "plt.title(\"Cost Graph\")\r\n",
        "plt.ylabel(\"cost\")\r\n",
        "plt.subplot(1, 2, 2)\r\n",
        "plt.title(\"Accuracy Graph\")\r\n",
        "plt.ylabel(\"accuracy\")\r\n",
        "plt.plot(hist.history['accuracy'], 'b-', label=\"training accuracy\")\r\n",
        "plt.plot(hist.history['val_accuracy'], 'r:', label=\"validation accuracy\")\r\n",
        "plt.legend()\r\n",
        "plt.tight_layout()\r\n",
        "plt.show()"
      ],
      "execution_count": 26,
      "outputs": [
        {
          "output_type": "display_data",
          "data": {
            "image/png": "[encoded data removed]",
            "text/plain": [
              "<Figure size 576x288 with 2 Axes>"
            ]
          },
          "metadata": {
            "tags": [],
            "needs_background": "light"
          }
        }
      ]
    },
    {
      "cell_type": "markdown",
      "metadata": {
        "id": "yWpFDckbeAJh"
      },
      "source": [
        "# 3. Morpholohy\r\n"
      ]
    },
    {
      "cell_type": "markdown",
      "metadata": {
        "id": "1G8szXMYeHne"
      },
      "source": [
        "### 3-1. Morphological analysis\r\n",
        "- 문장에서 단어의 품사를 분석하는 것"
      ]
    },
    {
      "cell_type": "code",
      "metadata": {
        "id": "KINvR5u6eTjC"
      },
      "source": [
        "sentences = [['I', 'feel', 'hungry'],\r\n",
        " ['tensorflow', 'is', 'very', 'difficult'],\r\n",
        " ['tensorflow', 'is', 'a', 'framework', 'for', 'deep', 'learning'],\r\n",
        " ['tensorflow', 'is', 'very', 'fast', 'changing']]\r\n",
        "pos = [['pronoun', 'verb', 'adjective'],\r\n",
        " ['noun', 'verb', 'adverb', 'adjective'],\r\n",
        " ['noun', 'verb', 'determiner', 'noun', 'preposition', 'adjective', 'noun'],\r\n",
        " ['noun', 'verb', 'adverb', 'adjective', 'verb']]\r\n"
      ],
      "execution_count": 27,
      "outputs": []
    },
    {
      "cell_type": "code",
      "metadata": {
        "colab": {
          "base_uri": "https://localhost:8080/"
        },
        "id": "JmNAUDMCfPV2",
        "outputId": "73cd133b-b226-43fe-ae67-cde5fc080bdf"
      },
      "source": [
        "## 단어 리스트 만들기\r\n",
        "word_list = sum(sentences, []) # flatten\r\n",
        "print(word_list)\r\n"
      ],
      "execution_count": 28,
      "outputs": [
        {
          "output_type": "stream",
          "text": [
            "['I', 'feel', 'hungry', 'tensorflow', 'is', 'very', 'difficult', 'tensorflow', 'is', 'a', 'framework', 'for', 'deep', 'learning', 'tensorflow', 'is', 'very', 'fast', 'changing']\n"
          ],
          "name": "stdout"
        }
      ]
    },
    {
      "cell_type": "code",
      "metadata": {
        "colab": {
          "base_uri": "https://localhost:8080/"
        },
        "id": "XesR_lu6fPka",
        "outputId": "4f8bfd88-4264-4ee7-a984-54c8f8553f89"
      },
      "source": [
        "## creating a token dictionary for word\r\n",
        "word_list = sorted(set(word_list))\r\n",
        "word_list = ['<pad>'] + word_list\r\n",
        "word2idx = {word : idx for idx, word in enumerate(word_list)}\r\n",
        "idx2word = {idx : word for idx, word in enumerate(word_list)}\r\n",
        "print(f\"word2idx = \\n{word2idx}\")\r\n",
        "print(f\"idx2word = \\n{idx2word}\")\r\n",
        "print(f\"len(idx2word) = {len(idx2word)}\")"
      ],
      "execution_count": 29,
      "outputs": [
        {
          "output_type": "stream",
          "text": [
            "word2idx = \n",
            "{'<pad>': 0, 'I': 1, 'a': 2, 'changing': 3, 'deep': 4, 'difficult': 5, 'fast': 6, 'feel': 7, 'for': 8, 'framework': 9, 'hungry': 10, 'is': 11, 'learning': 12, 'tensorflow': 13, 'very': 14}\n",
            "idx2word = \n",
            "{0: '<pad>', 1: 'I', 2: 'a', 3: 'changing', 4: 'deep', 5: 'difficult', 6: 'fast', 7: 'feel', 8: 'for', 9: 'framework', 10: 'hungry', 11: 'is', 12: 'learning', 13: 'tensorflow', 14: 'very'}\n",
            "len(idx2word) = 15\n"
          ],
          "name": "stdout"
        }
      ]
    },
    {
      "cell_type": "code",
      "metadata": {
        "colab": {
          "base_uri": "https://localhost:8080/"
        },
        "id": "WPlVa0KnfPxl",
        "outputId": "0398e855-83ae-49b1-d5a6-3d1e2206499a"
      },
      "source": [
        "# creating a token dictionary for part of speech\r\n",
        "pos_list = sum(pos, [])\r\n",
        "pos_list = sorted(set(pos_list))\r\n",
        "pos_list = ['<pad>'] + pos_list\r\n",
        "pos2idx = {pos : idx for idx, pos in enumerate(pos_list)}\r\n",
        "idx2pos = {idx : pos for idx, pos in enumerate(pos_list)}\r\n",
        "print(f\"pos2idx = \\n{pos2idx}\")\r\n",
        "print(f\"idx2pos = \\n{idx2pos}\")\r\n",
        "print(f\"len(idx2pos) = {len(idx2pos)}\")"
      ],
      "execution_count": 30,
      "outputs": [
        {
          "output_type": "stream",
          "text": [
            "pos2idx = \n",
            "{'<pad>': 0, 'adjective': 1, 'adverb': 2, 'determiner': 3, 'noun': 4, 'preposition': 5, 'pronoun': 6, 'verb': 7}\n",
            "idx2pos = \n",
            "{0: '<pad>', 1: 'adjective', 2: 'adverb', 3: 'determiner', 4: 'noun', 5: 'preposition', 6: 'pronoun', 7: 'verb'}\n",
            "len(idx2pos) = 8\n"
          ],
          "name": "stdout"
        }
      ]
    },
    {
      "cell_type": "code",
      "metadata": {
        "id": "JmUZp5B2fP9w"
      },
      "source": [
        "# converting sequence of tokens to sequence of indices\r\n",
        "max_sequence = 10\r\n",
        "x_data = list(map(lambda sentence : [word2idx.get(token) for token in sentence], sentences))\r\n",
        "y_data = list(map(lambda sentence : [pos2idx.get(token) for token in sentence], pos))"
      ],
      "execution_count": 31,
      "outputs": []
    },
    {
      "cell_type": "code",
      "metadata": {
        "id": "Rr774uBEfQKZ"
      },
      "source": [
        "# padding the sequence of indices\r\n",
        "x_data = pad_sequences(sequences = x_data, maxlen = max_sequence, padding='post')\r\n",
        "x_data_mask = ((x_data != 0) * 1).astype(np.float32)\r\n",
        "x_data_len = list(map(lambda sentence : len(sentence), sentences))\r\n",
        "y_data = pad_sequences(sequences = y_data, maxlen = max_sequence, padding='post')"
      ],
      "execution_count": 32,
      "outputs": []
    },
    {
      "cell_type": "code",
      "metadata": {
        "colab": {
          "base_uri": "https://localhost:8080/"
        },
        "id": "PFTYHXEFfQZK",
        "outputId": "0cc99744-c3b7-4788-b321-367d97744575"
      },
      "source": [
        "# checking data\r\n",
        "print(f\"x_data =\\n{x_data}\")\r\n",
        "print(f\"x_data_len = {x_data_len}\")\r\n",
        "print(f\"x_data_mask =\\n{x_data_mask}\")\r\n",
        "print(f\"y_data = \\n{y_data}\")"
      ],
      "execution_count": 33,
      "outputs": [
        {
          "output_type": "stream",
          "text": [
            "x_data =\n",
            "[[ 1  7 10  0  0  0  0  0  0  0]\n",
            " [13 11 14  5  0  0  0  0  0  0]\n",
            " [13 11  2  9  8  4 12  0  0  0]\n",
            " [13 11 14  6  3  0  0  0  0  0]]\n",
            "x_data_len = [3, 4, 7, 5]\n",
            "x_data_mask =\n",
            "[[1. 1. 1. 0. 0. 0. 0. 0. 0. 0.]\n",
            " [1. 1. 1. 1. 0. 0. 0. 0. 0. 0.]\n",
            " [1. 1. 1. 1. 1. 1. 1. 0. 0. 0.]\n",
            " [1. 1. 1. 1. 1. 0. 0. 0. 0. 0.]]\n",
            "y_data = \n",
            "[[6 7 1 0 0 0 0 0 0 0]\n",
            " [4 7 2 1 0 0 0 0 0 0]\n",
            " [4 7 3 4 5 1 4 0 0 0]\n",
            " [4 7 2 1 7 0 0 0 0 0]]\n"
          ],
          "name": "stdout"
        }
      ]
    },
    {
      "cell_type": "code",
      "metadata": {
        "colab": {
          "base_uri": "https://localhost:8080/"
        },
        "id": "Kn3tZUz1gQ9Z",
        "outputId": "34f24e94-4001-4173-f460-be0f757bac52"
      },
      "source": [
        "# Model\r\n",
        "\r\n",
        "num_classes = len(pos2idx)\r\n",
        "hidden_dim = 10\r\n",
        "\r\n",
        "input_dim = len(word2idx)\r\n",
        "output_dim = len(word2idx)\r\n",
        "one_hot = np.eye(len(word2idx))\r\n",
        "\r\n",
        "model = Sequential()\r\n",
        "model.add(Embedding(input_dim=input_dim, output_dim=output_dim, mask_zero=True,\r\n",
        "                    trainable=False, input_length=max_sequence,\r\n",
        "                    embeddings_initializer=tf.keras.initializers.Constant(one_hot)))\r\n",
        "model.add(SimpleRNN(units=hidden_dim, return_sequences=True))\r\n",
        "model.add(TimeDistributed(Dense(units=num_classes)))\r\n",
        "\r\n",
        "model.compile(optimizer='adam',\r\n",
        "              loss=tf.losses.SparseCategoricalCrossentropy(from_logits=True),\r\n",
        "              metrics=['accuracy'])\r\n",
        "model.summary()"
      ],
      "execution_count": 34,
      "outputs": [
        {
          "output_type": "stream",
          "text": [
            "Model: \"sequential_6\"\n",
            "_________________________________________________________________\n",
            "Layer (type)                 Output Shape              Param #   \n",
            "=================================================================\n",
            "embedding_6 (Embedding)      (None, 10, 15)            225       \n",
            "_________________________________________________________________\n",
            "simple_rnn_12 (SimpleRNN)    (None, 10, 10)            260       \n",
            "_________________________________________________________________\n",
            "time_distributed_6 (TimeDist (None, 10, 8)             88        \n",
            "=================================================================\n",
            "Total params: 573\n",
            "Trainable params: 348\n",
            "Non-trainable params: 225\n",
            "_________________________________________________________________\n"
          ],
          "name": "stdout"
        }
      ]
    },
    {
      "cell_type": "code",
      "metadata": {
        "colab": {
          "base_uri": "https://localhost:8080/"
        },
        "id": "Jhc5EFrOhwup",
        "outputId": "fee24f6b-29f2-458a-806b-724b21b18b23"
      },
      "source": [
        "# 학습 및 평가\r\n",
        "\r\n",
        "hist = model.fit(x_data, y_data,\r\n",
        "                 validation_data=(x_data, y_data),\r\n",
        "                 verbose=2, batch_size=2, epochs=300)\r\n",
        "\r\n",
        "model.evaluate(x_data, y_data, batch_size=2, verbose=2)\r\n",
        "\r\n",
        "y_pred = model.predict(x_data)\r\n",
        "y_pred = np.argmax(y_pred, axis=-1) * x_data_mask\r\n",
        "print(f\"accuracy : {np.mean(y_pred == y_data):.2%}\")\r\n"
      ],
      "execution_count": 36,
      "outputs": [
        {
          "output_type": "stream",
          "text": [
            "Epoch 1/300\n",
            "2/2 - 0s - loss: 0.9945 - accuracy: 0.0526 - val_loss: 0.9882 - val_accuracy: 0.0526\n",
            "Epoch 2/300\n",
            "2/2 - 0s - loss: 0.9868 - accuracy: 0.0526 - val_loss: 0.9804 - val_accuracy: 0.0526\n",
            "Epoch 3/300\n",
            "2/2 - 0s - loss: 0.9793 - accuracy: 0.0526 - val_loss: 0.9727 - val_accuracy: 0.0526\n",
            "Epoch 4/300\n",
            "2/2 - 0s - loss: 0.9707 - accuracy: 0.0526 - val_loss: 0.9652 - val_accuracy: 0.0526\n",
            "Epoch 5/300\n",
            "2/2 - 0s - loss: 0.9631 - accuracy: 0.0526 - val_loss: 0.9578 - val_accuracy: 0.0526\n",
            "Epoch 6/300\n",
            "2/2 - 0s - loss: 0.9564 - accuracy: 0.0526 - val_loss: 0.9502 - val_accuracy: 0.0526\n",
            "Epoch 7/300\n",
            "2/2 - 0s - loss: 0.9490 - accuracy: 0.0526 - val_loss: 0.9427 - val_accuracy: 0.0526\n",
            "Epoch 8/300\n",
            "2/2 - 0s - loss: 0.9408 - accuracy: 0.0526 - val_loss: 0.9354 - val_accuracy: 0.0526\n",
            "Epoch 9/300\n",
            "2/2 - 0s - loss: 0.9343 - accuracy: 0.0526 - val_loss: 0.9281 - val_accuracy: 0.0526\n",
            "Epoch 10/300\n",
            "2/2 - 0s - loss: 0.9259 - accuracy: 0.1053 - val_loss: 0.9210 - val_accuracy: 0.1053\n",
            "Epoch 11/300\n",
            "2/2 - 0s - loss: 0.9199 - accuracy: 0.1053 - val_loss: 0.9138 - val_accuracy: 0.1053\n",
            "Epoch 12/300\n",
            "2/2 - 0s - loss: 0.9119 - accuracy: 0.1053 - val_loss: 0.9068 - val_accuracy: 0.2105\n",
            "Epoch 13/300\n",
            "2/2 - 0s - loss: 0.9054 - accuracy: 0.2105 - val_loss: 0.8997 - val_accuracy: 0.2105\n",
            "Epoch 14/300\n",
            "2/2 - 0s - loss: 0.8978 - accuracy: 0.2105 - val_loss: 0.8928 - val_accuracy: 0.2105\n",
            "Epoch 15/300\n",
            "2/2 - 0s - loss: 0.8906 - accuracy: 0.3158 - val_loss: 0.8860 - val_accuracy: 0.3684\n",
            "Epoch 16/300\n",
            "2/2 - 0s - loss: 0.8849 - accuracy: 0.3684 - val_loss: 0.8790 - val_accuracy: 0.3684\n",
            "Epoch 17/300\n",
            "2/2 - 0s - loss: 0.8769 - accuracy: 0.3684 - val_loss: 0.8723 - val_accuracy: 0.4211\n",
            "Epoch 18/300\n",
            "2/2 - 0s - loss: 0.8704 - accuracy: 0.4211 - val_loss: 0.8655 - val_accuracy: 0.4211\n",
            "Epoch 19/300\n",
            "2/2 - 0s - loss: 0.8642 - accuracy: 0.4211 - val_loss: 0.8587 - val_accuracy: 0.4211\n",
            "Epoch 20/300\n",
            "2/2 - 0s - loss: 0.8577 - accuracy: 0.4211 - val_loss: 0.8520 - val_accuracy: 0.4211\n",
            "Epoch 21/300\n",
            "2/2 - 0s - loss: 0.8507 - accuracy: 0.4211 - val_loss: 0.8453 - val_accuracy: 0.4211\n",
            "Epoch 22/300\n",
            "2/2 - 0s - loss: 0.8441 - accuracy: 0.4211 - val_loss: 0.8387 - val_accuracy: 0.4211\n",
            "Epoch 23/300\n",
            "2/2 - 0s - loss: 0.8370 - accuracy: 0.4211 - val_loss: 0.8323 - val_accuracy: 0.4211\n",
            "Epoch 24/300\n",
            "2/2 - 0s - loss: 0.8306 - accuracy: 0.4211 - val_loss: 0.8258 - val_accuracy: 0.4737\n",
            "Epoch 25/300\n",
            "2/2 - 0s - loss: 0.8241 - accuracy: 0.4737 - val_loss: 0.8194 - val_accuracy: 0.4737\n",
            "Epoch 26/300\n",
            "2/2 - 0s - loss: 0.8181 - accuracy: 0.4737 - val_loss: 0.8129 - val_accuracy: 0.4737\n",
            "Epoch 27/300\n",
            "2/2 - 0s - loss: 0.8117 - accuracy: 0.4737 - val_loss: 0.8065 - val_accuracy: 0.4737\n",
            "Epoch 28/300\n",
            "2/2 - 0s - loss: 0.8045 - accuracy: 0.4737 - val_loss: 0.8002 - val_accuracy: 0.4737\n",
            "Epoch 29/300\n",
            "2/2 - 0s - loss: 0.7985 - accuracy: 0.4737 - val_loss: 0.7939 - val_accuracy: 0.4737\n",
            "Epoch 30/300\n",
            "2/2 - 0s - loss: 0.7929 - accuracy: 0.4737 - val_loss: 0.7875 - val_accuracy: 0.4737\n",
            "Epoch 31/300\n",
            "2/2 - 0s - loss: 0.7863 - accuracy: 0.4737 - val_loss: 0.7812 - val_accuracy: 0.4737\n",
            "Epoch 32/300\n",
            "2/2 - 0s - loss: 0.7802 - accuracy: 0.4737 - val_loss: 0.7749 - val_accuracy: 0.4737\n",
            "Epoch 33/300\n",
            "2/2 - 0s - loss: 0.7729 - accuracy: 0.4737 - val_loss: 0.7688 - val_accuracy: 0.4737\n",
            "Epoch 34/300\n",
            "2/2 - 0s - loss: 0.7671 - accuracy: 0.4737 - val_loss: 0.7626 - val_accuracy: 0.5263\n",
            "Epoch 35/300\n",
            "2/2 - 0s - loss: 0.7610 - accuracy: 0.5263 - val_loss: 0.7565 - val_accuracy: 0.5263\n",
            "Epoch 36/300\n",
            "2/2 - 0s - loss: 0.7548 - accuracy: 0.5263 - val_loss: 0.7504 - val_accuracy: 0.5789\n",
            "Epoch 37/300\n",
            "2/2 - 0s - loss: 0.7492 - accuracy: 0.5789 - val_loss: 0.7442 - val_accuracy: 0.5789\n",
            "Epoch 38/300\n",
            "2/2 - 0s - loss: 0.7426 - accuracy: 0.5789 - val_loss: 0.7382 - val_accuracy: 0.5789\n",
            "Epoch 39/300\n",
            "2/2 - 0s - loss: 0.7372 - accuracy: 0.5789 - val_loss: 0.7321 - val_accuracy: 0.5789\n",
            "Epoch 40/300\n",
            "2/2 - 0s - loss: 0.7302 - accuracy: 0.5789 - val_loss: 0.7261 - val_accuracy: 0.5789\n",
            "Epoch 41/300\n",
            "2/2 - 0s - loss: 0.7245 - accuracy: 0.6842 - val_loss: 0.7202 - val_accuracy: 0.7368\n",
            "Epoch 42/300\n",
            "2/2 - 0s - loss: 0.7192 - accuracy: 0.7368 - val_loss: 0.7141 - val_accuracy: 0.7368\n",
            "Epoch 43/300\n",
            "2/2 - 0s - loss: 0.7125 - accuracy: 0.7368 - val_loss: 0.7082 - val_accuracy: 0.7368\n",
            "Epoch 44/300\n",
            "2/2 - 0s - loss: 0.7067 - accuracy: 0.7368 - val_loss: 0.7023 - val_accuracy: 0.7368\n",
            "Epoch 45/300\n",
            "2/2 - 0s - loss: 0.7014 - accuracy: 0.7368 - val_loss: 0.6963 - val_accuracy: 0.7368\n",
            "Epoch 46/300\n",
            "2/2 - 0s - loss: 0.6948 - accuracy: 0.7368 - val_loss: 0.6905 - val_accuracy: 0.7895\n",
            "Epoch 47/300\n",
            "2/2 - 0s - loss: 0.6893 - accuracy: 0.7895 - val_loss: 0.6847 - val_accuracy: 0.7895\n",
            "Epoch 48/300\n",
            "2/2 - 0s - loss: 0.6836 - accuracy: 0.7895 - val_loss: 0.6788 - val_accuracy: 0.7895\n",
            "Epoch 49/300\n",
            "2/2 - 0s - loss: 0.6774 - accuracy: 0.7895 - val_loss: 0.6731 - val_accuracy: 0.7895\n",
            "Epoch 50/300\n",
            "2/2 - 0s - loss: 0.6720 - accuracy: 0.7895 - val_loss: 0.6674 - val_accuracy: 0.7895\n",
            "Epoch 51/300\n",
            "2/2 - 0s - loss: 0.6664 - accuracy: 0.7895 - val_loss: 0.6616 - val_accuracy: 0.7895\n",
            "Epoch 52/300\n",
            "2/2 - 0s - loss: 0.6599 - accuracy: 0.7895 - val_loss: 0.6560 - val_accuracy: 0.7895\n",
            "Epoch 53/300\n",
            "2/2 - 0s - loss: 0.6549 - accuracy: 0.7895 - val_loss: 0.6504 - val_accuracy: 0.7895\n",
            "Epoch 54/300\n",
            "2/2 - 0s - loss: 0.6492 - accuracy: 0.7895 - val_loss: 0.6448 - val_accuracy: 0.7895\n",
            "Epoch 55/300\n",
            "2/2 - 0s - loss: 0.6431 - accuracy: 0.7895 - val_loss: 0.6393 - val_accuracy: 0.7895\n",
            "Epoch 56/300\n",
            "2/2 - 0s - loss: 0.6380 - accuracy: 0.7895 - val_loss: 0.6338 - val_accuracy: 0.7895\n",
            "Epoch 57/300\n",
            "2/2 - 0s - loss: 0.6326 - accuracy: 0.7895 - val_loss: 0.6283 - val_accuracy: 0.7895\n",
            "Epoch 58/300\n",
            "2/2 - 0s - loss: 0.6274 - accuracy: 0.7895 - val_loss: 0.6228 - val_accuracy: 0.7895\n",
            "Epoch 59/300\n",
            "2/2 - 0s - loss: 0.6215 - accuracy: 0.7895 - val_loss: 0.6174 - val_accuracy: 0.7895\n",
            "Epoch 60/300\n",
            "2/2 - 0s - loss: 0.6162 - accuracy: 0.7895 - val_loss: 0.6120 - val_accuracy: 0.7895\n",
            "Epoch 61/300\n",
            "2/2 - 0s - loss: 0.6110 - accuracy: 0.7895 - val_loss: 0.6066 - val_accuracy: 0.7895\n",
            "Epoch 62/300\n",
            "2/2 - 0s - loss: 0.6052 - accuracy: 0.7895 - val_loss: 0.6014 - val_accuracy: 0.7895\n",
            "Epoch 63/300\n",
            "2/2 - 0s - loss: 0.5997 - accuracy: 0.7895 - val_loss: 0.5962 - val_accuracy: 0.7895\n",
            "Epoch 64/300\n",
            "2/2 - 0s - loss: 0.5953 - accuracy: 0.7895 - val_loss: 0.5908 - val_accuracy: 0.7895\n",
            "Epoch 65/300\n",
            "2/2 - 0s - loss: 0.5892 - accuracy: 0.7895 - val_loss: 0.5857 - val_accuracy: 0.7895\n",
            "Epoch 66/300\n",
            "2/2 - 0s - loss: 0.5847 - accuracy: 0.7895 - val_loss: 0.5805 - val_accuracy: 0.7895\n",
            "Epoch 67/300\n",
            "2/2 - 0s - loss: 0.5795 - accuracy: 0.7895 - val_loss: 0.5753 - val_accuracy: 0.7895\n",
            "Epoch 68/300\n",
            "2/2 - 0s - loss: 0.5741 - accuracy: 0.7895 - val_loss: 0.5702 - val_accuracy: 0.7895\n",
            "Epoch 69/300\n",
            "2/2 - 0s - loss: 0.5691 - accuracy: 0.7895 - val_loss: 0.5652 - val_accuracy: 0.7895\n",
            "Epoch 70/300\n",
            "2/2 - 0s - loss: 0.5641 - accuracy: 0.7895 - val_loss: 0.5602 - val_accuracy: 0.7895\n",
            "Epoch 71/300\n",
            "2/2 - 0s - loss: 0.5590 - accuracy: 0.7895 - val_loss: 0.5552 - val_accuracy: 0.7895\n",
            "Epoch 72/300\n",
            "2/2 - 0s - loss: 0.5537 - accuracy: 0.7895 - val_loss: 0.5504 - val_accuracy: 0.7895\n",
            "Epoch 73/300\n",
            "2/2 - 0s - loss: 0.5494 - accuracy: 0.7895 - val_loss: 0.5454 - val_accuracy: 0.7895\n",
            "Epoch 74/300\n",
            "2/2 - 0s - loss: 0.5443 - accuracy: 0.7895 - val_loss: 0.5406 - val_accuracy: 0.7895\n",
            "Epoch 75/300\n",
            "2/2 - 0s - loss: 0.5396 - accuracy: 0.7895 - val_loss: 0.5357 - val_accuracy: 0.7895\n",
            "Epoch 76/300\n",
            "2/2 - 0s - loss: 0.5342 - accuracy: 0.7895 - val_loss: 0.5310 - val_accuracy: 0.7895\n",
            "Epoch 77/300\n",
            "2/2 - 0s - loss: 0.5302 - accuracy: 0.7895 - val_loss: 0.5262 - val_accuracy: 0.7895\n",
            "Epoch 78/300\n",
            "2/2 - 0s - loss: 0.5251 - accuracy: 0.7895 - val_loss: 0.5215 - val_accuracy: 0.7895\n",
            "Epoch 79/300\n",
            "2/2 - 0s - loss: 0.5207 - accuracy: 0.7895 - val_loss: 0.5168 - val_accuracy: 0.7895\n",
            "Epoch 80/300\n",
            "2/2 - 0s - loss: 0.5154 - accuracy: 0.7895 - val_loss: 0.5122 - val_accuracy: 0.7895\n",
            "Epoch 81/300\n",
            "2/2 - 0s - loss: 0.5113 - accuracy: 0.7895 - val_loss: 0.5076 - val_accuracy: 0.7895\n",
            "Epoch 82/300\n",
            "2/2 - 0s - loss: 0.5067 - accuracy: 0.7895 - val_loss: 0.5030 - val_accuracy: 0.7895\n",
            "Epoch 83/300\n",
            "2/2 - 0s - loss: 0.5018 - accuracy: 0.7895 - val_loss: 0.4986 - val_accuracy: 0.7895\n",
            "Epoch 84/300\n",
            "2/2 - 0s - loss: 0.4972 - accuracy: 0.7895 - val_loss: 0.4942 - val_accuracy: 0.7895\n",
            "Epoch 85/300\n",
            "2/2 - 0s - loss: 0.4934 - accuracy: 0.7895 - val_loss: 0.4897 - val_accuracy: 0.7895\n",
            "Epoch 86/300\n",
            "2/2 - 0s - loss: 0.4885 - accuracy: 0.7895 - val_loss: 0.4853 - val_accuracy: 0.7895\n",
            "Epoch 87/300\n",
            "2/2 - 0s - loss: 0.4843 - accuracy: 0.7895 - val_loss: 0.4810 - val_accuracy: 0.7895\n",
            "Epoch 88/300\n",
            "2/2 - 0s - loss: 0.4799 - accuracy: 0.7895 - val_loss: 0.4767 - val_accuracy: 0.7895\n",
            "Epoch 89/300\n",
            "2/2 - 0s - loss: 0.4759 - accuracy: 0.7895 - val_loss: 0.4724 - val_accuracy: 0.7895\n",
            "Epoch 90/300\n",
            "2/2 - 0s - loss: 0.4716 - accuracy: 0.7895 - val_loss: 0.4681 - val_accuracy: 0.7895\n",
            "Epoch 91/300\n",
            "2/2 - 0s - loss: 0.4673 - accuracy: 0.7895 - val_loss: 0.4639 - val_accuracy: 0.7895\n",
            "Epoch 92/300\n",
            "2/2 - 0s - loss: 0.4629 - accuracy: 0.7895 - val_loss: 0.4597 - val_accuracy: 0.7895\n",
            "Epoch 93/300\n",
            "2/2 - 0s - loss: 0.4589 - accuracy: 0.7895 - val_loss: 0.4556 - val_accuracy: 0.7895\n",
            "Epoch 94/300\n",
            "2/2 - 0s - loss: 0.4548 - accuracy: 0.7895 - val_loss: 0.4515 - val_accuracy: 0.7895\n",
            "Epoch 95/300\n",
            "2/2 - 0s - loss: 0.4505 - accuracy: 0.7895 - val_loss: 0.4475 - val_accuracy: 0.7895\n",
            "Epoch 96/300\n",
            "2/2 - 0s - loss: 0.4468 - accuracy: 0.7895 - val_loss: 0.4435 - val_accuracy: 0.8421\n",
            "Epoch 97/300\n",
            "2/2 - 0s - loss: 0.4425 - accuracy: 0.8421 - val_loss: 0.4395 - val_accuracy: 0.8421\n",
            "Epoch 98/300\n",
            "2/2 - 0s - loss: 0.4384 - accuracy: 0.8421 - val_loss: 0.4356 - val_accuracy: 0.8421\n",
            "Epoch 99/300\n",
            "2/2 - 0s - loss: 0.4350 - accuracy: 0.8421 - val_loss: 0.4317 - val_accuracy: 0.8421\n",
            "Epoch 100/300\n",
            "2/2 - 0s - loss: 0.4309 - accuracy: 0.8421 - val_loss: 0.4278 - val_accuracy: 0.8421\n",
            "Epoch 101/300\n",
            "2/2 - 0s - loss: 0.4271 - accuracy: 0.8421 - val_loss: 0.4240 - val_accuracy: 0.8421\n",
            "Epoch 102/300\n",
            "2/2 - 0s - loss: 0.4228 - accuracy: 0.8421 - val_loss: 0.4202 - val_accuracy: 0.8421\n",
            "Epoch 103/300\n",
            "2/2 - 0s - loss: 0.4195 - accuracy: 0.8421 - val_loss: 0.4165 - val_accuracy: 0.8421\n",
            "Epoch 104/300\n",
            "2/2 - 0s - loss: 0.4155 - accuracy: 0.8421 - val_loss: 0.4128 - val_accuracy: 0.8421\n",
            "Epoch 105/300\n",
            "2/2 - 0s - loss: 0.4118 - accuracy: 0.8421 - val_loss: 0.4091 - val_accuracy: 0.8421\n",
            "Epoch 106/300\n",
            "2/2 - 0s - loss: 0.4085 - accuracy: 0.8421 - val_loss: 0.4054 - val_accuracy: 0.8421\n",
            "Epoch 107/300\n",
            "2/2 - 0s - loss: 0.4044 - accuracy: 0.8421 - val_loss: 0.4018 - val_accuracy: 0.8421\n",
            "Epoch 108/300\n",
            "2/2 - 0s - loss: 0.4009 - accuracy: 0.8421 - val_loss: 0.3983 - val_accuracy: 0.8421\n",
            "Epoch 109/300\n",
            "2/2 - 0s - loss: 0.3973 - accuracy: 0.8421 - val_loss: 0.3948 - val_accuracy: 0.8421\n",
            "Epoch 110/300\n",
            "2/2 - 0s - loss: 0.3941 - accuracy: 0.8421 - val_loss: 0.3912 - val_accuracy: 0.8421\n",
            "Epoch 111/300\n",
            "2/2 - 0s - loss: 0.3902 - accuracy: 0.8421 - val_loss: 0.3877 - val_accuracy: 0.8421\n",
            "Epoch 112/300\n",
            "2/2 - 0s - loss: 0.3871 - accuracy: 0.8421 - val_loss: 0.3842 - val_accuracy: 0.8421\n",
            "Epoch 113/300\n",
            "2/2 - 0s - loss: 0.3836 - accuracy: 0.8421 - val_loss: 0.3808 - val_accuracy: 0.8421\n",
            "Epoch 114/300\n",
            "2/2 - 0s - loss: 0.3798 - accuracy: 0.8421 - val_loss: 0.3775 - val_accuracy: 0.8421\n",
            "Epoch 115/300\n",
            "2/2 - 0s - loss: 0.3769 - accuracy: 0.8421 - val_loss: 0.3741 - val_accuracy: 0.8421\n",
            "Epoch 116/300\n",
            "2/2 - 0s - loss: 0.3731 - accuracy: 0.8421 - val_loss: 0.3708 - val_accuracy: 0.8947\n",
            "Epoch 117/300\n",
            "2/2 - 0s - loss: 0.3702 - accuracy: 0.8947 - val_loss: 0.3675 - val_accuracy: 0.8947\n",
            "Epoch 118/300\n",
            "2/2 - 0s - loss: 0.3669 - accuracy: 0.8947 - val_loss: 0.3642 - val_accuracy: 0.8947\n",
            "Epoch 119/300\n",
            "2/2 - 0s - loss: 0.3636 - accuracy: 0.8947 - val_loss: 0.3609 - val_accuracy: 0.8947\n",
            "Epoch 120/300\n",
            "2/2 - 0s - loss: 0.3600 - accuracy: 0.8947 - val_loss: 0.3577 - val_accuracy: 0.8947\n",
            "Epoch 121/300\n",
            "2/2 - 0s - loss: 0.3572 - accuracy: 0.8947 - val_loss: 0.3545 - val_accuracy: 0.8947\n",
            "Epoch 122/300\n",
            "2/2 - 0s - loss: 0.3540 - accuracy: 0.8947 - val_loss: 0.3514 - val_accuracy: 0.8947\n",
            "Epoch 123/300\n",
            "2/2 - 0s - loss: 0.3505 - accuracy: 0.8947 - val_loss: 0.3483 - val_accuracy: 0.8947\n",
            "Epoch 124/300\n",
            "2/2 - 0s - loss: 0.3477 - accuracy: 0.8947 - val_loss: 0.3452 - val_accuracy: 0.8947\n",
            "Epoch 125/300\n",
            "2/2 - 0s - loss: 0.3444 - accuracy: 0.8947 - val_loss: 0.3421 - val_accuracy: 0.8947\n",
            "Epoch 126/300\n",
            "2/2 - 0s - loss: 0.3412 - accuracy: 0.8947 - val_loss: 0.3391 - val_accuracy: 0.8947\n",
            "Epoch 127/300\n",
            "2/2 - 0s - loss: 0.3383 - accuracy: 0.8947 - val_loss: 0.3362 - val_accuracy: 0.8947\n",
            "Epoch 128/300\n",
            "2/2 - 0s - loss: 0.3356 - accuracy: 0.8947 - val_loss: 0.3332 - val_accuracy: 0.8947\n",
            "Epoch 129/300\n",
            "2/2 - 0s - loss: 0.3324 - accuracy: 0.8947 - val_loss: 0.3302 - val_accuracy: 0.8947\n",
            "Epoch 130/300\n",
            "2/2 - 0s - loss: 0.3297 - accuracy: 0.8947 - val_loss: 0.3273 - val_accuracy: 0.8947\n",
            "Epoch 131/300\n",
            "2/2 - 0s - loss: 0.3267 - accuracy: 0.8947 - val_loss: 0.3244 - val_accuracy: 0.8947\n",
            "Epoch 132/300\n",
            "2/2 - 0s - loss: 0.3238 - accuracy: 0.8947 - val_loss: 0.3215 - val_accuracy: 0.8947\n",
            "Epoch 133/300\n",
            "2/2 - 0s - loss: 0.3207 - accuracy: 0.8947 - val_loss: 0.3187 - val_accuracy: 0.8947\n",
            "Epoch 134/300\n",
            "2/2 - 0s - loss: 0.3179 - accuracy: 0.8947 - val_loss: 0.3159 - val_accuracy: 0.8947\n",
            "Epoch 135/300\n",
            "2/2 - 0s - loss: 0.3151 - accuracy: 0.8947 - val_loss: 0.3131 - val_accuracy: 0.8947\n",
            "Epoch 136/300\n",
            "2/2 - 0s - loss: 0.3123 - accuracy: 0.8947 - val_loss: 0.3104 - val_accuracy: 0.8947\n",
            "Epoch 137/300\n",
            "2/2 - 0s - loss: 0.3100 - accuracy: 0.8947 - val_loss: 0.3076 - val_accuracy: 0.8947\n",
            "Epoch 138/300\n",
            "2/2 - 0s - loss: 0.3069 - accuracy: 0.8947 - val_loss: 0.3050 - val_accuracy: 0.8947\n",
            "Epoch 139/300\n",
            "2/2 - 0s - loss: 0.3041 - accuracy: 0.8947 - val_loss: 0.3023 - val_accuracy: 0.8947\n",
            "Epoch 140/300\n",
            "2/2 - 0s - loss: 0.3016 - accuracy: 0.8947 - val_loss: 0.2997 - val_accuracy: 0.8947\n",
            "Epoch 141/300\n",
            "2/2 - 0s - loss: 0.2989 - accuracy: 0.8947 - val_loss: 0.2970 - val_accuracy: 0.8947\n",
            "Epoch 142/300\n",
            "2/2 - 0s - loss: 0.2966 - accuracy: 0.8947 - val_loss: 0.2944 - val_accuracy: 0.8947\n",
            "Epoch 143/300\n",
            "2/2 - 0s - loss: 0.2936 - accuracy: 0.8947 - val_loss: 0.2918 - val_accuracy: 0.8947\n",
            "Epoch 144/300\n",
            "2/2 - 0s - loss: 0.2914 - accuracy: 0.8947 - val_loss: 0.2892 - val_accuracy: 0.8947\n",
            "Epoch 145/300\n",
            "2/2 - 0s - loss: 0.2888 - accuracy: 0.8947 - val_loss: 0.2867 - val_accuracy: 0.8947\n",
            "Epoch 146/300\n",
            "2/2 - 0s - loss: 0.2863 - accuracy: 0.8947 - val_loss: 0.2842 - val_accuracy: 0.8947\n",
            "Epoch 147/300\n",
            "2/2 - 0s - loss: 0.2837 - accuracy: 0.8947 - val_loss: 0.2817 - val_accuracy: 0.8947\n",
            "Epoch 148/300\n",
            "2/2 - 0s - loss: 0.2812 - accuracy: 0.8947 - val_loss: 0.2792 - val_accuracy: 0.8947\n",
            "Epoch 149/300\n",
            "2/2 - 0s - loss: 0.2785 - accuracy: 0.8947 - val_loss: 0.2768 - val_accuracy: 0.8947\n",
            "Epoch 150/300\n",
            "2/2 - 0s - loss: 0.2764 - accuracy: 0.8947 - val_loss: 0.2744 - val_accuracy: 0.8947\n",
            "Epoch 151/300\n",
            "2/2 - 0s - loss: 0.2737 - accuracy: 0.8947 - val_loss: 0.2720 - val_accuracy: 0.8947\n",
            "Epoch 152/300\n",
            "2/2 - 0s - loss: 0.2717 - accuracy: 0.8947 - val_loss: 0.2696 - val_accuracy: 0.8947\n",
            "Epoch 153/300\n",
            "2/2 - 0s - loss: 0.2693 - accuracy: 0.8947 - val_loss: 0.2673 - val_accuracy: 0.8947\n",
            "Epoch 154/300\n",
            "2/2 - 0s - loss: 0.2667 - accuracy: 0.8947 - val_loss: 0.2650 - val_accuracy: 0.8947\n",
            "Epoch 155/300\n",
            "2/2 - 0s - loss: 0.2646 - accuracy: 0.8947 - val_loss: 0.2627 - val_accuracy: 0.8947\n",
            "Epoch 156/300\n",
            "2/2 - 0s - loss: 0.2621 - accuracy: 0.8947 - val_loss: 0.2605 - val_accuracy: 0.8947\n",
            "Epoch 157/300\n",
            "2/2 - 0s - loss: 0.2599 - accuracy: 0.8947 - val_loss: 0.2583 - val_accuracy: 0.8947\n",
            "Epoch 158/300\n",
            "2/2 - 0s - loss: 0.2579 - accuracy: 0.8947 - val_loss: 0.2560 - val_accuracy: 0.8947\n",
            "Epoch 159/300\n",
            "2/2 - 0s - loss: 0.2557 - accuracy: 0.8947 - val_loss: 0.2538 - val_accuracy: 0.8947\n",
            "Epoch 160/300\n",
            "2/2 - 0s - loss: 0.2532 - accuracy: 0.8947 - val_loss: 0.2517 - val_accuracy: 0.8947\n",
            "Epoch 161/300\n",
            "2/2 - 0s - loss: 0.2513 - accuracy: 0.8947 - val_loss: 0.2495 - val_accuracy: 0.8947\n",
            "Epoch 162/300\n",
            "2/2 - 0s - loss: 0.2492 - accuracy: 0.8947 - val_loss: 0.2474 - val_accuracy: 0.8947\n",
            "Epoch 163/300\n",
            "2/2 - 0s - loss: 0.2470 - accuracy: 0.8947 - val_loss: 0.2453 - val_accuracy: 0.8947\n",
            "Epoch 164/300\n",
            "2/2 - 0s - loss: 0.2449 - accuracy: 0.8947 - val_loss: 0.2432 - val_accuracy: 0.8947\n",
            "Epoch 165/300\n",
            "2/2 - 0s - loss: 0.2428 - accuracy: 0.8947 - val_loss: 0.2411 - val_accuracy: 0.8947\n",
            "Epoch 166/300\n",
            "2/2 - 0s - loss: 0.2407 - accuracy: 0.8947 - val_loss: 0.2391 - val_accuracy: 0.8947\n",
            "Epoch 167/300\n",
            "2/2 - 0s - loss: 0.2385 - accuracy: 0.8947 - val_loss: 0.2371 - val_accuracy: 0.8947\n",
            "Epoch 168/300\n",
            "2/2 - 0s - loss: 0.2367 - accuracy: 0.8947 - val_loss: 0.2351 - val_accuracy: 0.8947\n",
            "Epoch 169/300\n",
            "2/2 - 0s - loss: 0.2345 - accuracy: 0.8947 - val_loss: 0.2332 - val_accuracy: 0.8947\n",
            "Epoch 170/300\n",
            "2/2 - 0s - loss: 0.2329 - accuracy: 0.8947 - val_loss: 0.2312 - val_accuracy: 0.8947\n",
            "Epoch 171/300\n",
            "2/2 - 0s - loss: 0.2309 - accuracy: 0.8947 - val_loss: 0.2292 - val_accuracy: 0.8947\n",
            "Epoch 172/300\n",
            "2/2 - 0s - loss: 0.2289 - accuracy: 0.8947 - val_loss: 0.2273 - val_accuracy: 0.8947\n",
            "Epoch 173/300\n",
            "2/2 - 0s - loss: 0.2270 - accuracy: 0.8947 - val_loss: 0.2254 - val_accuracy: 0.8947\n",
            "Epoch 174/300\n",
            "2/2 - 0s - loss: 0.2249 - accuracy: 0.8947 - val_loss: 0.2236 - val_accuracy: 0.8947\n",
            "Epoch 175/300\n",
            "2/2 - 0s - loss: 0.2231 - accuracy: 0.8947 - val_loss: 0.2218 - val_accuracy: 0.8947\n",
            "Epoch 176/300\n",
            "2/2 - 0s - loss: 0.2215 - accuracy: 0.8947 - val_loss: 0.2199 - val_accuracy: 0.8947\n",
            "Epoch 177/300\n",
            "2/2 - 0s - loss: 0.2196 - accuracy: 0.8947 - val_loss: 0.2181 - val_accuracy: 0.8947\n",
            "Epoch 178/300\n",
            "2/2 - 0s - loss: 0.2178 - accuracy: 0.8947 - val_loss: 0.2163 - val_accuracy: 0.8947\n",
            "Epoch 179/300\n",
            "2/2 - 0s - loss: 0.2160 - accuracy: 0.8947 - val_loss: 0.2145 - val_accuracy: 0.8947\n",
            "Epoch 180/300\n",
            "2/2 - 0s - loss: 0.2142 - accuracy: 0.8947 - val_loss: 0.2128 - val_accuracy: 0.8947\n",
            "Epoch 181/300\n",
            "2/2 - 0s - loss: 0.2123 - accuracy: 0.8947 - val_loss: 0.2111 - val_accuracy: 0.9474\n",
            "Epoch 182/300\n",
            "2/2 - 0s - loss: 0.2106 - accuracy: 0.9474 - val_loss: 0.2094 - val_accuracy: 0.9474\n",
            "Epoch 183/300\n",
            "2/2 - 0s - loss: 0.2091 - accuracy: 0.9474 - val_loss: 0.2077 - val_accuracy: 0.9474\n",
            "Epoch 184/300\n",
            "2/2 - 0s - loss: 0.2072 - accuracy: 0.9474 - val_loss: 0.2060 - val_accuracy: 0.9474\n",
            "Epoch 185/300\n",
            "2/2 - 0s - loss: 0.2055 - accuracy: 0.9474 - val_loss: 0.2044 - val_accuracy: 0.9474\n",
            "Epoch 186/300\n",
            "2/2 - 0s - loss: 0.2041 - accuracy: 0.9474 - val_loss: 0.2027 - val_accuracy: 0.9474\n",
            "Epoch 187/300\n",
            "2/2 - 0s - loss: 0.2022 - accuracy: 0.9474 - val_loss: 0.2011 - val_accuracy: 0.9474\n",
            "Epoch 188/300\n",
            "2/2 - 0s - loss: 0.2006 - accuracy: 0.9474 - val_loss: 0.1995 - val_accuracy: 0.9474\n",
            "Epoch 189/300\n",
            "2/2 - 0s - loss: 0.1990 - accuracy: 0.9474 - val_loss: 0.1979 - val_accuracy: 0.9474\n",
            "Epoch 190/300\n",
            "2/2 - 0s - loss: 0.1977 - accuracy: 0.9474 - val_loss: 0.1963 - val_accuracy: 0.9474\n",
            "Epoch 191/300\n",
            "2/2 - 0s - loss: 0.1959 - accuracy: 0.9474 - val_loss: 0.1948 - val_accuracy: 0.9474\n",
            "Epoch 192/300\n",
            "2/2 - 0s - loss: 0.1945 - accuracy: 0.9474 - val_loss: 0.1932 - val_accuracy: 0.9474\n",
            "Epoch 193/300\n",
            "2/2 - 0s - loss: 0.1928 - accuracy: 0.9474 - val_loss: 0.1917 - val_accuracy: 0.9474\n",
            "Epoch 194/300\n",
            "2/2 - 0s - loss: 0.1913 - accuracy: 0.9474 - val_loss: 0.1902 - val_accuracy: 0.9474\n",
            "Epoch 195/300\n",
            "2/2 - 0s - loss: 0.1900 - accuracy: 0.9474 - val_loss: 0.1887 - val_accuracy: 0.9474\n",
            "Epoch 196/300\n",
            "2/2 - 0s - loss: 0.1884 - accuracy: 0.9474 - val_loss: 0.1872 - val_accuracy: 0.9474\n",
            "Epoch 197/300\n",
            "2/2 - 0s - loss: 0.1868 - accuracy: 0.9474 - val_loss: 0.1857 - val_accuracy: 0.9474\n",
            "Epoch 198/300\n",
            "2/2 - 0s - loss: 0.1853 - accuracy: 0.9474 - val_loss: 0.1843 - val_accuracy: 0.9474\n",
            "Epoch 199/300\n",
            "2/2 - 0s - loss: 0.1839 - accuracy: 0.9474 - val_loss: 0.1829 - val_accuracy: 0.9474\n",
            "Epoch 200/300\n",
            "2/2 - 0s - loss: 0.1825 - accuracy: 0.9474 - val_loss: 0.1815 - val_accuracy: 0.9474\n",
            "Epoch 201/300\n",
            "2/2 - 0s - loss: 0.1812 - accuracy: 0.9474 - val_loss: 0.1800 - val_accuracy: 0.9474\n",
            "Epoch 202/300\n",
            "2/2 - 0s - loss: 0.1797 - accuracy: 0.9474 - val_loss: 0.1787 - val_accuracy: 0.9474\n",
            "Epoch 203/300\n",
            "2/2 - 0s - loss: 0.1783 - accuracy: 0.9474 - val_loss: 0.1773 - val_accuracy: 0.9474\n",
            "Epoch 204/300\n",
            "2/2 - 0s - loss: 0.1769 - accuracy: 0.9474 - val_loss: 0.1759 - val_accuracy: 0.9474\n",
            "Epoch 205/300\n",
            "2/2 - 0s - loss: 0.1755 - accuracy: 0.9474 - val_loss: 0.1746 - val_accuracy: 1.0000\n",
            "Epoch 206/300\n",
            "2/2 - 0s - loss: 0.1744 - accuracy: 1.0000 - val_loss: 0.1732 - val_accuracy: 1.0000\n",
            "Epoch 207/300\n",
            "2/2 - 0s - loss: 0.1729 - accuracy: 1.0000 - val_loss: 0.1719 - val_accuracy: 1.0000\n",
            "Epoch 208/300\n",
            "2/2 - 0s - loss: 0.1718 - accuracy: 1.0000 - val_loss: 0.1706 - val_accuracy: 1.0000\n",
            "Epoch 209/300\n",
            "2/2 - 0s - loss: 0.1704 - accuracy: 1.0000 - val_loss: 0.1693 - val_accuracy: 1.0000\n",
            "Epoch 210/300\n",
            "2/2 - 0s - loss: 0.1690 - accuracy: 1.0000 - val_loss: 0.1680 - val_accuracy: 1.0000\n",
            "Epoch 211/300\n",
            "2/2 - 0s - loss: 0.1678 - accuracy: 1.0000 - val_loss: 0.1667 - val_accuracy: 1.0000\n",
            "Epoch 212/300\n",
            "2/2 - 0s - loss: 0.1664 - accuracy: 1.0000 - val_loss: 0.1655 - val_accuracy: 1.0000\n",
            "Epoch 213/300\n",
            "2/2 - 0s - loss: 0.1652 - accuracy: 1.0000 - val_loss: 0.1642 - val_accuracy: 1.0000\n",
            "Epoch 214/300\n",
            "2/2 - 0s - loss: 0.1639 - accuracy: 1.0000 - val_loss: 0.1630 - val_accuracy: 1.0000\n",
            "Epoch 215/300\n",
            "2/2 - 0s - loss: 0.1627 - accuracy: 1.0000 - val_loss: 0.1618 - val_accuracy: 1.0000\n",
            "Epoch 216/300\n",
            "2/2 - 0s - loss: 0.1615 - accuracy: 1.0000 - val_loss: 0.1606 - val_accuracy: 1.0000\n",
            "Epoch 217/300\n",
            "2/2 - 0s - loss: 0.1604 - accuracy: 1.0000 - val_loss: 0.1594 - val_accuracy: 1.0000\n",
            "Epoch 218/300\n",
            "2/2 - 0s - loss: 0.1591 - accuracy: 1.0000 - val_loss: 0.1582 - val_accuracy: 1.0000\n",
            "Epoch 219/300\n",
            "2/2 - 0s - loss: 0.1580 - accuracy: 1.0000 - val_loss: 0.1570 - val_accuracy: 1.0000\n",
            "Epoch 220/300\n",
            "2/2 - 0s - loss: 0.1567 - accuracy: 1.0000 - val_loss: 0.1559 - val_accuracy: 1.0000\n",
            "Epoch 221/300\n",
            "2/2 - 0s - loss: 0.1555 - accuracy: 1.0000 - val_loss: 0.1547 - val_accuracy: 1.0000\n",
            "Epoch 222/300\n",
            "2/2 - 0s - loss: 0.1544 - accuracy: 1.0000 - val_loss: 0.1536 - val_accuracy: 1.0000\n",
            "Epoch 223/300\n",
            "2/2 - 0s - loss: 0.1534 - accuracy: 1.0000 - val_loss: 0.1524 - val_accuracy: 1.0000\n",
            "Epoch 224/300\n",
            "2/2 - 0s - loss: 0.1521 - accuracy: 1.0000 - val_loss: 0.1513 - val_accuracy: 1.0000\n",
            "Epoch 225/300\n",
            "2/2 - 0s - loss: 0.1510 - accuracy: 1.0000 - val_loss: 0.1502 - val_accuracy: 1.0000\n",
            "Epoch 226/300\n",
            "2/2 - 0s - loss: 0.1501 - accuracy: 1.0000 - val_loss: 0.1491 - val_accuracy: 1.0000\n",
            "Epoch 227/300\n",
            "2/2 - 0s - loss: 0.1488 - accuracy: 1.0000 - val_loss: 0.1480 - val_accuracy: 1.0000\n",
            "Epoch 228/300\n",
            "2/2 - 0s - loss: 0.1477 - accuracy: 1.0000 - val_loss: 0.1469 - val_accuracy: 1.0000\n",
            "Epoch 229/300\n",
            "2/2 - 0s - loss: 0.1466 - accuracy: 1.0000 - val_loss: 0.1459 - val_accuracy: 1.0000\n",
            "Epoch 230/300\n",
            "2/2 - 0s - loss: 0.1457 - accuracy: 1.0000 - val_loss: 0.1448 - val_accuracy: 1.0000\n",
            "Epoch 231/300\n",
            "2/2 - 0s - loss: 0.1445 - accuracy: 1.0000 - val_loss: 0.1438 - val_accuracy: 1.0000\n",
            "Epoch 232/300\n",
            "2/2 - 0s - loss: 0.1435 - accuracy: 1.0000 - val_loss: 0.1427 - val_accuracy: 1.0000\n",
            "Epoch 233/300\n",
            "2/2 - 0s - loss: 0.1424 - accuracy: 1.0000 - val_loss: 0.1417 - val_accuracy: 1.0000\n",
            "Epoch 234/300\n",
            "2/2 - 0s - loss: 0.1416 - accuracy: 1.0000 - val_loss: 0.1407 - val_accuracy: 1.0000\n",
            "Epoch 235/300\n",
            "2/2 - 0s - loss: 0.1404 - accuracy: 1.0000 - val_loss: 0.1397 - val_accuracy: 1.0000\n",
            "Epoch 236/300\n",
            "2/2 - 0s - loss: 0.1395 - accuracy: 1.0000 - val_loss: 0.1386 - val_accuracy: 1.0000\n",
            "Epoch 237/300\n",
            "2/2 - 0s - loss: 0.1385 - accuracy: 1.0000 - val_loss: 0.1376 - val_accuracy: 1.0000\n",
            "Epoch 238/300\n",
            "2/2 - 0s - loss: 0.1374 - accuracy: 1.0000 - val_loss: 0.1367 - val_accuracy: 1.0000\n",
            "Epoch 239/300\n",
            "2/2 - 0s - loss: 0.1364 - accuracy: 1.0000 - val_loss: 0.1357 - val_accuracy: 1.0000\n",
            "Epoch 240/300\n",
            "2/2 - 0s - loss: 0.1354 - accuracy: 1.0000 - val_loss: 0.1347 - val_accuracy: 1.0000\n",
            "Epoch 241/300\n",
            "2/2 - 0s - loss: 0.1344 - accuracy: 1.0000 - val_loss: 0.1338 - val_accuracy: 1.0000\n",
            "Epoch 242/300\n",
            "2/2 - 0s - loss: 0.1336 - accuracy: 1.0000 - val_loss: 0.1328 - val_accuracy: 1.0000\n",
            "Epoch 243/300\n",
            "2/2 - 0s - loss: 0.1326 - accuracy: 1.0000 - val_loss: 0.1319 - val_accuracy: 1.0000\n",
            "Epoch 244/300\n",
            "2/2 - 0s - loss: 0.1316 - accuracy: 1.0000 - val_loss: 0.1309 - val_accuracy: 1.0000\n",
            "Epoch 245/300\n",
            "2/2 - 0s - loss: 0.1307 - accuracy: 1.0000 - val_loss: 0.1300 - val_accuracy: 1.0000\n",
            "Epoch 246/300\n",
            "2/2 - 0s - loss: 0.1299 - accuracy: 1.0000 - val_loss: 0.1290 - val_accuracy: 1.0000\n",
            "Epoch 247/300\n",
            "2/2 - 0s - loss: 0.1289 - accuracy: 1.0000 - val_loss: 0.1281 - val_accuracy: 1.0000\n",
            "Epoch 248/300\n",
            "2/2 - 0s - loss: 0.1280 - accuracy: 1.0000 - val_loss: 0.1272 - val_accuracy: 1.0000\n",
            "Epoch 249/300\n",
            "2/2 - 0s - loss: 0.1271 - accuracy: 1.0000 - val_loss: 0.1263 - val_accuracy: 1.0000\n",
            "Epoch 250/300\n",
            "2/2 - 0s - loss: 0.1261 - accuracy: 1.0000 - val_loss: 0.1254 - val_accuracy: 1.0000\n",
            "Epoch 251/300\n",
            "2/2 - 0s - loss: 0.1252 - accuracy: 1.0000 - val_loss: 0.1245 - val_accuracy: 1.0000\n",
            "Epoch 252/300\n",
            "2/2 - 0s - loss: 0.1244 - accuracy: 1.0000 - val_loss: 0.1237 - val_accuracy: 1.0000\n",
            "Epoch 253/300\n",
            "2/2 - 0s - loss: 0.1235 - accuracy: 1.0000 - val_loss: 0.1228 - val_accuracy: 1.0000\n",
            "Epoch 254/300\n",
            "2/2 - 0s - loss: 0.1226 - accuracy: 1.0000 - val_loss: 0.1219 - val_accuracy: 1.0000\n",
            "Epoch 255/300\n",
            "2/2 - 0s - loss: 0.1218 - accuracy: 1.0000 - val_loss: 0.1211 - val_accuracy: 1.0000\n",
            "Epoch 256/300\n",
            "2/2 - 0s - loss: 0.1209 - accuracy: 1.0000 - val_loss: 0.1202 - val_accuracy: 1.0000\n",
            "Epoch 257/300\n",
            "2/2 - 0s - loss: 0.1200 - accuracy: 1.0000 - val_loss: 0.1194 - val_accuracy: 1.0000\n",
            "Epoch 258/300\n",
            "2/2 - 0s - loss: 0.1192 - accuracy: 1.0000 - val_loss: 0.1186 - val_accuracy: 1.0000\n",
            "Epoch 259/300\n",
            "2/2 - 0s - loss: 0.1185 - accuracy: 1.0000 - val_loss: 0.1177 - val_accuracy: 1.0000\n",
            "Epoch 260/300\n",
            "2/2 - 0s - loss: 0.1176 - accuracy: 1.0000 - val_loss: 0.1169 - val_accuracy: 1.0000\n",
            "Epoch 261/300\n",
            "2/2 - 0s - loss: 0.1167 - accuracy: 1.0000 - val_loss: 0.1161 - val_accuracy: 1.0000\n",
            "Epoch 262/300\n",
            "2/2 - 0s - loss: 0.1160 - accuracy: 1.0000 - val_loss: 0.1153 - val_accuracy: 1.0000\n",
            "Epoch 263/300\n",
            "2/2 - 0s - loss: 0.1151 - accuracy: 1.0000 - val_loss: 0.1145 - val_accuracy: 1.0000\n",
            "Epoch 264/300\n",
            "2/2 - 0s - loss: 0.1143 - accuracy: 1.0000 - val_loss: 0.1137 - val_accuracy: 1.0000\n",
            "Epoch 265/300\n",
            "2/2 - 0s - loss: 0.1135 - accuracy: 1.0000 - val_loss: 0.1129 - val_accuracy: 1.0000\n",
            "Epoch 266/300\n",
            "2/2 - 0s - loss: 0.1127 - accuracy: 1.0000 - val_loss: 0.1122 - val_accuracy: 1.0000\n",
            "Epoch 267/300\n",
            "2/2 - 0s - loss: 0.1120 - accuracy: 1.0000 - val_loss: 0.1114 - val_accuracy: 1.0000\n",
            "Epoch 268/300\n",
            "2/2 - 0s - loss: 0.1113 - accuracy: 1.0000 - val_loss: 0.1106 - val_accuracy: 1.0000\n",
            "Epoch 269/300\n",
            "2/2 - 0s - loss: 0.1104 - accuracy: 1.0000 - val_loss: 0.1099 - val_accuracy: 1.0000\n",
            "Epoch 270/300\n",
            "2/2 - 0s - loss: 0.1097 - accuracy: 1.0000 - val_loss: 0.1091 - val_accuracy: 1.0000\n",
            "Epoch 271/300\n",
            "2/2 - 0s - loss: 0.1090 - accuracy: 1.0000 - val_loss: 0.1084 - val_accuracy: 1.0000\n",
            "Epoch 272/300\n",
            "2/2 - 0s - loss: 0.1082 - accuracy: 1.0000 - val_loss: 0.1076 - val_accuracy: 1.0000\n",
            "Epoch 273/300\n",
            "2/2 - 0s - loss: 0.1075 - accuracy: 1.0000 - val_loss: 0.1069 - val_accuracy: 1.0000\n",
            "Epoch 274/300\n",
            "2/2 - 0s - loss: 0.1067 - accuracy: 1.0000 - val_loss: 0.1061 - val_accuracy: 1.0000\n",
            "Epoch 275/300\n",
            "2/2 - 0s - loss: 0.1060 - accuracy: 1.0000 - val_loss: 0.1054 - val_accuracy: 1.0000\n",
            "Epoch 276/300\n",
            "2/2 - 0s - loss: 0.1052 - accuracy: 1.0000 - val_loss: 0.1047 - val_accuracy: 1.0000\n",
            "Epoch 277/300\n",
            "2/2 - 0s - loss: 0.1046 - accuracy: 1.0000 - val_loss: 0.1040 - val_accuracy: 1.0000\n",
            "Epoch 278/300\n",
            "2/2 - 0s - loss: 0.1038 - accuracy: 1.0000 - val_loss: 0.1033 - val_accuracy: 1.0000\n",
            "Epoch 279/300\n",
            "2/2 - 0s - loss: 0.1032 - accuracy: 1.0000 - val_loss: 0.1026 - val_accuracy: 1.0000\n",
            "Epoch 280/300\n",
            "2/2 - 0s - loss: 0.1024 - accuracy: 1.0000 - val_loss: 0.1019 - val_accuracy: 1.0000\n",
            "Epoch 281/300\n",
            "2/2 - 0s - loss: 0.1017 - accuracy: 1.0000 - val_loss: 0.1012 - val_accuracy: 1.0000\n",
            "Epoch 282/300\n",
            "2/2 - 0s - loss: 0.1010 - accuracy: 1.0000 - val_loss: 0.1005 - val_accuracy: 1.0000\n",
            "Epoch 283/300\n",
            "2/2 - 0s - loss: 0.1003 - accuracy: 1.0000 - val_loss: 0.0998 - val_accuracy: 1.0000\n",
            "Epoch 284/300\n",
            "2/2 - 0s - loss: 0.0996 - accuracy: 1.0000 - val_loss: 0.0991 - val_accuracy: 1.0000\n",
            "Epoch 285/300\n",
            "2/2 - 0s - loss: 0.0989 - accuracy: 1.0000 - val_loss: 0.0985 - val_accuracy: 1.0000\n",
            "Epoch 286/300\n",
            "2/2 - 0s - loss: 0.0983 - accuracy: 1.0000 - val_loss: 0.0978 - val_accuracy: 1.0000\n",
            "Epoch 287/300\n",
            "2/2 - 0s - loss: 0.0978 - accuracy: 1.0000 - val_loss: 0.0971 - val_accuracy: 1.0000\n",
            "Epoch 288/300\n",
            "2/2 - 0s - loss: 0.0970 - accuracy: 1.0000 - val_loss: 0.0965 - val_accuracy: 1.0000\n",
            "Epoch 289/300\n",
            "2/2 - 0s - loss: 0.0963 - accuracy: 1.0000 - val_loss: 0.0958 - val_accuracy: 1.0000\n",
            "Epoch 290/300\n",
            "2/2 - 0s - loss: 0.0957 - accuracy: 1.0000 - val_loss: 0.0952 - val_accuracy: 1.0000\n",
            "Epoch 291/300\n",
            "2/2 - 0s - loss: 0.0951 - accuracy: 1.0000 - val_loss: 0.0945 - val_accuracy: 1.0000\n",
            "Epoch 292/300\n",
            "2/2 - 0s - loss: 0.0944 - accuracy: 1.0000 - val_loss: 0.0939 - val_accuracy: 1.0000\n",
            "Epoch 293/300\n",
            "2/2 - 0s - loss: 0.0938 - accuracy: 1.0000 - val_loss: 0.0933 - val_accuracy: 1.0000\n",
            "Epoch 294/300\n",
            "2/2 - 0s - loss: 0.0931 - accuracy: 1.0000 - val_loss: 0.0927 - val_accuracy: 1.0000\n",
            "Epoch 295/300\n",
            "2/2 - 0s - loss: 0.0925 - accuracy: 1.0000 - val_loss: 0.0920 - val_accuracy: 1.0000\n",
            "Epoch 296/300\n",
            "2/2 - 0s - loss: 0.0919 - accuracy: 1.0000 - val_loss: 0.0914 - val_accuracy: 1.0000\n",
            "Epoch 297/300\n",
            "2/2 - 0s - loss: 0.0913 - accuracy: 1.0000 - val_loss: 0.0908 - val_accuracy: 1.0000\n",
            "Epoch 298/300\n",
            "2/2 - 0s - loss: 0.0907 - accuracy: 1.0000 - val_loss: 0.0902 - val_accuracy: 1.0000\n",
            "Epoch 299/300\n",
            "2/2 - 0s - loss: 0.0900 - accuracy: 1.0000 - val_loss: 0.0896 - val_accuracy: 1.0000\n",
            "Epoch 300/300\n",
            "2/2 - 0s - loss: 0.0896 - accuracy: 1.0000 - val_loss: 0.0890 - val_accuracy: 1.0000\n",
            "2/2 - 0s - loss: 0.0890 - accuracy: 1.0000\n",
            "accuracy : 100.00%\n"
          ],
          "name": "stdout"
        }
      ]
    },
    {
      "cell_type": "code",
      "metadata": {
        "colab": {
          "base_uri": "https://localhost:8080/",
          "height": 297
        },
        "id": "EHcpgVGJiC_-",
        "outputId": "3f6b1655-6493-43bb-9241-5e7510580322"
      },
      "source": [
        "# Reporting....\r\n",
        "plt.figure(figsize=(8, 4)) # 8 x 4 inchs\r\n",
        "plt.subplot(1, 2, 1)\r\n",
        "plt.plot(hist.history['loss'])\r\n",
        "plt.title(\"Cost Graph\")\r\n",
        "plt.ylabel(\"cost\")\r\n",
        "plt.subplot(1, 2, 2)\r\n",
        "plt.title(\"Accuracy Graph\")\r\n",
        "plt.ylabel(\"accuracy\")\r\n",
        "plt.plot(hist.history['accuracy'], 'b-', label=\"training accuracy\")\r\n",
        "plt.plot(hist.history['val_accuracy'], 'r:', label=\"validation accuracy\")\r\n",
        "plt.legend()\r\n",
        "plt.tight_layout()\r\n",
        "plt.show()"
      ],
      "execution_count": 37,
      "outputs": [
        {
          "output_type": "display_data",
          "data": {
            "image/png": "[encoded data removed]",
            "text/plain": [
              "<Figure size 576x288 with 2 Axes>"
            ]
          },
          "metadata": {
            "tags": [],
            "needs_background": "light"
          }
        }
      ]
    },
    {
      "cell_type": "markdown",
      "metadata": {
        "id": "UgrMkPYAvuvc"
      },
      "source": [
        "# 4. Spam Classification\r\n",
        "\r\n",
        "- 스팸 분류기"
      ]
    },
    {
      "cell_type": "code",
      "metadata": {
        "colab": {
          "base_uri": "https://localhost:8080/",
          "height": 280
        },
        "id": "O5hx8miTix1P",
        "outputId": "2566384a-1136-4efb-c348-357afa539543"
      },
      "source": [
        "# Spam dataset\r\n",
        "# download link : https://www.kaggle.com/uciml/sms-spam-collection-dataset\r\n",
        "import numpy as np\r\n",
        "import matplotlib.pyplot as plt\r\n",
        "import pandas as pd\r\n",
        "import tensorflow as tf\r\n",
        "from tensorflow.keras.preprocessing.text import Tokenizer\r\n",
        "from tensorflow.keras.preprocessing.sequence import pad_sequences\r\n",
        "from tensorflow.keras.models import Sequential\r\n",
        "from tensorflow.keras.layers import Dense, LSTM, Embedding\r\n",
        "\r\n",
        "data = pd.read_csv('spam.csv',encoding='latin1')\r\n",
        "print(f\"number of data = {len(data)}\")\r\n",
        "\r\n",
        "data[:5]"
      ],
      "execution_count": 47,
      "outputs": [
        {
          "output_type": "stream",
          "text": [
            "number of data = 5572\n"
          ],
          "name": "stdout"
        },
        {
          "output_type": "execute_result",
          "data": {
            "text/html": [
              "<div>\n",
              "<style scoped>\n",
              "    .dataframe tbody tr th:only-of-type {\n",
              "        vertical-align: middle;\n",
              "    }\n",
              "\n",
              "    .dataframe tbody tr th {\n",
              "        vertical-align: top;\n",
              "    }\n",
              "\n",
              "    .dataframe thead th {\n",
              "        text-align: right;\n",
              "    }\n",
              "</style>\n",
              "<table border=\"1\" class=\"dataframe\">\n",
              "  <thead>\n",
              "    <tr style=\"text-align: right;\">\n",
              "      <th></th>\n",
              "      <th>v1</th>\n",
              "      <th>v2</th>\n",
              "      <th>Unnamed: 2</th>\n",
              "      <th>Unnamed: 3</th>\n",
              "      <th>Unnamed: 4</th>\n",
              "    </tr>\n",
              "  </thead>\n",
              "  <tbody>\n",
              "    <tr>\n",
              "      <th>0</th>\n",
              "      <td>ham</td>\n",
              "      <td>Go until jurong point, crazy.. Available only ...</td>\n",
              "      <td>NaN</td>\n",
              "      <td>NaN</td>\n",
              "      <td>NaN</td>\n",
              "    </tr>\n",
              "    <tr>\n",
              "      <th>1</th>\n",
              "      <td>ham</td>\n",
              "      <td>Ok lar... Joking wif u oni...</td>\n",
              "      <td>NaN</td>\n",
              "      <td>NaN</td>\n",
              "      <td>NaN</td>\n",
              "    </tr>\n",
              "    <tr>\n",
              "      <th>2</th>\n",
              "      <td>spam</td>\n",
              "      <td>Free entry in 2 a wkly comp to win FA Cup fina...</td>\n",
              "      <td>NaN</td>\n",
              "      <td>NaN</td>\n",
              "      <td>NaN</td>\n",
              "    </tr>\n",
              "    <tr>\n",
              "      <th>3</th>\n",
              "      <td>ham</td>\n",
              "      <td>U dun say so early hor... U c already then say...</td>\n",
              "      <td>NaN</td>\n",
              "      <td>NaN</td>\n",
              "      <td>NaN</td>\n",
              "    </tr>\n",
              "    <tr>\n",
              "      <th>4</th>\n",
              "      <td>ham</td>\n",
              "      <td>Nah I don't think he goes to usf, he lives aro...</td>\n",
              "      <td>NaN</td>\n",
              "      <td>NaN</td>\n",
              "      <td>NaN</td>\n",
              "    </tr>\n",
              "  </tbody>\n",
              "</table>\n",
              "</div>"
            ],
            "text/plain": [
              "     v1  ... Unnamed: 4\n",
              "0   ham  ...        NaN\n",
              "1   ham  ...        NaN\n",
              "2  spam  ...        NaN\n",
              "3   ham  ...        NaN\n",
              "4   ham  ...        NaN\n",
              "\n",
              "[5 rows x 5 columns]"
            ]
          },
          "metadata": {
            "tags": []
          },
          "execution_count": 47
        }
      ]
    },
    {
      "cell_type": "code",
      "metadata": {
        "colab": {
          "base_uri": "https://localhost:8080/",
          "height": 280
        },
        "id": "6BTRnQKIjDc4",
        "outputId": "be666b2a-7577-413f-9f0d-1665050e37c3"
      },
      "source": [
        "# 필요없는 열 제거 / ham=0, spam=1로 대체\r\n",
        "del data['Unnamed: 2']\r\n",
        "del data['Unnamed: 3']\r\n",
        "del data['Unnamed: 4']\r\n",
        "data['v1'] = data['v1'].replace(['ham','spam'],[0,1])\r\n",
        "\r\n",
        "# v2 열에서 중복인 내용이 있다면 중복 제거\r\n",
        "data.drop_duplicates(subset=['v2'], inplace=True)\r\n",
        "print(f\"number of data = {len(data)}\")\r\n",
        "\r\n",
        "data['v1'].value_counts().plot(kind='bar');\r\n",
        "plt.show()\r\n"
      ],
      "execution_count": 48,
      "outputs": [
        {
          "output_type": "stream",
          "text": [
            "number of data = 5169\n"
          ],
          "name": "stdout"
        },
        {
          "output_type": "display_data",
          "data": {
            "image/png": "[encoded data removed]",
            "text/plain": [
              "<Figure size 432x288 with 1 Axes>"
            ]
          },
          "metadata": {
            "tags": [],
            "needs_background": "light"
          }
        }
      ]
    },
    {
      "cell_type": "code",
      "metadata": {
        "colab": {
          "base_uri": "https://localhost:8080/"
        },
        "id": "3FuKvqJujKuJ",
        "outputId": "ff99b003-597f-4358-cc64-961aeb4f6aa7"
      },
      "source": [
        "# 데이터 분리\r\n",
        "X_data = data['v2']\r\n",
        "y_data = data['v1']\r\n",
        "\r\n",
        "# 토큰화\r\n",
        "tokenizer = Tokenizer()\r\n",
        "tokenizer.fit_on_texts(X_data) # 각 행에 토큰화를 수행\r\n",
        "sequences = tokenizer.texts_to_sequences(X_data) # 단어를 인덱스로 변환\r\n",
        "# print(tokenizer.word_index) # 1 ~ 679\r\n",
        "vocab_size = len(tokenizer.word_index) + 1\r\n",
        "\r\n",
        "# 패딩(padding)\r\n",
        "max_len = max(len(s) for s in sequences)\r\n",
        "print(f\"메일의 최대 길이 : {max_len}\")\r\n",
        "pad_data = pad_sequences(sequences, maxlen = max_len)"
      ],
      "execution_count": 49,
      "outputs": [
        {
          "output_type": "stream",
          "text": [
            "메일의 최대 길이 : 189\n"
          ],
          "name": "stdout"
        }
      ]
    },
    {
      "cell_type": "code",
      "metadata": {
        "id": "ce9_aCR5jSFm"
      },
      "source": [
        "# 학습용과 테스트용으로 분리\r\n",
        "n_train = int(len(sequences) * 0.8)\r\n",
        "n_test = int(len(sequences) - n_train)\r\n",
        "X_train = pad_data[:n_train] #X_data 데이터 중에서 앞의 4135개의 데이터만 저장\r\n",
        "y_train = np.array(y_data[:n_train]) #y_data 데이터 중에서 앞의 4135개의 데이터만 저장\r\n",
        "X_test = pad_data[n_train:] #X_data 데이터 중에서 뒤의 1034개의 데이터만 저장\r\n",
        "y_test = np.array(y_data[n_train:]) #y_data 데이터 중에서 뒤의 1034개의 데이터만 저장"
      ],
      "execution_count": 50,
      "outputs": []
    },
    {
      "cell_type": "code",
      "metadata": {
        "colab": {
          "base_uri": "https://localhost:8080/"
        },
        "id": "lwHT83SKjUEZ",
        "outputId": "27f837f0-b99f-48c6-af37-2021af509a84"
      },
      "source": [
        "# 학습모델\r\n",
        "model = Sequential()\r\n",
        "model.add(Embedding(vocab_size, 32)) # 임베딩 벡터의 차원은 32\r\n",
        "model.add(LSTM(32)) # RNN 셀의 hidden_size는 32\r\n",
        "model.add(Dense(1, activation='sigmoid'))\r\n",
        "\r\n",
        "model.compile(optimizer='rmsprop',\r\n",
        "              loss='binary_crossentropy',\r\n",
        "              metrics=['accuracy'])\r\n",
        "model.summary()\r\n"
      ],
      "execution_count": 51,
      "outputs": [
        {
          "output_type": "stream",
          "text": [
            "Model: \"sequential_8\"\n",
            "_________________________________________________________________\n",
            "Layer (type)                 Output Shape              Param #   \n",
            "=================================================================\n",
            "embedding_8 (Embedding)      (None, None, 32)          285472    \n",
            "_________________________________________________________________\n",
            "lstm (LSTM)                  (None, 32)                8320      \n",
            "_________________________________________________________________\n",
            "dense_7 (Dense)              (None, 1)                 33        \n",
            "=================================================================\n",
            "Total params: 293,825\n",
            "Trainable params: 293,825\n",
            "Non-trainable params: 0\n",
            "_________________________________________________________________\n"
          ],
          "name": "stdout"
        }
      ]
    },
    {
      "cell_type": "code",
      "metadata": {
        "colab": {
          "base_uri": "https://localhost:8080/",
          "height": 455
        },
        "id": "M_zgMg6SkDGG",
        "outputId": "2abb568f-1bc5-4afa-b01b-eb7452898932"
      },
      "source": [
        "hist = model.fit(X_train, y_train, validation_split=0.2,\r\n",
        "                 epochs=4, batch_size=64, verbose=2)\r\n",
        "model.evaluate(X_test, y_test)\r\n",
        "\r\n",
        "# Reporting......\r\n",
        "plt.figure(figsize=(8, 4))\r\n",
        "plt.subplot(1, 2, 1)\r\n",
        "plt.plot(hist.history['loss'])\r\n",
        "plt.title(\"Cost Graph\")\r\n",
        "plt.ylabel(\"cost\")\r\n",
        "plt.subplot(1, 2, 2)\r\n",
        "plt.title(\"Accuracy Graph\")\r\n",
        "plt.ylabel(\"accuracy\")\r\n",
        "plt.plot(hist.history['accuracy'], 'b-', label=\"training accuracy\")\r\n",
        "plt.plot(hist.history['val_accuracy'], 'r:', label=\"validation accuracy\")\r\n",
        "plt.legend()\r\n",
        "plt.tight_layout()\r\n",
        "plt.show()\r\n"
      ],
      "execution_count": 52,
      "outputs": [
        {
          "output_type": "stream",
          "text": [
            "Epoch 1/4\n",
            "52/52 - 5s - loss: 0.3067 - accuracy: 0.8827 - val_loss: 0.1712 - val_accuracy: 0.9625\n",
            "Epoch 2/4\n",
            "52/52 - 5s - loss: 0.1162 - accuracy: 0.9716 - val_loss: 0.0866 - val_accuracy: 0.9770\n",
            "Epoch 3/4\n",
            "52/52 - 5s - loss: 0.0620 - accuracy: 0.9888 - val_loss: 0.0597 - val_accuracy: 0.9819\n",
            "Epoch 4/4\n",
            "52/52 - 5s - loss: 0.0348 - accuracy: 0.9906 - val_loss: 0.0609 - val_accuracy: 0.9831\n",
            "33/33 [==============================] - 0s 15ms/step - loss: 0.0631 - accuracy: 0.9845\n"
          ],
          "name": "stdout"
        },
        {
          "output_type": "display_data",
          "data": {
            "image/png": "[encoded data removed]",
            "text/plain": [
              "<Figure size 576x288 with 2 Axes>"
            ]
          },
          "metadata": {
            "tags": [],
            "needs_background": "light"
          }
        }
      ]
    },
    {
      "cell_type": "markdown",
      "metadata": {
        "id": "_E36fngapVVr"
      },
      "source": [
        "# 5. Sequence-to-Sequence / Attention / Transformer\r\n"
      ]
    },
    {
      "cell_type": "markdown",
      "metadata": {
        "id": "wjuntoLIpi9E"
      },
      "source": [
        "### 5-1. Sequence-to-Sequence\r\n",
        "- 입력된 시퀀스로부터 다른 시퀀스를 출력하는 분야에서 사용되는 모델\r\n",
        "\r\n",
        "\r\n",
        "#### seq 2 seq의 구성\r\n",
        "\r\n",
        "- Encoder: sequence를 순차적으로 입력 받은 후, 마지막에 모든 단어 정보들이 압축된 벡터를 decode로 전송\r\n",
        "\r\n",
        "- Decoder: context vector를 초기값으로 받아서 sequence를 순차적으로 출력\r\n",
        "\r\n",
        "#### Teacher forcing\r\n",
        "\r\n",
        "- 오류를 줄이기 위해 1-step씩 시간차를 두고 학습시키는 것\r\n",
        "\r\n",
        "- 오류가 발생되지 않도록 강제로 정답을 알려주는 역할을 함\r\n",
        "\r\n",
        "#### 문제점\r\n",
        "\r\n",
        "- 정보손실: 하나의 고정된 벡터에 모든 정보를 압축함으로써 정보손실이 발생\r\n",
        "\r\n",
        "- 기울기 손실: RNN의 고질적인 문제이며 입력문장이 긴 경우에 제대로 작동하기 어려움\r\n",
        "\r\n"
      ]
    },
    {
      "cell_type": "markdown",
      "metadata": {
        "id": "-goFuT7VtXXN"
      },
      "source": [
        "### 5-2. Attetion\r\n",
        "\r\n",
        "- Decoder에서 출력단어를 예측할 때마다 인코더의 입력문장을 참고\r\n",
        "\r\n",
        "- 해당 시점에서 예측할 단어와 연관된 단어부분을 더 집중해서 참고\r\n",
        "\r\n"
      ]
    },
    {
      "cell_type": "markdown",
      "metadata": {
        "id": "3cvNwR4AtcqI"
      },
      "source": [
        "### 5-3. Transformer\r\n",
        "\r\n",
        "- Attention을 RNN(LSTM)을 보정하기 위한 용도가 아니라, 아예 Attention만으로 Encoder와 Decoder를 만든 것"
      ]
    },
    {
      "cell_type": "markdown",
      "metadata": {
        "id": "_Nu92zX1wQ5U"
      },
      "source": [
        "# 6. 번외 : 앞으로 더 공부해야 할 것들\r\n",
        "\r\n",
        "### 6-1. Machine Learing의 주요문제\r\n",
        "- Classification\r\n",
        "- Object Detection\r\n",
        "- Image Segmentation\r\n",
        "- Natural Language Processing\r\n",
        "\r\n",
        "### 6-2. Deep Learning Methods\r\n",
        "- R-CNN(Region based CNN)\r\n",
        "  - 영역기반 물체인식\r\n",
        "- 강화학습\r\n",
        "  - 로봇 제어, 엘리베이터 스케줄링, 통신망, 게임 등\r\n",
        "- GAN(Generative Adversarial Networks)\r\n",
        "  - 데이터 생성\r\n"
      ]
    }
  ]
}