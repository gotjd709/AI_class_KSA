{
 "cells": [
  {
   "cell_type": "code",
   "execution_count": 1,
   "metadata": {},
   "outputs": [],
   "source": [
    "t2 = (1, )\n",
    "t4 = (1, 2, 3)"
   ]
  },
  {
   "cell_type": "code",
   "execution_count": 2,
   "metadata": {},
   "outputs": [
    {
     "data": {
      "text/plain": [
       "(1, 1, 2, 3)"
      ]
     },
     "execution_count": 2,
     "metadata": {},
     "output_type": "execute_result"
    }
   ],
   "source": [
    "t2 + t4"
   ]
  },
  {
   "cell_type": "code",
   "execution_count": 3,
   "metadata": {},
   "outputs": [
    {
     "data": {
      "text/plain": [
       "(1, 1)"
      ]
     },
     "execution_count": 3,
     "metadata": {},
     "output_type": "execute_result"
    }
   ],
   "source": [
    "t2*2"
   ]
  },
  {
   "cell_type": "code",
   "execution_count": 4,
   "metadata": {},
   "outputs": [
    {
     "data": {
      "text/plain": [
       "(1, 2, 3, 1, 2, 3)"
      ]
     },
     "execution_count": 4,
     "metadata": {},
     "output_type": "execute_result"
    }
   ],
   "source": [
    "t4*2"
   ]
  },
  {
   "cell_type": "code",
   "execution_count": 5,
   "metadata": {},
   "outputs": [],
   "source": [
    "dic = {'name':'홍길동', 'birthday':'1016', 'place':'청주'}"
   ]
  },
  {
   "cell_type": "code",
   "execution_count": 6,
   "metadata": {},
   "outputs": [
    {
     "data": {
      "text/plain": [
       "{'name': '홍길동', 'birthday': '1016', 'place': '청주'}"
      ]
     },
     "execution_count": 6,
     "metadata": {},
     "output_type": "execute_result"
    }
   ],
   "source": [
    "dic"
   ]
  },
  {
   "cell_type": "code",
   "execution_count": 7,
   "metadata": {},
   "outputs": [
    {
     "name": "stdout",
     "output_type": "stream",
     "text": [
      "{'name': '홍길동', 'birthday': '1016', 'place': '청주'}\n"
     ]
    }
   ],
   "source": [
    "print(dic)"
   ]
  },
  {
   "cell_type": "code",
   "execution_count": 8,
   "metadata": {},
   "outputs": [
    {
     "name": "stdout",
     "output_type": "stream",
     "text": [
      "홍길동\n"
     ]
    }
   ],
   "source": [
    "print(dic['name'])"
   ]
  },
  {
   "cell_type": "code",
   "execution_count": 9,
   "metadata": {},
   "outputs": [
    {
     "name": "stdout",
     "output_type": "stream",
     "text": [
      "홍길동\n"
     ]
    }
   ],
   "source": [
    "print(dic.get('name'))"
   ]
  },
  {
   "cell_type": "code",
   "execution_count": 10,
   "metadata": {},
   "outputs": [],
   "source": [
    "t5 = ('a', 'b', ('ab', 'cd'))"
   ]
  },
  {
   "cell_type": "code",
   "execution_count": 11,
   "metadata": {},
   "outputs": [
    {
     "data": {
      "text/plain": [
       "('a', 'b', ('ab', 'cd'))"
      ]
     },
     "execution_count": 11,
     "metadata": {},
     "output_type": "execute_result"
    }
   ],
   "source": [
    "t5"
   ]
  },
  {
   "cell_type": "code",
   "execution_count": 12,
   "metadata": {},
   "outputs": [
    {
     "name": "stdout",
     "output_type": "stream",
     "text": [
      "홍길동\n"
     ]
    }
   ],
   "source": [
    "print(dic.get('name'))"
   ]
  },
  {
   "cell_type": "code",
   "execution_count": 13,
   "metadata": {},
   "outputs": [
    {
     "name": "stdout",
     "output_type": "stream",
     "text": [
      "홍길동\n"
     ]
    }
   ],
   "source": [
    "print(dic['name'])"
   ]
  },
  {
   "cell_type": "code",
   "execution_count": 14,
   "metadata": {},
   "outputs": [
    {
     "name": "stdout",
     "output_type": "stream",
     "text": [
      "name\n",
      "birthday\n",
      "place\n"
     ]
    }
   ],
   "source": [
    "for i in dic.keys():\n",
    "    print(i)"
   ]
  },
  {
   "cell_type": "code",
   "execution_count": 15,
   "metadata": {},
   "outputs": [
    {
     "data": {
      "text/plain": [
       "dict_keys(['name', 'birthday', 'place'])"
      ]
     },
     "execution_count": 15,
     "metadata": {},
     "output_type": "execute_result"
    }
   ],
   "source": [
    "dic.keys()"
   ]
  },
  {
   "cell_type": "code",
   "execution_count": 16,
   "metadata": {},
   "outputs": [
    {
     "name": "stdout",
     "output_type": "stream",
     "text": [
      "name\n",
      "birthday\n",
      "place\n"
     ]
    }
   ],
   "source": [
    "for i in dic.keys():\n",
    "    print(i)"
   ]
  },
  {
   "cell_type": "code",
   "execution_count": 17,
   "metadata": {},
   "outputs": [],
   "source": [
    "lst  = list(dic.keys())"
   ]
  },
  {
   "cell_type": "code",
   "execution_count": 18,
   "metadata": {},
   "outputs": [
    {
     "data": {
      "text/plain": [
       "['name', 'birthday', 'place']"
      ]
     },
     "execution_count": 18,
     "metadata": {},
     "output_type": "execute_result"
    }
   ],
   "source": [
    "lst"
   ]
  },
  {
   "cell_type": "code",
   "execution_count": 19,
   "metadata": {},
   "outputs": [
    {
     "name": "stdout",
     "output_type": "stream",
     "text": [
      "name\n",
      "birthday\n",
      "place\n"
     ]
    }
   ],
   "source": [
    "for i in lst:\n",
    "    print(i)"
   ]
  },
  {
   "cell_type": "code",
   "execution_count": 20,
   "metadata": {},
   "outputs": [
    {
     "data": {
      "text/plain": [
       "dict_values(['홍길동', '1016', '청주'])"
      ]
     },
     "execution_count": 20,
     "metadata": {},
     "output_type": "execute_result"
    }
   ],
   "source": [
    "dic.values()"
   ]
  },
  {
   "cell_type": "code",
   "execution_count": 21,
   "metadata": {},
   "outputs": [],
   "source": [
    "lsti = list(dic.values())"
   ]
  },
  {
   "cell_type": "code",
   "execution_count": 22,
   "metadata": {},
   "outputs": [
    {
     "data": {
      "text/plain": [
       "dict_items([('name', '홍길동'), ('birthday', '1016'), ('place', '청주')])"
      ]
     },
     "execution_count": 22,
     "metadata": {},
     "output_type": "execute_result"
    }
   ],
   "source": [
    "dic.items()"
   ]
  },
  {
   "cell_type": "code",
   "execution_count": 23,
   "metadata": {},
   "outputs": [
    {
     "name": "stdout",
     "output_type": "stream",
     "text": [
      "('name', '홍길동')\n",
      "('birthday', '1016')\n",
      "('place', '청주')\n"
     ]
    }
   ],
   "source": [
    "for i in dic.items():\n",
    "    print(i)"
   ]
  },
  {
   "cell_type": "code",
   "execution_count": 24,
   "metadata": {},
   "outputs": [
    {
     "name": "stdout",
     "output_type": "stream",
     "text": [
      "{'name': '홍길동', 'birthday': '1016', 'place': '청주'}\n"
     ]
    }
   ],
   "source": [
    "print(dic)"
   ]
  },
  {
   "cell_type": "code",
   "execution_count": 25,
   "metadata": {},
   "outputs": [
    {
     "name": "stdout",
     "output_type": "stream",
     "text": [
      "True\n"
     ]
    }
   ],
   "source": [
    "print('name' in dic)"
   ]
  },
  {
   "cell_type": "code",
   "execution_count": 26,
   "metadata": {},
   "outputs": [
    {
     "name": "stdout",
     "output_type": "stream",
     "text": [
      "False\n"
     ]
    }
   ],
   "source": [
    "print('namms' in dic)"
   ]
  },
  {
   "cell_type": "code",
   "execution_count": 27,
   "metadata": {},
   "outputs": [],
   "source": [
    "dicList = {'name':['홍길동', '성춘향', '이몽룡', '세종대왕'], \n",
    "       'birthday':['1231','0912', '0821', '0804'], \n",
    "       'place':['청주','충주','공주','부여']}"
   ]
  },
  {
   "cell_type": "code",
   "execution_count": 28,
   "metadata": {},
   "outputs": [
    {
     "name": "stdout",
     "output_type": "stream",
     "text": [
      "{'name': ['홍길동', '성춘향', '이몽룡', '세종대왕'], 'birthday': ['1231', '0912', '0821', '0804'], 'place': ['청주', '충주', '공주', '부여']}\n"
     ]
    }
   ],
   "source": [
    "print(dicList)"
   ]
  },
  {
   "cell_type": "code",
   "execution_count": 29,
   "metadata": {},
   "outputs": [
    {
     "name": "stdout",
     "output_type": "stream",
     "text": [
      "['홍길동', '성춘향', '이몽룡', '세종대왕']\n"
     ]
    }
   ],
   "source": [
    "print(dicList['name'])"
   ]
  },
  {
   "cell_type": "code",
   "execution_count": 30,
   "metadata": {},
   "outputs": [
    {
     "name": "stdout",
     "output_type": "stream",
     "text": [
      "['홍길동', '성춘향', '이몽룡', '세종대왕']\n"
     ]
    }
   ],
   "source": [
    "print(dicList.get('name'))"
   ]
  },
  {
   "cell_type": "code",
   "execution_count": 31,
   "metadata": {},
   "outputs": [
    {
     "name": "stdout",
     "output_type": "stream",
     "text": [
      "('name', ['홍길동', '성춘향', '이몽룡', '세종대왕'])\n",
      "('birthday', ['1231', '0912', '0821', '0804'])\n",
      "('place', ['청주', '충주', '공주', '부여'])\n"
     ]
    }
   ],
   "source": [
    "for i in dicList.items():\n",
    "    print(i)"
   ]
  },
  {
   "cell_type": "code",
   "execution_count": 32,
   "metadata": {},
   "outputs": [
    {
     "name": "stdout",
     "output_type": "stream",
     "text": [
      "['홍길동', '성춘향', '이몽룡', '세종대왕']\n",
      "['1231', '0912', '0821', '0804']\n",
      "['청주', '충주', '공주', '부여']\n"
     ]
    }
   ],
   "source": [
    "for i in dicList.values():\n",
    "    print(i)"
   ]
  },
  {
   "cell_type": "code",
   "execution_count": 33,
   "metadata": {},
   "outputs": [],
   "source": [
    "s1 = set([1, 2, 3, 4, 5, 6])"
   ]
  },
  {
   "cell_type": "code",
   "execution_count": 34,
   "metadata": {},
   "outputs": [],
   "source": [
    "s2 = set(\"Hello\")"
   ]
  },
  {
   "cell_type": "code",
   "execution_count": 35,
   "metadata": {},
   "outputs": [
    {
     "name": "stdout",
     "output_type": "stream",
     "text": [
      "{1, 2, 3, 4, 5, 6} {'o', 'H', 'e', 'l'}\n"
     ]
    }
   ],
   "source": [
    "print(s1, s2)"
   ]
  },
  {
   "cell_type": "code",
   "execution_count": 36,
   "metadata": {},
   "outputs": [
    {
     "name": "stdout",
     "output_type": "stream",
     "text": [
      "{'o', 'H', 'e', 'l'}\n"
     ]
    }
   ],
   "source": [
    "print(s2)"
   ]
  },
  {
   "cell_type": "code",
   "execution_count": 37,
   "metadata": {},
   "outputs": [],
   "source": [
    "s3 = set([4, 5, 6, 7, 8, 9])"
   ]
  },
  {
   "cell_type": "code",
   "execution_count": 38,
   "metadata": {},
   "outputs": [
    {
     "data": {
      "text/plain": [
       "{4, 5, 6}"
      ]
     },
     "execution_count": 38,
     "metadata": {},
     "output_type": "execute_result"
    }
   ],
   "source": [
    "s1 & s3"
   ]
  },
  {
   "cell_type": "code",
   "execution_count": 39,
   "metadata": {},
   "outputs": [
    {
     "data": {
      "text/plain": [
       "{1, 2, 3, 4, 5, 6, 7, 8, 9}"
      ]
     },
     "execution_count": 39,
     "metadata": {},
     "output_type": "execute_result"
    }
   ],
   "source": [
    "s1 | s3"
   ]
  },
  {
   "cell_type": "code",
   "execution_count": 40,
   "metadata": {},
   "outputs": [
    {
     "data": {
      "text/plain": [
       "{1, 2, 3}"
      ]
     },
     "execution_count": 40,
     "metadata": {},
     "output_type": "execute_result"
    }
   ],
   "source": [
    "s1 - s3"
   ]
  },
  {
   "cell_type": "code",
   "execution_count": 41,
   "metadata": {},
   "outputs": [],
   "source": [
    "a, b = 10, 10.5"
   ]
  },
  {
   "cell_type": "code",
   "execution_count": 42,
   "metadata": {},
   "outputs": [
    {
     "name": "stdout",
     "output_type": "stream",
     "text": [
      "10 10.5\n"
     ]
    }
   ],
   "source": [
    "print (a, b)"
   ]
  },
  {
   "cell_type": "code",
   "execution_count": 43,
   "metadata": {},
   "outputs": [],
   "source": [
    "a, b = b, a #오른쪽은 바뀌지 않는 값, 왼쪽이 바뀌는 값!"
   ]
  },
  {
   "cell_type": "code",
   "execution_count": 44,
   "metadata": {},
   "outputs": [
    {
     "name": "stdout",
     "output_type": "stream",
     "text": [
      "정수 x =31\n"
     ]
    }
   ],
   "source": [
    "x = int(input(\"정수 x =\"))"
   ]
  },
  {
   "cell_type": "code",
   "execution_count": 45,
   "metadata": {},
   "outputs": [
    {
     "name": "stdout",
     "output_type": "stream",
     "text": [
      "x는 홀수입니다.\n"
     ]
    }
   ],
   "source": [
    "if (x % 2 == 1):\n",
    "    print(\"x는 홀수입니다.\")\n",
    "else:\n",
    "    print('x는 짝수입니다.')"
   ]
  },
  {
   "cell_type": "code",
   "execution_count": 46,
   "metadata": {},
   "outputs": [
    {
     "name": "stdout",
     "output_type": "stream",
     "text": [
      "정수 x=22\n"
     ]
    }
   ],
   "source": [
    "y = int(input(\"정수 x=\"))"
   ]
  },
  {
   "cell_type": "code",
   "execution_count": 47,
   "metadata": {},
   "outputs": [
    {
     "name": "stdout",
     "output_type": "stream",
     "text": [
      "x는 짝수입니다.\n"
     ]
    }
   ],
   "source": [
    "if (y % 2 == 1):\n",
    "    print(\"x는 홀수입니다.\")\n",
    "else:\n",
    "    print(\"x는 짝수입니다.\")"
   ]
  },
  {
   "cell_type": "code",
   "execution_count": 48,
   "metadata": {},
   "outputs": [
    {
     "name": "stdout",
     "output_type": "stream",
     "text": [
      "점수 = 98\n",
      "A학점\n"
     ]
    }
   ],
   "source": [
    "score = int(input(\"점수 = \"))\n",
    "\n",
    "if(score >= 90):\n",
    "    print(\"A학점\")\n",
    "elif(score >= 80):\n",
    "    print(\"B학점\")\n",
    "elif(score >= 70):\n",
    "    print(\"C학점\")\n",
    "elif(score >= 60):\n",
    "    print(\"D학점\")\n",
    "else: print(\"F학점\")"
   ]
  },
  {
   "cell_type": "code",
   "execution_count": 49,
   "metadata": {},
   "outputs": [
    {
     "name": "stdout",
     "output_type": "stream",
     "text": [
      "1+2+...+100 = 5050\n"
     ]
    }
   ],
   "source": [
    "sum = 0\n",
    "i = 1\n",
    "while(i <= 100):\n",
    "    sum += i\n",
    "    i += 1\n",
    "print(\"1+2+...+100 =\", sum)"
   ]
  },
  {
   "cell_type": "code",
   "execution_count": 54,
   "metadata": {},
   "outputs": [
    {
     "name": "stdout",
     "output_type": "stream",
     "text": [
      "1+2+...+100 =  1225\n",
      "1+2+...+100 = 1225\n"
     ]
    }
   ],
   "source": [
    "sum = 0\n",
    "for i in range(1, 101, 4):\n",
    "    sum += i\n",
    "print(\"1+2+...+100 = \", sum)\n",
    "print(\"1+2+...+100 = \" + str(sum))"
   ]
  },
  {
   "cell_type": "code",
   "execution_count": 60,
   "metadata": {},
   "outputs": [
    {
     "name": "stdout",
     "output_type": "stream",
     "text": [
      "1+2+...+100 =  100500\n",
      "Final i = 1000\n"
     ]
    }
   ],
   "source": [
    "sum = 0\n",
    "for i in range(0, 1001, 5):\n",
    "    sum += i\n",
    "print(\"1+2+...+100 = \", sum)\n",
    "print(\"Final i = \" + str(i))"
   ]
  },
  {
   "cell_type": "code",
   "execution_count": 63,
   "metadata": {},
   "outputs": [
    {
     "name": "stdout",
     "output_type": "stream",
     "text": [
      "나이가 몇 살이니11\n",
      "조금 기다려라\n"
     ]
    }
   ],
   "source": [
    "age = int(input(\"나이가 몇 살이니\"))\n",
    "if age == 19:\n",
    "    print(\"마트에서 주류 구입 가능\")\n",
    "else:\n",
    "    print(\"조금 기다려라\")"
   ]
  },
  {
   "cell_type": "code",
   "execution_count": null,
   "metadata": {},
   "outputs": [
    {
     "name": "stdout",
     "output_type": "stream",
     "text": [
      "왼쪽=left, 오른쪽=right:left\n",
      "왼쪽=left, 오른쪽=right:right\n",
      "왼쪽=left, 오른쪽=right:left\n",
      "왼쪽=left, 오른쪽=right:right\n",
      "왼쪽=left, 오른쪽=right:right\n",
      "왼쪽=left, 오른쪽=right:left\n",
      "왼쪽=left, 오른쪽=right:right\n",
      "왼쪽=left, 오른쪽=right:right\n",
      "왼쪽=left, 오른쪽=right:right\n",
      "왼쪽=left, 오른쪽=right:left\n",
      "왼쪽=left, 오른쪽=right:right\n",
      "왼쪽=left, 오른쪽=right:right\n",
      "왼쪽=left, 오른쪽=right:left\n",
      "왼쪽=left, 오른쪽=right:right\n"
     ]
    }
   ],
   "source": [
    "import turtle\n",
    "t = turtle.Pen()\n",
    "\n",
    "while True:\n",
    "    direction = input(\"왼쪽=left, 오른쪽=right:\")\n",
    "    if direction == \"left\":\n",
    "        t.left(60)\n",
    "        t.forward(50)\n",
    "    if direction == \"right\":\n",
    "        t.right(60)\n",
    "        t.forward(50)"
   ]
  },
  {
   "cell_type": "code",
   "execution_count": 2,
   "metadata": {},
   "outputs": [
    {
     "name": "stdout",
     "output_type": "stream",
     "text": [
      "첫 번째 정수:20\n",
      "두 번째 정수:42\n",
      "큰 수는 42\n"
     ]
    }
   ],
   "source": [
    "x = int(input(\"첫 번째 정수:\"))\n",
    "y = int(input(\"두 번째 정수:\"))\n",
    "\n",
    "if(x > y):\n",
    "    max = x;\n",
    "else:\n",
    "    max = y;\n",
    "print(\"큰 수는\", max);"
   ]
  },
  {
   "cell_type": "code",
   "execution_count": 4,
   "metadata": {},
   "outputs": [
    {
     "name": "stdout",
     "output_type": "stream",
     "text": [
      "저의 학점은 =95\n",
      "합격입니다.\n",
      "장학금도 받을 수 있습니다.\n"
     ]
    }
   ],
   "source": [
    "score = int(input(\"저의 학점은 =\"))\n",
    "if score >= 90 :\n",
    "    print(\"합격입니다.\")\n",
    "    print(\"장학금도 받을 수 있습니다.\")"
   ]
  },
  {
   "cell_type": "code",
   "execution_count": 6,
   "metadata": {},
   "outputs": [
    {
     "name": "stdout",
     "output_type": "stream",
     "text": [
      "문자열을 입력하시오:asdfjkl;\n",
      "중앙글자는 f j\n"
     ]
    }
   ],
   "source": [
    "str = input(\"문자열을 입력하시오:\")\n",
    "length = len(str)\n",
    "if length%2 == 1:\n",
    "    ch1 = str[length//2]\n",
    "    print(\"중앙글자는\", ch1)\n",
    "else:\n",
    "    ch1 = str[length//2-1]\n",
    "    ch2 = str[length//2]\n",
    "    print(\"중앙글자는\", ch1, ch2)"
   ]
  },
  {
   "cell_type": "code",
   "execution_count": null,
   "metadata": {},
   "outputs": [],
   "source": [
    "credits = float(input('이수한 학점수를 입력하시오:'))\n",
    "gpa = float(input('평점을 입력하시오:'))"
   ]
  },
  {
   "cell_type": "code",
   "execution_count": 8,
   "metadata": {},
   "outputs": [
    {
     "name": "stdout",
     "output_type": "stream",
     "text": [
      "사과의 상태를 입력하시오.:별루\n",
      "사과 1개의 가격을 입려하시오.:1000\n",
      "사과를 사지 않는다\n"
     ]
    }
   ],
   "source": [
    "appleQ = input(\"사과의 상태를 입력하시오.:\")\n",
    "appleP = int(input(\"사과 1개의 가격을 입려하시오.:\"))\n",
    "if appleQ == \"신선\":\n",
    "    if appleP < 1000:\n",
    "        print(\"10개를 산다\")\n",
    "    else:\n",
    "        print(\"5개를 산다\")\n",
    "else:\n",
    "    print(\"사과를 사지 않는다\")"
   ]
  },
  {
   "cell_type": "code",
   "execution_count": 1,
   "metadata": {},
   "outputs": [
    {
     "name": "stdout",
     "output_type": "stream",
     "text": [
      "아이디:Kim\n"
     ]
    },
    {
     "ename": "NameError",
     "evalue": "name 'ID' is not defined",
     "output_type": "error",
     "traceback": [
      "\u001b[1;31m---------------------------------------------------------------------------\u001b[0m",
      "\u001b[1;31mNameError\u001b[0m                                 Traceback (most recent call last)",
      "\u001b[1;32m<ipython-input-1-4fbe7f8f9dd6>\u001b[0m in \u001b[0;36m<module>\u001b[1;34m\u001b[0m\n\u001b[0;32m      2\u001b[0m \u001b[0muser_list\u001b[0m \u001b[1;33m=\u001b[0m \u001b[1;33m[\u001b[0m\u001b[1;34m'Kim'\u001b[0m\u001b[1;33m,\u001b[0m \u001b[1;34m'Hong'\u001b[0m\u001b[1;33m,\u001b[0m \u001b[1;34m'Han'\u001b[0m\u001b[1;33m]\u001b[0m\u001b[1;33m\u001b[0m\u001b[1;33m\u001b[0m\u001b[0m\n\u001b[0;32m      3\u001b[0m \u001b[0mname\u001b[0m \u001b[1;33m=\u001b[0m \u001b[0minput\u001b[0m\u001b[1;33m(\u001b[0m\u001b[1;34m'아이디:'\u001b[0m\u001b[1;33m)\u001b[0m\u001b[1;33m\u001b[0m\u001b[1;33m\u001b[0m\u001b[0m\n\u001b[1;32m----> 4\u001b[1;33m \u001b[1;32mif\u001b[0m \u001b[0mname\u001b[0m \u001b[1;32min\u001b[0m \u001b[0muser_dic\u001b[0m\u001b[1;33m.\u001b[0m\u001b[0mget\u001b[0m\u001b[1;33m(\u001b[0m\u001b[0mID\u001b[0m\u001b[1;33m)\u001b[0m\u001b[1;33m:\u001b[0m\u001b[1;33m\u001b[0m\u001b[1;33m\u001b[0m\u001b[0m\n\u001b[0m\u001b[0;32m      5\u001b[0m     \u001b[0mpassword\u001b[0m \u001b[1;33m=\u001b[0m \u001b[0minput\u001b[0m\u001b[1;33m(\u001b[0m\u001b[1;34m'패스워드 입력'\u001b[0m\u001b[1;33m)\u001b[0m\u001b[1;33m\u001b[0m\u001b[1;33m\u001b[0m\u001b[0m\n\u001b[0;32m      6\u001b[0m     \u001b[1;32mif\u001b[0m \u001b[0mpassword\u001b[0m \u001b[1;33m==\u001b[0m \u001b[0muser_dic\u001b[0m\u001b[1;33m.\u001b[0m\u001b[0mget\u001b[0m\u001b[1;33m(\u001b[0m\u001b[0mPW\u001b[0m\u001b[1;33m)\u001b[0m\u001b[1;33m:\u001b[0m\u001b[1;33m\u001b[0m\u001b[1;33m\u001b[0m\u001b[0m\n",
      "\u001b[1;31mNameError\u001b[0m: name 'ID' is not defined"
     ]
    }
   ],
   "source": [
    "user_dic = {'ID':['Kim', 'Hong', 'Han'], 'PW':['123', '456', '789']}\n",
    "user_list = ['Kim', 'Hong', 'Han']\n",
    "name = input('아이디:')\n",
    "if name in user_dic.get(ID):\n",
    "    password = input('패스워드 입력')\n",
    "    if password == user_dic.get(PW):\n",
    "        print('환영합니다.')\n",
    "    else:\n",
    "        print('패스워드 오류')\n",
    "else:\n",
    "    print('계정이 없습니다.')"
   ]
  },
  {
   "cell_type": "code",
   "execution_count": 14,
   "metadata": {},
   "outputs": [
    {
     "name": "stdout",
     "output_type": "stream",
     "text": [
      "연도를 입력하시오.:2014\n",
      "2014 년은 윤년이 아닙니다.\n"
     ]
    }
   ],
   "source": [
    "year = int(input(\"연도를 입력하시오.:\"))\n",
    "if((year % 4 == 0 and year % 100!= 0) or year % 400 == 0):\n",
    "    print(year, \"년은 윤년입니다.\")\n",
    "else:\n",
    "    print(year, \"년은 윤년이 아닙니다.\")"
   ]
  },
  {
   "cell_type": "code",
   "execution_count": 17,
   "metadata": {},
   "outputs": [
    {
     "name": "stdout",
     "output_type": "stream",
     "text": [
      "(가위, 바위, 보) 중에서 하나를 선택하세요:보\n",
      "사용자: 보 컴퓨터 보\n",
      "비겼음!\n"
     ]
    }
   ],
   "source": [
    "import random;\n",
    "\n",
    "player = input(\"(가위, 바위, 보) 중에서 하나를 선택하세요:\");\n",
    "\n",
    "number = random.randint(0, 2);\n",
    "if(number == 0):\n",
    "    computer = \"가위\";\n",
    "elif (number == 1):\n",
    "    computer = \"바위\";\n",
    "else:\n",
    "    computer = \"보\";\n",
    "print(\"사용자:\", player, \"컴퓨터\", computer)\n",
    "\n",
    "if(player == computer):\n",
    "    print(\"비겼음!\");\n",
    "elif(player == \"바위\"):\n",
    "    if(computer == \"보\"):\n",
    "        print(\"컴퓨터가 이겼음!\");\n",
    "    else:\n",
    "        print(\"사용자가 이겼음!\");\n",
    "elif(player == \"보\"):\n",
    "    if(computer == \"가위\"):\n",
    "        print(\"컴퓨터가 이겼음!\");\n",
    "    else:\n",
    "        print(\"사용자가 이겼음!\");\n",
    "elif(player == \"가위\"):\n",
    "    if(computer == \"바위\"):\n",
    "        print(\"컴퓨터가 이겼음!\");\n",
    "    else:\n",
    "        print(\"사용자가 이겼음!\");\n",
    "        \n"
   ]
  },
  {
   "cell_type": "code",
   "execution_count": 20,
   "metadata": {},
   "outputs": [
    {
     "name": "stdout",
     "output_type": "stream",
     "text": [
      "환영합니다.\n",
      "환영합니다.\n",
      "환영합니다.\n",
      "환영합니다.\n",
      "환영합니다.\n",
      "환영합니다.\n",
      "환영합니다.\n",
      "환영합니다.\n",
      "환영합니다.\n",
      "환영합니다.\n",
      "환영합니다.\n",
      "환영합니다.\n",
      "환영합니다.\n",
      "환영합니다.\n",
      "환영합니다.\n"
     ]
    }
   ],
   "source": [
    "for x in range(15):\n",
    "    print(\"환영합니다.\")"
   ]
  },
  {
   "cell_type": "code",
   "execution_count": 26,
   "metadata": {},
   "outputs": [
    {
     "name": "stdout",
     "output_type": "stream",
     "text": [
      "안녕!철, 안녕!영, 안녕!길, 안녕!유, "
     ]
    }
   ],
   "source": [
    "for name in [\"철\", \"영\", \"길\", \"유\"]:\n",
    "    print(\"안녕!\" + name, end =\", \")"
   ]
  },
  {
   "cell_type": "code",
   "execution_count": 24,
   "metadata": {},
   "outputs": [
    {
     "name": "stdout",
     "output_type": "stream",
     "text": [
      "0, 1, 2, 3, 4, 5, 6, 7, 8, 9, "
     ]
    }
   ],
   "source": [
    "for x in[0, 1, 2, 3, 4, 5, 6, 7, 8, 9]:\n",
    "    print(x, end=\" \")"
   ]
  },
  {
   "cell_type": "code",
   "execution_count": 27,
   "metadata": {},
   "outputs": [
    {
     "name": "stdout",
     "output_type": "stream",
     "text": [
      "45\n"
     ]
    }
   ],
   "source": [
    "sum = 0\n",
    "for x in range(10):\n",
    "    sum = sum + x\n",
    "print(sum)"
   ]
  },
  {
   "cell_type": "code",
   "execution_count": 28,
   "metadata": {},
   "outputs": [
    {
     "name": "stdout",
     "output_type": "stream",
     "text": [
      "1 -> -17.22\n",
      "11 -> -11.67\n",
      "21 -> -6.11\n",
      "31 -> -0.56\n",
      "41 -> 5.0\n",
      "51 -> 10.56\n",
      "61 -> 16.11\n",
      "71 -> 21.67\n",
      "81 -> 27.22\n",
      "91 -> 32.78\n"
     ]
    }
   ],
   "source": [
    "for t in range(1, 101, 10):\n",
    "    c = (t - 32) * 5 / 9\n",
    "    print(t, \"->\", round(c, 2))"
   ]
  },
  {
   "cell_type": "code",
   "execution_count": 30,
   "metadata": {},
   "outputs": [],
   "source": [
    "import math\n",
    "import turtle\n",
    "\n",
    "t = turtle.Turtle()\n",
    "\n",
    "t.pendown()\n",
    "for angle in range(360):\n",
    "    y = math.sin(math.radians(angle))\n",
    "    scalesX = angle\n",
    "    scalesY = y*100\n",
    "    t.goto (scalesX, scalesY)\n",
    "t.penup()"
   ]
  },
  {
   "cell_type": "code",
   "execution_count": 3,
   "metadata": {},
   "outputs": [
    {
     "name": "stdout",
     "output_type": "stream",
     "text": [
      "3*1 = 3\n",
      "3*2 = 6\n",
      "3*3 = 9\n",
      "3*4 = 12\n",
      "3*5 = 15\n",
      "3*6 = 18\n",
      "3*7 = 21\n",
      "3*8 = 24\n",
      "3*9 = 27\n"
     ]
    }
   ],
   "source": [
    "i = 1\n",
    "while i <=9:\n",
    "    print(\"3*%d = %d\" % (i, 3*i))\n",
    "    i = i + 1"
   ]
  },
  {
   "cell_type": "code",
   "execution_count": 4,
   "metadata": {},
   "outputs": [
    {
     "name": "stdout",
     "output_type": "stream",
     "text": [
      "1부터 100사이의 모든 3의 배수의 합은 1683입니다.\n"
     ]
    }
   ],
   "source": [
    "sum = 0\n",
    "number = 1\n",
    "\n",
    "while number <=100:\n",
    "    if number %3 == 0:\n",
    "        sum = sum + number\n",
    "    number = number + 1\n",
    "print(\"1부터 100사이의 모든 3의 배수의 합은 %d입니다.\" %sum)"
   ]
  },
  {
   "cell_type": "code",
   "execution_count": 6,
   "metadata": {},
   "outputs": [
    {
     "name": "stdout",
     "output_type": "stream",
     "text": [
      "자리수의 합은 10입니다.\n"
     ]
    }
   ],
   "source": [
    "number = 1234\n",
    "sum = 0;\n",
    "while number > 0 :\n",
    "    digit = number % 10\n",
    "    sum = sum + digit\n",
    "    number = number // 10\n",
    "print(\"자리수의 합은 %d입니다.\" %sum)"
   ]
  },
  {
   "cell_type": "markdown",
   "metadata": {},
   "source": [
    "## import random\n",
    "tries = 0\n",
    "number = random.randint(1, 100)\n",
    "print(\"1부터 100 사이의 숫자를 맞추시오\")\n",
    "while tries < 10:\n",
    "    guess = int(input(\"숫자를 입력하시오:\"))\n",
    "    tries = tries + 1\n",
    "    if guess < number:\n",
    "        print(\"낮음!\")\n",
    "    elif guess > number:\n",
    "        print(\"높음!\")\n",
    "    else:\n",
    "        break\n",
    "if guess == number:\n",
    "    print(\"축하합니다. 시도횟수=\", tires)\n",
    "else:\n",
    "    print(\"정답은\", number)"
   ]
  },
  {
   "cell_type": "code",
   "execution_count": null,
   "metadata": {},
   "outputs": [],
   "source": [
    "original = input('문자열을 입력하시오:')\n",
    "word = original.lower()\n",
    "vowels = 0\n",
    "consonants = 0\n",
    "\n",
    "if len(original) > 0 and original.isalpha():\n",
    "    for char in word:\n",
    "        if char in 'aeiou':\n",
    "            vowels = vowels + 1\n",
    "        else:\n",
    "            consonants = consonants + 1\n",
    "\n",
    "print(\"모음의 개수\", vowels)\n",
    "print(\"자음의 개수\", consonants)"
   ]
  },
  {
   "cell_type": "code",
   "execution_count": null,
   "metadata": {},
   "outputs": [],
   "source": []
  }
 ],
 "metadata": {
  "kernelspec": {
   "display_name": "Python 3",
   "language": "python",
   "name": "python3"
  },
  "language_info": {
   "codemirror_mode": {
    "name": "ipython",
    "version": 3
   },
   "file_extension": ".py",
   "mimetype": "text/x-python",
   "name": "python",
   "nbconvert_exporter": "python",
   "pygments_lexer": "ipython3",
   "version": "3.7.6"
  }
 },
 "nbformat": 4,
 "nbformat_minor": 4
}
