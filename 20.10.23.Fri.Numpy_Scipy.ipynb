{
 "cells": [
  {
   "cell_type": "code",
   "execution_count": 145,
   "metadata": {},
   "outputs": [],
   "source": [
    "import matplotlib.pyplot as plt\n",
    "import numpy as np\n",
    "import time\n",
    "import pandas as pd\n",
    "import scipy as sp\n",
    "from scipy import stats"
   ]
  },
  {
   "cell_type": "code",
   "execution_count": 2,
   "metadata": {},
   "outputs": [
    {
     "data": {
      "image/png": "[encoded data removed]",
      "text/plain": [
       "<Figure size 432x288 with 1 Axes>"
      ]
     },
     "metadata": {
      "needs_background": "light"
     },
     "output_type": "display_data"
    }
   ],
   "source": [
    "plt.plot([1, 2, 3, 4])\n",
    "plt.title(\"Simple Example\")\n",
    "plt.ylabel(\"some number\")\n",
    "plt.xlabel(\"x-coordinates\")\n",
    "plt.show()"
   ]
  },
  {
   "cell_type": "code",
   "execution_count": 3,
   "metadata": {},
   "outputs": [],
   "source": [
    "n = 1000\n",
    "m = 5000\n"
   ]
  },
  {
   "cell_type": "code",
   "execution_count": 5,
   "metadata": {
    "scrolled": true
   },
   "outputs": [
    {
     "data": {
      "text/plain": [
       "array([[0.26420251, 0.14132096, 0.75139002, ..., 0.52876764, 0.26133746,\n",
       "        0.93794499],\n",
       "       [0.20089704, 0.78979617, 0.73082409, ..., 0.67482326, 0.9290683 ,\n",
       "        0.44502101],\n",
       "       [0.66255905, 0.21982661, 0.98775597, ..., 0.04128987, 0.32351672,\n",
       "        0.61656788],\n",
       "       ...,\n",
       "       [0.18499238, 0.36326866, 0.45521666, ..., 0.20379305, 0.0672259 ,\n",
       "        0.32028401],\n",
       "       [0.76522357, 0.17485162, 0.97548171, ..., 0.27272277, 0.58795219,\n",
       "        0.96525523],\n",
       "       [0.89059735, 0.14034284, 0.39668244, ..., 0.77023466, 0.15894468,\n",
       "        0.75724284]])"
      ]
     },
     "execution_count": 5,
     "metadata": {},
     "output_type": "execute_result"
    }
   ],
   "source": [
    "x = np.random.rand(n, m)\n",
    "x"
   ]
  },
  {
   "cell_type": "code",
   "execution_count": 6,
   "metadata": {},
   "outputs": [
    {
     "data": {
      "text/plain": [
       "array([[7.33264742e-01],\n",
       "       [2.89564483e-01],\n",
       "       [6.42656429e-01],\n",
       "       [3.44191953e-01],\n",
       "       [5.35623673e-01],\n",
       "       [7.98509277e-01],\n",
       "       [9.67394700e-01],\n",
       "       [5.28299820e-02],\n",
       "       [9.94545446e-01],\n",
       "       [3.66090793e-01],\n",
       "       [1.14186066e-01],\n",
       "       [4.66478581e-01],\n",
       "       [5.76719231e-02],\n",
       "       [1.20893884e-01],\n",
       "       [4.70289102e-01],\n",
       "       [7.20642616e-02],\n",
       "       [9.28064637e-01],\n",
       "       [6.93623301e-01],\n",
       "       [2.97733543e-01],\n",
       "       [4.42933828e-01],\n",
       "       [2.52106570e-02],\n",
       "       [6.23878567e-01],\n",
       "       [1.06649605e-01],\n",
       "       [8.36633477e-01],\n",
       "       [6.62918984e-01],\n",
       "       [1.51963104e-01],\n",
       "       [4.90421813e-02],\n",
       "       [7.66873546e-01],\n",
       "       [1.90105323e-01],\n",
       "       [7.75703158e-01],\n",
       "       [8.58578500e-01],\n",
       "       [1.82735446e-01],\n",
       "       [9.76351964e-01],\n",
       "       [6.64224563e-01],\n",
       "       [9.28391286e-02],\n",
       "       [1.14802713e-01],\n",
       "       [1.25183986e-01],\n",
       "       [8.55402982e-01],\n",
       "       [5.56064672e-01],\n",
       "       [3.22516472e-01],\n",
       "       [7.46532287e-01],\n",
       "       [3.88263354e-01],\n",
       "       [7.62853313e-01],\n",
       "       [7.80194154e-03],\n",
       "       [4.46708514e-01],\n",
       "       [2.40306183e-02],\n",
       "       [2.15552119e-01],\n",
       "       [7.17970155e-01],\n",
       "       [4.68250723e-01],\n",
       "       [4.47830692e-01],\n",
       "       [2.92084751e-02],\n",
       "       [8.62484935e-02],\n",
       "       [4.74941329e-01],\n",
       "       [2.02563212e-01],\n",
       "       [9.19551362e-01],\n",
       "       [5.83389339e-01],\n",
       "       [1.04618190e-01],\n",
       "       [2.22400516e-01],\n",
       "       [9.26835391e-01],\n",
       "       [9.96463996e-01],\n",
       "       [8.72320998e-01],\n",
       "       [7.16158946e-01],\n",
       "       [7.69697046e-01],\n",
       "       [5.10421971e-01],\n",
       "       [2.79621936e-01],\n",
       "       [2.14357185e-02],\n",
       "       [7.33216216e-01],\n",
       "       [9.71059146e-01],\n",
       "       [9.01967975e-01],\n",
       "       [4.34198227e-02],\n",
       "       [3.29886358e-01],\n",
       "       [4.25741625e-01],\n",
       "       [4.01531299e-01],\n",
       "       [2.37189793e-01],\n",
       "       [7.79307568e-01],\n",
       "       [3.65483141e-01],\n",
       "       [8.12376020e-02],\n",
       "       [6.57458796e-01],\n",
       "       [1.33849682e-01],\n",
       "       [9.08933244e-01],\n",
       "       [5.65683060e-01],\n",
       "       [1.74497980e-01],\n",
       "       [8.65527281e-01],\n",
       "       [4.56184768e-01],\n",
       "       [7.73187333e-01],\n",
       "       [1.79773267e-01],\n",
       "       [4.79275141e-01],\n",
       "       [4.22743948e-01],\n",
       "       [6.59656208e-01],\n",
       "       [7.28371011e-01],\n",
       "       [6.86865117e-01],\n",
       "       [5.36831296e-01],\n",
       "       [1.95143681e-01],\n",
       "       [4.93015656e-01],\n",
       "       [6.16005579e-01],\n",
       "       [8.45792654e-03],\n",
       "       [1.66646749e-01],\n",
       "       [7.03832216e-01],\n",
       "       [7.74668795e-01],\n",
       "       [8.66394067e-01],\n",
       "       [2.60420687e-02],\n",
       "       [4.41738760e-01],\n",
       "       [9.92879840e-01],\n",
       "       [1.42910973e-01],\n",
       "       [2.58600507e-01],\n",
       "       [9.28253736e-01],\n",
       "       [1.04351189e-01],\n",
       "       [9.95292062e-01],\n",
       "       [4.41102715e-01],\n",
       "       [3.79384852e-01],\n",
       "       [7.91104289e-01],\n",
       "       [6.18233907e-02],\n",
       "       [2.98746807e-01],\n",
       "       [9.29269339e-01],\n",
       "       [4.53030449e-01],\n",
       "       [9.51139865e-01],\n",
       "       [3.37610278e-01],\n",
       "       [5.25799155e-01],\n",
       "       [2.21691043e-01],\n",
       "       [4.65079695e-01],\n",
       "       [3.83768560e-01],\n",
       "       [3.18943365e-01],\n",
       "       [5.19096719e-01],\n",
       "       [2.44719526e-01],\n",
       "       [8.50472339e-01],\n",
       "       [1.86601037e-01],\n",
       "       [2.11779791e-01],\n",
       "       [3.92066500e-02],\n",
       "       [2.16389409e-01],\n",
       "       [5.98899597e-01],\n",
       "       [8.68943761e-01],\n",
       "       [8.94327996e-01],\n",
       "       [3.15102174e-01],\n",
       "       [5.27740405e-01],\n",
       "       [5.03431394e-03],\n",
       "       [5.35835819e-01],\n",
       "       [4.55497976e-01],\n",
       "       [8.72545082e-01],\n",
       "       [1.09510784e-01],\n",
       "       [5.14115095e-01],\n",
       "       [3.81086753e-01],\n",
       "       [7.01910481e-01],\n",
       "       [2.75911756e-01],\n",
       "       [5.84267062e-01],\n",
       "       [4.65288799e-01],\n",
       "       [8.76635380e-01],\n",
       "       [7.72949714e-01],\n",
       "       [7.29715061e-01],\n",
       "       [5.59533872e-01],\n",
       "       [5.36709630e-01],\n",
       "       [8.41421732e-01],\n",
       "       [1.35213148e-01],\n",
       "       [9.08165734e-01],\n",
       "       [3.06687426e-01],\n",
       "       [8.22375702e-01],\n",
       "       [4.29244851e-01],\n",
       "       [8.55023346e-01],\n",
       "       [8.18680048e-01],\n",
       "       [7.36805937e-01],\n",
       "       [6.92041292e-01],\n",
       "       [9.69746890e-01],\n",
       "       [5.31374964e-01],\n",
       "       [7.92562383e-02],\n",
       "       [6.04446405e-01],\n",
       "       [2.06896092e-01],\n",
       "       [5.73004094e-01],\n",
       "       [2.11211875e-01],\n",
       "       [8.22081281e-02],\n",
       "       [1.04567829e-01],\n",
       "       [6.30466034e-01],\n",
       "       [9.53112610e-01],\n",
       "       [6.53033547e-01],\n",
       "       [7.92636364e-01],\n",
       "       [6.76520229e-01],\n",
       "       [7.99414935e-01],\n",
       "       [6.20773013e-01],\n",
       "       [3.70895177e-01],\n",
       "       [2.94967372e-01],\n",
       "       [7.64458633e-01],\n",
       "       [7.44323697e-01],\n",
       "       [7.40282866e-01],\n",
       "       [3.78985253e-01],\n",
       "       [1.28977627e-01],\n",
       "       [9.90887193e-01],\n",
       "       [3.61752929e-02],\n",
       "       [3.62407819e-01],\n",
       "       [6.44913062e-01],\n",
       "       [7.55991209e-03],\n",
       "       [3.89690962e-01],\n",
       "       [8.10400540e-01],\n",
       "       [7.45395675e-01],\n",
       "       [5.06212110e-01],\n",
       "       [6.63354741e-01],\n",
       "       [4.64700249e-01],\n",
       "       [9.38747865e-01],\n",
       "       [7.03870589e-01],\n",
       "       [2.80496052e-01],\n",
       "       [1.82632024e-01],\n",
       "       [2.33772555e-02],\n",
       "       [6.93406721e-01],\n",
       "       [5.52286847e-01],\n",
       "       [6.78044665e-01],\n",
       "       [3.75866552e-01],\n",
       "       [4.01924812e-01],\n",
       "       [9.57608792e-01],\n",
       "       [4.96663334e-01],\n",
       "       [9.57914958e-01],\n",
       "       [6.61025272e-01],\n",
       "       [8.59559294e-01],\n",
       "       [3.87138797e-01],\n",
       "       [4.77732234e-01],\n",
       "       [8.61495283e-01],\n",
       "       [3.65709946e-01],\n",
       "       [3.96986037e-01],\n",
       "       [1.18984568e-01],\n",
       "       [2.21245407e-01],\n",
       "       [7.63365430e-01],\n",
       "       [6.75030441e-01],\n",
       "       [3.77724646e-01],\n",
       "       [8.23564531e-01],\n",
       "       [5.48836601e-01],\n",
       "       [8.78204308e-01],\n",
       "       [8.88022311e-01],\n",
       "       [2.29529389e-01],\n",
       "       [6.82218778e-01],\n",
       "       [3.27103278e-01],\n",
       "       [8.67179635e-01],\n",
       "       [1.46274572e-02],\n",
       "       [9.47566725e-01],\n",
       "       [8.23592556e-01],\n",
       "       [6.64754190e-01],\n",
       "       [5.73987836e-01],\n",
       "       [6.92995754e-02],\n",
       "       [7.74149294e-01],\n",
       "       [8.01306258e-01],\n",
       "       [2.81121841e-01],\n",
       "       [5.37854808e-03],\n",
       "       [5.27974540e-01],\n",
       "       [4.39475645e-01],\n",
       "       [6.04003560e-01],\n",
       "       [6.06754829e-01],\n",
       "       [5.92955596e-01],\n",
       "       [6.45935910e-01],\n",
       "       [2.88413062e-01],\n",
       "       [9.88211808e-01],\n",
       "       [7.36959671e-01],\n",
       "       [2.27173855e-01],\n",
       "       [7.54929894e-01],\n",
       "       [7.61755564e-01],\n",
       "       [7.99212513e-01],\n",
       "       [9.91953236e-01],\n",
       "       [8.53759313e-01],\n",
       "       [8.80967115e-01],\n",
       "       [8.92115652e-01],\n",
       "       [8.68158287e-01],\n",
       "       [6.78479253e-02],\n",
       "       [9.28215888e-01],\n",
       "       [2.68092181e-01],\n",
       "       [8.52171540e-01],\n",
       "       [2.83559369e-01],\n",
       "       [4.19475530e-01],\n",
       "       [4.51091525e-01],\n",
       "       [9.48195508e-01],\n",
       "       [3.32321854e-01],\n",
       "       [4.09650137e-01],\n",
       "       [8.29133720e-01],\n",
       "       [4.87448617e-01],\n",
       "       [9.64841901e-01],\n",
       "       [7.15511490e-01],\n",
       "       [7.51069941e-01],\n",
       "       [3.48062923e-01],\n",
       "       [1.29373890e-01],\n",
       "       [5.88038919e-01],\n",
       "       [3.12651551e-01],\n",
       "       [7.78768882e-01],\n",
       "       [8.42379615e-01],\n",
       "       [2.70107399e-01],\n",
       "       [5.34625347e-01],\n",
       "       [4.92072351e-01],\n",
       "       [2.86503829e-01],\n",
       "       [8.36434619e-01],\n",
       "       [5.35022453e-01],\n",
       "       [2.07029700e-01],\n",
       "       [6.98680198e-01],\n",
       "       [4.91176775e-01],\n",
       "       [7.86099171e-01],\n",
       "       [7.87888561e-01],\n",
       "       [8.30836609e-03],\n",
       "       [2.85754171e-01],\n",
       "       [3.18216072e-01],\n",
       "       [4.98300541e-01],\n",
       "       [6.06050753e-01],\n",
       "       [7.68091692e-01],\n",
       "       [4.83177785e-01],\n",
       "       [1.19247546e-01],\n",
       "       [7.18750038e-01],\n",
       "       [5.77105228e-01],\n",
       "       [6.11277175e-02],\n",
       "       [7.42844513e-01],\n",
       "       [6.97988344e-01],\n",
       "       [6.63686471e-01],\n",
       "       [3.43016516e-01],\n",
       "       [5.84880657e-01],\n",
       "       [1.00540728e-02],\n",
       "       [6.32192121e-01],\n",
       "       [9.06605596e-02],\n",
       "       [8.60954322e-01],\n",
       "       [3.09931216e-01],\n",
       "       [7.40654570e-02],\n",
       "       [8.21376750e-01],\n",
       "       [8.42968093e-01],\n",
       "       [8.89439874e-01],\n",
       "       [8.76269505e-01],\n",
       "       [4.91894592e-02],\n",
       "       [6.90158952e-01],\n",
       "       [8.66148691e-01],\n",
       "       [2.34941864e-02],\n",
       "       [2.15696967e-01],\n",
       "       [1.89567419e-01],\n",
       "       [6.36271362e-01],\n",
       "       [2.59545812e-01],\n",
       "       [2.46151575e-01],\n",
       "       [2.45555073e-01],\n",
       "       [5.21997010e-01],\n",
       "       [5.10412393e-01],\n",
       "       [5.91867515e-01],\n",
       "       [5.45575259e-01],\n",
       "       [8.17025094e-01],\n",
       "       [8.79868626e-01],\n",
       "       [2.62818574e-01],\n",
       "       [4.17616737e-01],\n",
       "       [3.83291754e-01],\n",
       "       [2.80310823e-01],\n",
       "       [5.84563898e-01],\n",
       "       [1.98093066e-02],\n",
       "       [7.37702188e-01],\n",
       "       [1.46580592e-01],\n",
       "       [7.58063863e-01],\n",
       "       [1.75658267e-01],\n",
       "       [8.56901379e-01],\n",
       "       [5.26784944e-01],\n",
       "       [6.60101683e-01],\n",
       "       [9.66427397e-02],\n",
       "       [7.48228332e-01],\n",
       "       [4.66189479e-01],\n",
       "       [6.44780505e-01],\n",
       "       [8.94391128e-02],\n",
       "       [1.05270825e-01],\n",
       "       [4.32672166e-02],\n",
       "       [3.27789963e-01],\n",
       "       [5.17827451e-01],\n",
       "       [2.59447629e-01],\n",
       "       [5.20781948e-01],\n",
       "       [2.28287719e-01],\n",
       "       [7.14263126e-01],\n",
       "       [2.33089521e-01],\n",
       "       [2.17765572e-01],\n",
       "       [7.56042147e-01],\n",
       "       [6.73234998e-01],\n",
       "       [4.27855308e-01],\n",
       "       [2.63001413e-01],\n",
       "       [6.59398748e-01],\n",
       "       [8.76891547e-01],\n",
       "       [4.28692193e-01],\n",
       "       [3.96282098e-01],\n",
       "       [2.81438353e-01],\n",
       "       [4.51014599e-01],\n",
       "       [1.33610477e-01],\n",
       "       [2.97016520e-01],\n",
       "       [7.66370307e-01],\n",
       "       [8.48416848e-01],\n",
       "       [7.36155927e-01],\n",
       "       [6.51996962e-01],\n",
       "       [3.08312642e-01],\n",
       "       [4.39969584e-01],\n",
       "       [8.83637686e-01],\n",
       "       [8.88483559e-01],\n",
       "       [5.12582308e-01],\n",
       "       [4.18848711e-01],\n",
       "       [7.66335650e-01],\n",
       "       [6.01082100e-01],\n",
       "       [7.90619510e-01],\n",
       "       [3.54190016e-01],\n",
       "       [9.03921594e-01],\n",
       "       [2.79716771e-02],\n",
       "       [1.66111351e-01],\n",
       "       [5.18463657e-01],\n",
       "       [6.31713443e-01],\n",
       "       [9.60052646e-01],\n",
       "       [8.71991995e-01],\n",
       "       [7.28080477e-01],\n",
       "       [6.45889543e-01],\n",
       "       [2.06876944e-01],\n",
       "       [7.55906099e-02],\n",
       "       [4.75711730e-01],\n",
       "       [4.08865388e-01],\n",
       "       [7.34905952e-01],\n",
       "       [9.96758896e-01],\n",
       "       [3.17695639e-01],\n",
       "       [6.52722799e-02],\n",
       "       [4.43421353e-01],\n",
       "       [3.73478823e-01],\n",
       "       [9.29515071e-01],\n",
       "       [5.89237732e-01],\n",
       "       [6.30871629e-01],\n",
       "       [4.51801052e-01],\n",
       "       [3.68385517e-01],\n",
       "       [2.45569732e-02],\n",
       "       [5.17986503e-01],\n",
       "       [7.80467634e-01],\n",
       "       [2.51880077e-01],\n",
       "       [3.68082754e-01],\n",
       "       [4.74180464e-01],\n",
       "       [5.22357924e-01],\n",
       "       [6.70247776e-01],\n",
       "       [3.36541496e-01],\n",
       "       [3.18989357e-01],\n",
       "       [1.13772328e-01],\n",
       "       [7.19699076e-01],\n",
       "       [3.24024387e-01],\n",
       "       [2.94596982e-01],\n",
       "       [9.87737888e-01],\n",
       "       [2.93752914e-01],\n",
       "       [2.02336183e-01],\n",
       "       [9.51326772e-01],\n",
       "       [8.26381834e-01],\n",
       "       [7.49409333e-01],\n",
       "       [3.00682711e-01],\n",
       "       [7.98207613e-01],\n",
       "       [9.59694252e-01],\n",
       "       [4.87667137e-01],\n",
       "       [1.11675114e-01],\n",
       "       [3.88012643e-01],\n",
       "       [7.55169926e-01],\n",
       "       [2.95817708e-01],\n",
       "       [6.36082339e-01],\n",
       "       [7.71626878e-01],\n",
       "       [4.87792550e-01],\n",
       "       [1.96533066e-01],\n",
       "       [9.82525048e-01],\n",
       "       [9.57883344e-01],\n",
       "       [6.74517330e-01],\n",
       "       [3.32541922e-01],\n",
       "       [4.40019893e-01],\n",
       "       [7.03807353e-01],\n",
       "       [1.30052011e-01],\n",
       "       [3.61647543e-01],\n",
       "       [7.27637458e-01],\n",
       "       [7.60417211e-01],\n",
       "       [9.26771965e-01],\n",
       "       [7.61739618e-01],\n",
       "       [5.89882330e-01],\n",
       "       [3.45206238e-01],\n",
       "       [7.70266441e-01],\n",
       "       [2.87245118e-01],\n",
       "       [1.55175915e-01],\n",
       "       [5.38418030e-01],\n",
       "       [6.83187838e-01],\n",
       "       [8.85770728e-01],\n",
       "       [4.40502423e-01],\n",
       "       [8.00137829e-01],\n",
       "       [1.04197345e-01],\n",
       "       [3.32824273e-02],\n",
       "       [9.30969179e-01],\n",
       "       [3.09601055e-01],\n",
       "       [4.33458163e-01],\n",
       "       [3.79886727e-01],\n",
       "       [9.99388258e-01],\n",
       "       [9.87503761e-01],\n",
       "       [4.66998945e-01],\n",
       "       [2.51147500e-01],\n",
       "       [1.60180911e-01],\n",
       "       [3.27814624e-01],\n",
       "       [5.01973355e-02],\n",
       "       [3.14361130e-01],\n",
       "       [8.65525348e-01],\n",
       "       [2.96802646e-01],\n",
       "       [1.50308544e-01],\n",
       "       [9.53214449e-01],\n",
       "       [5.97283302e-01],\n",
       "       [7.74704878e-01],\n",
       "       [8.31620928e-01],\n",
       "       [7.98584318e-01],\n",
       "       [1.16279127e-01],\n",
       "       [3.87036638e-01],\n",
       "       [4.38095522e-01],\n",
       "       [1.80439736e-01],\n",
       "       [2.92498818e-02],\n",
       "       [9.31616871e-01],\n",
       "       [4.38658829e-02],\n",
       "       [8.64578068e-01],\n",
       "       [2.06773557e-04],\n",
       "       [8.05884187e-01],\n",
       "       [4.37141750e-01],\n",
       "       [8.48005630e-01],\n",
       "       [5.16139773e-02],\n",
       "       [7.72443349e-02],\n",
       "       [3.50802716e-01],\n",
       "       [1.68250031e-01],\n",
       "       [2.52882952e-02],\n",
       "       [3.62453621e-02],\n",
       "       [2.83540234e-01],\n",
       "       [2.57503492e-01],\n",
       "       [4.08844311e-01],\n",
       "       [2.05277275e-01],\n",
       "       [5.29147182e-01],\n",
       "       [3.58536058e-01],\n",
       "       [5.80562255e-01],\n",
       "       [8.59583652e-01],\n",
       "       [5.16116226e-01],\n",
       "       [2.94396320e-01],\n",
       "       [4.20439178e-02],\n",
       "       [6.50879715e-01],\n",
       "       [5.30121998e-01],\n",
       "       [1.28969480e-01],\n",
       "       [6.69316641e-01],\n",
       "       [5.74759774e-01],\n",
       "       [4.84205940e-01],\n",
       "       [9.61503945e-01],\n",
       "       [4.52412725e-01],\n",
       "       [5.32324009e-01],\n",
       "       [5.23524287e-01],\n",
       "       [9.69626251e-01],\n",
       "       [5.49793112e-01],\n",
       "       [2.06032206e-01],\n",
       "       [1.36573842e-01],\n",
       "       [1.86736514e-01],\n",
       "       [6.46645519e-02],\n",
       "       [6.13751263e-01],\n",
       "       [2.86469708e-01],\n",
       "       [7.64404791e-01],\n",
       "       [2.55243816e-01],\n",
       "       [3.52985870e-01],\n",
       "       [7.92016276e-01],\n",
       "       [1.44418376e-01],\n",
       "       [5.64844294e-01],\n",
       "       [3.71034326e-01],\n",
       "       [7.51535625e-01],\n",
       "       [6.05512543e-01],\n",
       "       [3.41621296e-01],\n",
       "       [6.77089677e-01],\n",
       "       [5.26271401e-01],\n",
       "       [6.75518018e-01],\n",
       "       [9.22602968e-01],\n",
       "       [1.96486992e-01],\n",
       "       [7.18462395e-01],\n",
       "       [2.23416304e-01],\n",
       "       [9.38133901e-01],\n",
       "       [3.33225050e-01],\n",
       "       [7.86548038e-01],\n",
       "       [1.48952122e-02],\n",
       "       [1.78320160e-01],\n",
       "       [7.54789520e-01],\n",
       "       [6.32660561e-01],\n",
       "       [3.39722671e-01],\n",
       "       [8.53778349e-01],\n",
       "       [4.41235566e-01],\n",
       "       [3.03159625e-01],\n",
       "       [6.09515414e-01],\n",
       "       [7.04628559e-01],\n",
       "       [5.23846990e-01],\n",
       "       [4.50374830e-01],\n",
       "       [7.90107375e-01],\n",
       "       [1.59206269e-01],\n",
       "       [6.84879658e-01],\n",
       "       [1.18657219e-01],\n",
       "       [2.10482571e-01],\n",
       "       [6.06219868e-01],\n",
       "       [6.68499802e-01],\n",
       "       [6.69182173e-01],\n",
       "       [3.50064468e-01],\n",
       "       [7.39953569e-01],\n",
       "       [9.55990762e-02],\n",
       "       [7.03003496e-01],\n",
       "       [2.37053203e-01],\n",
       "       [2.59611844e-01],\n",
       "       [6.24009786e-01],\n",
       "       [9.76459221e-01],\n",
       "       [1.12111757e-02],\n",
       "       [5.63284302e-01],\n",
       "       [2.54145885e-02],\n",
       "       [1.84480416e-01],\n",
       "       [5.34278518e-01],\n",
       "       [3.33152851e-01],\n",
       "       [3.94128859e-01],\n",
       "       [8.32774406e-01],\n",
       "       [5.68391604e-01],\n",
       "       [7.54123006e-01],\n",
       "       [8.97574800e-01],\n",
       "       [2.31736527e-01],\n",
       "       [7.54904725e-01],\n",
       "       [6.89089555e-01],\n",
       "       [5.35386213e-01],\n",
       "       [8.74368603e-01],\n",
       "       [3.15620129e-01],\n",
       "       [7.19827427e-01],\n",
       "       [6.63619189e-01],\n",
       "       [4.04567988e-01],\n",
       "       [2.47507917e-01],\n",
       "       [5.18337338e-01],\n",
       "       [2.43341120e-01],\n",
       "       [7.56447869e-01],\n",
       "       [2.22787126e-01],\n",
       "       [8.38876051e-01],\n",
       "       [4.19507823e-01],\n",
       "       [3.07839794e-01],\n",
       "       [9.67637246e-01],\n",
       "       [6.81691918e-01],\n",
       "       [9.11972159e-01],\n",
       "       [6.80316911e-01],\n",
       "       [2.92790699e-01],\n",
       "       [2.08975922e-01],\n",
       "       [7.51730104e-01],\n",
       "       [3.27458033e-01],\n",
       "       [1.58724000e-01],\n",
       "       [8.33674628e-01],\n",
       "       [6.30222231e-02],\n",
       "       [3.93927406e-01],\n",
       "       [9.49071049e-01],\n",
       "       [5.79692870e-01],\n",
       "       [8.99769820e-01],\n",
       "       [2.47890921e-01],\n",
       "       [6.44022419e-01],\n",
       "       [7.52644554e-01],\n",
       "       [3.37262604e-01],\n",
       "       [9.98865564e-01],\n",
       "       [3.44743601e-01],\n",
       "       [9.81881632e-01],\n",
       "       [7.62373751e-01],\n",
       "       [3.98290039e-01],\n",
       "       [5.40257043e-01],\n",
       "       [8.84729807e-01],\n",
       "       [5.28996002e-01],\n",
       "       [5.46394121e-01],\n",
       "       [9.66182153e-01],\n",
       "       [7.99861585e-01],\n",
       "       [7.50073902e-01],\n",
       "       [8.91795866e-01],\n",
       "       [5.80775438e-01],\n",
       "       [9.75352830e-01],\n",
       "       [4.70651120e-01],\n",
       "       [5.37899537e-01],\n",
       "       [5.60068204e-01],\n",
       "       [8.07452871e-01],\n",
       "       [4.45118399e-01],\n",
       "       [1.85819005e-01],\n",
       "       [1.51709470e-01],\n",
       "       [8.76583138e-01],\n",
       "       [5.34792251e-01],\n",
       "       [8.88913657e-01],\n",
       "       [8.84484550e-01],\n",
       "       [5.05300170e-01],\n",
       "       [1.47234606e-02],\n",
       "       [2.52060416e-01],\n",
       "       [5.50809633e-01],\n",
       "       [9.60807944e-01],\n",
       "       [5.86023178e-02],\n",
       "       [9.03436693e-01],\n",
       "       [9.17738839e-01],\n",
       "       [6.51561262e-01],\n",
       "       [3.44254363e-01],\n",
       "       [3.18004479e-01],\n",
       "       [5.18032223e-01],\n",
       "       [5.65364823e-01],\n",
       "       [5.07192003e-01],\n",
       "       [9.20754105e-01],\n",
       "       [9.22440431e-01],\n",
       "       [6.48159971e-01],\n",
       "       [8.69100238e-02],\n",
       "       [9.93767360e-01],\n",
       "       [8.23061543e-01],\n",
       "       [4.48182270e-01],\n",
       "       [6.27882484e-01],\n",
       "       [5.26879673e-01],\n",
       "       [7.40966074e-01],\n",
       "       [4.20945976e-02],\n",
       "       [8.55380294e-01],\n",
       "       [1.66519681e-01],\n",
       "       [5.06550866e-01],\n",
       "       [7.13528277e-02],\n",
       "       [8.47536771e-01],\n",
       "       [9.65997435e-01],\n",
       "       [2.70058277e-01],\n",
       "       [6.65352442e-01],\n",
       "       [6.44239628e-01],\n",
       "       [8.15532635e-01],\n",
       "       [4.56235246e-01],\n",
       "       [3.34143699e-01],\n",
       "       [2.02611509e-01],\n",
       "       [4.07857013e-02],\n",
       "       [1.78413532e-01],\n",
       "       [8.30252220e-01],\n",
       "       [6.64967506e-01],\n",
       "       [3.62279687e-01],\n",
       "       [5.23363509e-01],\n",
       "       [8.92280211e-01],\n",
       "       [9.94706655e-01],\n",
       "       [2.35173188e-01],\n",
       "       [3.58419010e-01],\n",
       "       [3.66162954e-01],\n",
       "       [7.94030432e-01],\n",
       "       [8.46000617e-01],\n",
       "       [7.36199308e-02],\n",
       "       [6.78956273e-01],\n",
       "       [9.69075204e-01],\n",
       "       [8.69393935e-01],\n",
       "       [3.09464721e-02],\n",
       "       [6.11948261e-01],\n",
       "       [2.56150692e-01],\n",
       "       [5.41064239e-01],\n",
       "       [2.02206044e-01],\n",
       "       [8.91630590e-01],\n",
       "       [7.05921478e-01],\n",
       "       [9.69740193e-01],\n",
       "       [6.71967857e-02],\n",
       "       [3.14451580e-01],\n",
       "       [5.40758466e-01],\n",
       "       [3.56836340e-01],\n",
       "       [5.32068545e-01],\n",
       "       [6.89167009e-01],\n",
       "       [1.50471867e-01],\n",
       "       [5.38464065e-01],\n",
       "       [2.12028995e-01],\n",
       "       [4.98931703e-01],\n",
       "       [1.27099075e-01],\n",
       "       [7.10751695e-01],\n",
       "       [7.75882957e-01],\n",
       "       [5.62155543e-01],\n",
       "       [2.40269394e-01],\n",
       "       [5.89980083e-01],\n",
       "       [9.55093283e-01],\n",
       "       [1.60206356e-01],\n",
       "       [4.79321117e-01],\n",
       "       [6.34182597e-01],\n",
       "       [1.21288292e-01],\n",
       "       [2.36963296e-01],\n",
       "       [9.04071884e-01],\n",
       "       [1.58872617e-01],\n",
       "       [8.04122832e-01],\n",
       "       [9.97527079e-01],\n",
       "       [7.65067405e-01],\n",
       "       [8.30839325e-01],\n",
       "       [5.96907842e-02],\n",
       "       [5.68235001e-01],\n",
       "       [5.24537702e-01],\n",
       "       [5.31084667e-02],\n",
       "       [3.94591543e-01],\n",
       "       [7.77829202e-01],\n",
       "       [6.92354357e-01],\n",
       "       [1.42940748e-01],\n",
       "       [1.53374262e-01],\n",
       "       [3.29800880e-01],\n",
       "       [9.10254238e-01],\n",
       "       [1.25258633e-01],\n",
       "       [1.87247382e-01],\n",
       "       [3.47412187e-01],\n",
       "       [9.56132465e-01],\n",
       "       [6.53177925e-01],\n",
       "       [8.90444510e-01],\n",
       "       [4.47650134e-01],\n",
       "       [4.76587849e-01],\n",
       "       [2.24803034e-01],\n",
       "       [1.58883277e-01],\n",
       "       [3.31484941e-01],\n",
       "       [8.10724815e-01],\n",
       "       [9.07585146e-02],\n",
       "       [1.74893418e-01],\n",
       "       [1.11442785e-02],\n",
       "       [1.35910828e-01],\n",
       "       [9.54050353e-01],\n",
       "       [6.60572523e-01],\n",
       "       [4.51366851e-01],\n",
       "       [8.90336773e-01],\n",
       "       [2.25392965e-01],\n",
       "       [7.20319473e-01],\n",
       "       [7.61180544e-01],\n",
       "       [4.86714360e-01],\n",
       "       [7.80132618e-01],\n",
       "       [5.47293142e-01],\n",
       "       [9.71378607e-01],\n",
       "       [4.77645086e-01],\n",
       "       [3.52384015e-01],\n",
       "       [8.49163823e-01],\n",
       "       [9.50789052e-01],\n",
       "       [7.35636784e-01],\n",
       "       [5.44085264e-01],\n",
       "       [5.19610010e-01],\n",
       "       [4.82687931e-01],\n",
       "       [5.12759856e-01],\n",
       "       [3.45541004e-01],\n",
       "       [9.56835535e-01],\n",
       "       [3.09390245e-02],\n",
       "       [1.61550030e-01],\n",
       "       [1.29684322e-01],\n",
       "       [4.87454100e-01],\n",
       "       [8.44956093e-01],\n",
       "       [4.61120248e-01],\n",
       "       [2.67117537e-01],\n",
       "       [9.89824823e-01],\n",
       "       [7.76931136e-01],\n",
       "       [9.87441718e-01],\n",
       "       [9.78624086e-01],\n",
       "       [3.55813336e-01],\n",
       "       [7.87835001e-01],\n",
       "       [7.94116389e-01],\n",
       "       [6.35790157e-01],\n",
       "       [2.32413380e-01],\n",
       "       [5.41329849e-01],\n",
       "       [8.74000894e-01],\n",
       "       [7.03840809e-01],\n",
       "       [4.62503119e-01],\n",
       "       [8.22050846e-01],\n",
       "       [9.48114710e-02],\n",
       "       [8.90106958e-01],\n",
       "       [5.78130791e-01],\n",
       "       [9.91876464e-01],\n",
       "       [8.28606514e-01],\n",
       "       [3.69810840e-01],\n",
       "       [8.03830756e-01],\n",
       "       [3.56007210e-01],\n",
       "       [4.09268306e-01],\n",
       "       [9.38194720e-01],\n",
       "       [7.69726574e-01],\n",
       "       [2.26698653e-01],\n",
       "       [1.79525373e-01],\n",
       "       [4.42761108e-01],\n",
       "       [3.83030545e-01],\n",
       "       [8.98159038e-01],\n",
       "       [3.85119660e-01],\n",
       "       [7.37691061e-01],\n",
       "       [5.37801938e-01],\n",
       "       [9.55935636e-01],\n",
       "       [6.32982148e-01],\n",
       "       [3.19970498e-01],\n",
       "       [5.50537053e-01],\n",
       "       [4.10077435e-02],\n",
       "       [8.87250120e-01],\n",
       "       [5.73277560e-01],\n",
       "       [2.75859483e-02],\n",
       "       [2.83850621e-01],\n",
       "       [9.03451064e-01],\n",
       "       [4.42886721e-01],\n",
       "       [7.11940078e-01],\n",
       "       [2.58801359e-02],\n",
       "       [9.95419567e-02],\n",
       "       [8.24917063e-01],\n",
       "       [9.53534287e-01],\n",
       "       [7.00908390e-01],\n",
       "       [9.57564572e-01],\n",
       "       [2.86494254e-02],\n",
       "       [5.88804280e-02],\n",
       "       [7.77885751e-01],\n",
       "       [3.37477806e-01],\n",
       "       [7.72292218e-02],\n",
       "       [6.25490813e-01],\n",
       "       [2.24592938e-01],\n",
       "       [8.56156046e-01],\n",
       "       [4.65117287e-01],\n",
       "       [5.95220120e-01],\n",
       "       [8.96984298e-01],\n",
       "       [1.04551164e-01],\n",
       "       [8.46450046e-01],\n",
       "       [3.71702602e-01],\n",
       "       [1.97428029e-01],\n",
       "       [3.09965665e-01],\n",
       "       [5.13666522e-01],\n",
       "       [2.05678041e-01],\n",
       "       [5.22310461e-01],\n",
       "       [1.08894176e-01],\n",
       "       [4.81305053e-01],\n",
       "       [8.05094400e-01],\n",
       "       [5.46100270e-01],\n",
       "       [9.49351828e-01],\n",
       "       [4.84281497e-01],\n",
       "       [2.32399390e-01],\n",
       "       [9.03812272e-01],\n",
       "       [1.64041097e-02],\n",
       "       [4.36508467e-01],\n",
       "       [3.91596483e-01],\n",
       "       [4.26181353e-02],\n",
       "       [6.48187226e-01],\n",
       "       [9.96596310e-01],\n",
       "       [2.38288531e-01],\n",
       "       [1.52312328e-02],\n",
       "       [8.34682725e-02],\n",
       "       [4.42235984e-01],\n",
       "       [2.58888725e-01],\n",
       "       [6.18034502e-01],\n",
       "       [1.04350208e-01],\n",
       "       [7.54059017e-01],\n",
       "       [7.98825278e-01],\n",
       "       [3.36464328e-02],\n",
       "       [2.66258105e-01],\n",
       "       [3.81813176e-01],\n",
       "       [2.20723490e-01],\n",
       "       [8.03367262e-01],\n",
       "       [9.22979822e-01],\n",
       "       [5.37211160e-01],\n",
       "       [3.49610675e-01],\n",
       "       [9.16715152e-01],\n",
       "       [7.12488090e-01],\n",
       "       [8.89901157e-02],\n",
       "       [7.32464363e-01],\n",
       "       [5.26505454e-01],\n",
       "       [3.84651428e-01],\n",
       "       [4.41364488e-01],\n",
       "       [1.70017847e-01],\n",
       "       [2.41251307e-01],\n",
       "       [5.69532932e-01],\n",
       "       [6.77072603e-01],\n",
       "       [1.75554492e-01],\n",
       "       [1.34835499e-01],\n",
       "       [4.76541578e-01],\n",
       "       [5.92683361e-01],\n",
       "       [2.44128271e-01],\n",
       "       [9.27259416e-01],\n",
       "       [6.02618653e-01],\n",
       "       [9.96672957e-01],\n",
       "       [8.40318710e-01],\n",
       "       [3.73526077e-01],\n",
       "       [4.83284981e-01],\n",
       "       [1.08379988e-01],\n",
       "       [1.23249840e-01],\n",
       "       [9.70601882e-01],\n",
       "       [2.37582424e-01],\n",
       "       [5.12199857e-01],\n",
       "       [7.24377531e-01],\n",
       "       [1.23045599e-01],\n",
       "       [5.40284213e-01],\n",
       "       [7.48070928e-01],\n",
       "       [4.14241481e-02],\n",
       "       [9.83344498e-01],\n",
       "       [6.65866848e-01],\n",
       "       [7.54413510e-03],\n",
       "       [8.37126592e-01],\n",
       "       [4.78759822e-01],\n",
       "       [7.34066529e-01],\n",
       "       [5.49066817e-01],\n",
       "       [5.97153539e-01],\n",
       "       [3.28039041e-01],\n",
       "       [2.15346716e-01],\n",
       "       [3.19936416e-01],\n",
       "       [2.77840429e-01],\n",
       "       [5.47081414e-01],\n",
       "       [7.39386295e-01],\n",
       "       [4.33628018e-01],\n",
       "       [5.77198751e-01],\n",
       "       [6.96894091e-01],\n",
       "       [1.42770141e-01],\n",
       "       [4.99010628e-01],\n",
       "       [3.75541859e-01],\n",
       "       [7.80139496e-01],\n",
       "       [7.74896201e-01],\n",
       "       [5.24397102e-01],\n",
       "       [5.46752779e-01],\n",
       "       [8.47670665e-01],\n",
       "       [3.19061178e-01],\n",
       "       [9.24621222e-01],\n",
       "       [2.54998702e-01],\n",
       "       [5.76530201e-01],\n",
       "       [9.10843480e-01],\n",
       "       [1.03115643e-02],\n",
       "       [7.27637841e-01],\n",
       "       [1.77789778e-01],\n",
       "       [2.04821493e-01],\n",
       "       [1.56587633e-01],\n",
       "       [2.17719662e-01],\n",
       "       [4.67073074e-02],\n",
       "       [9.63565318e-01],\n",
       "       [8.80772573e-01],\n",
       "       [5.41256521e-01],\n",
       "       [5.82560742e-01],\n",
       "       [4.74889754e-01],\n",
       "       [5.51133845e-01],\n",
       "       [8.75447861e-01],\n",
       "       [5.80460257e-01],\n",
       "       [4.22219260e-01],\n",
       "       [3.12854522e-01],\n",
       "       [8.49827901e-01],\n",
       "       [9.15900618e-01],\n",
       "       [9.54585348e-01],\n",
       "       [2.82682801e-01],\n",
       "       [4.81608715e-01],\n",
       "       [7.47887600e-01],\n",
       "       [5.18743842e-01],\n",
       "       [9.63093484e-01],\n",
       "       [4.02996132e-01],\n",
       "       [7.78550846e-02],\n",
       "       [9.19175509e-01],\n",
       "       [6.76526036e-01],\n",
       "       [5.82170328e-01],\n",
       "       [2.84227239e-01],\n",
       "       [8.96972113e-01],\n",
       "       [2.67080901e-01],\n",
       "       [4.53932429e-02],\n",
       "       [4.09295295e-01],\n",
       "       [3.28558116e-01],\n",
       "       [7.20362271e-01],\n",
       "       [1.24692649e-01],\n",
       "       [3.72085753e-01]])"
      ]
     },
     "execution_count": 6,
     "metadata": {},
     "output_type": "execute_result"
    }
   ],
   "source": [
    "w = np.random.rand(n, 1)\n",
    "w"
   ]
  },
  {
   "cell_type": "code",
   "execution_count": 14,
   "metadata": {},
   "outputs": [
    {
     "data": {
      "text/plain": [
       "array([[0., 0., 0., ..., 0., 0., 0.]])"
      ]
     },
     "execution_count": 14,
     "metadata": {},
     "output_type": "execute_result"
    }
   ],
   "source": [
    "z = np.zeros((1, m))\n",
    "z"
   ]
  },
  {
   "cell_type": "code",
   "execution_count": 15,
   "metadata": {},
   "outputs": [],
   "source": [
    "start_time = time.time()"
   ]
  },
  {
   "cell_type": "code",
   "execution_count": 17,
   "metadata": {},
   "outputs": [],
   "source": [
    "Z = np.dot(w.T, x) # w :: (n X 1) => (1 X n), x :: n X m"
   ]
  },
  {
   "cell_type": "code",
   "execution_count": 18,
   "metadata": {},
   "outputs": [],
   "source": [
    "end_time = time.time()"
   ]
  },
  {
   "cell_type": "code",
   "execution_count": 19,
   "metadata": {},
   "outputs": [
    {
     "name": "stdout",
     "output_type": "stream",
     "text": [
      "실행시간:  164174.74389076233 ms\n"
     ]
    }
   ],
   "source": [
    "print(\"실행시간: \", (end_time - start_time)*1000, \"ms\")"
   ]
  },
  {
   "cell_type": "code",
   "execution_count": 20,
   "metadata": {},
   "outputs": [
    {
     "data": {
      "text/plain": [
       "1.0"
      ]
     },
     "execution_count": 20,
     "metadata": {},
     "output_type": "execute_result"
    }
   ],
   "source": [
    "x = np.float32(1.0)\n",
    "x"
   ]
  },
  {
   "cell_type": "code",
   "execution_count": 21,
   "metadata": {},
   "outputs": [
    {
     "data": {
      "text/plain": [
       "array([1, 2, 4])"
      ]
     },
     "execution_count": 21,
     "metadata": {},
     "output_type": "execute_result"
    }
   ],
   "source": [
    "y = np.int_([1, 2, 4])\n",
    "y"
   ]
  },
  {
   "cell_type": "code",
   "execution_count": 23,
   "metadata": {},
   "outputs": [
    {
     "data": {
      "text/plain": [
       "array([0, 1, 2], dtype=uint8)"
      ]
     },
     "execution_count": 23,
     "metadata": {},
     "output_type": "execute_result"
    }
   ],
   "source": [
    "z = np.arange(3, dtype=np.uint8)\n",
    "z"
   ]
  },
  {
   "cell_type": "code",
   "execution_count": 24,
   "metadata": {},
   "outputs": [
    {
     "data": {
      "text/plain": [
       "dtype('uint8')"
      ]
     },
     "execution_count": 24,
     "metadata": {},
     "output_type": "execute_result"
    }
   ],
   "source": [
    "z.dtype"
   ]
  },
  {
   "cell_type": "code",
   "execution_count": 25,
   "metadata": {},
   "outputs": [
    {
     "data": {
      "text/plain": [
       "array([1., 2., 3.], dtype=float32)"
      ]
     },
     "execution_count": 25,
     "metadata": {},
     "output_type": "execute_result"
    }
   ],
   "source": [
    "w = np.array([1, 2, 3], dtype = 'f')\n",
    "w"
   ]
  },
  {
   "cell_type": "code",
   "execution_count": 26,
   "metadata": {},
   "outputs": [
    {
     "data": {
      "text/plain": [
       "array([2, 3, 1, 0])"
      ]
     },
     "execution_count": 26,
     "metadata": {},
     "output_type": "execute_result"
    }
   ],
   "source": [
    "x = np.array([2, 3, 1, 0])\n",
    "x"
   ]
  },
  {
   "cell_type": "code",
   "execution_count": 27,
   "metadata": {},
   "outputs": [
    {
     "name": "stderr",
     "output_type": "stream",
     "text": [
      "C:\\ProgramData\\Anaconda3\\lib\\site-packages\\ipykernel_launcher.py:1: VisibleDeprecationWarning: Creating an ndarray from ragged nested sequences (which is a list-or-tuple of lists-or-tuples-or ndarrays with different lengths or shapes) is deprecated. If you meant to do this, you must specify 'dtype=object' when creating the ndarray\n",
      "  \"\"\"Entry point for launching an IPython kernel.\n"
     ]
    },
    {
     "data": {
      "text/plain": [
       "array([list([(1+0j)]), list([0j]), list([(1+1j), (3+0j)])], dtype=object)"
      ]
     },
     "execution_count": 27,
     "metadata": {},
     "output_type": "execute_result"
    }
   ],
   "source": [
    "x = np.array([[ 1. + 0.j], [ 0.+0.j], [ 1.+1.j, 3.+0.j]])\n",
    "x"
   ]
  },
  {
   "cell_type": "code",
   "execution_count": 29,
   "metadata": {},
   "outputs": [
    {
     "data": {
      "text/plain": [
       "array([[0., 0., 0.],\n",
       "       [0., 0., 0.]])"
      ]
     },
     "execution_count": 29,
     "metadata": {},
     "output_type": "execute_result"
    }
   ],
   "source": [
    "k = np.zeros((2, 3))\n",
    "k"
   ]
  },
  {
   "cell_type": "code",
   "execution_count": 30,
   "metadata": {},
   "outputs": [
    {
     "data": {
      "text/plain": [
       "(2, 3)"
      ]
     },
     "execution_count": 30,
     "metadata": {},
     "output_type": "execute_result"
    }
   ],
   "source": [
    "k.shape"
   ]
  },
  {
   "cell_type": "code",
   "execution_count": 35,
   "metadata": {},
   "outputs": [
    {
     "data": {
      "text/plain": [
       "array([ 1.        ,  1.18367347,  1.36734694,  1.55102041,  1.73469388,\n",
       "        1.91836735,  2.10204082,  2.28571429,  2.46938776,  2.65306122,\n",
       "        2.83673469,  3.02040816,  3.20408163,  3.3877551 ,  3.57142857,\n",
       "        3.75510204,  3.93877551,  4.12244898,  4.30612245,  4.48979592,\n",
       "        4.67346939,  4.85714286,  5.04081633,  5.2244898 ,  5.40816327,\n",
       "        5.59183673,  5.7755102 ,  5.95918367,  6.14285714,  6.32653061,\n",
       "        6.51020408,  6.69387755,  6.87755102,  7.06122449,  7.24489796,\n",
       "        7.42857143,  7.6122449 ,  7.79591837,  7.97959184,  8.16326531,\n",
       "        8.34693878,  8.53061224,  8.71428571,  8.89795918,  9.08163265,\n",
       "        9.26530612,  9.44897959,  9.63265306,  9.81632653, 10.        ])"
      ]
     },
     "execution_count": 35,
     "metadata": {},
     "output_type": "execute_result"
    }
   ],
   "source": [
    "np.arange(10)\n",
    "np.arange(2, 10)\n",
    "np.arange(2, 10, 0.5)\n",
    "#(initiate, final, interval)\n",
    "np.linspace(1, 10, 50)\n",
    "#(initiate, final, total)"
   ]
  },
  {
   "cell_type": "code",
   "execution_count": 34,
   "metadata": {},
   "outputs": [
    {
     "data": {
      "text/plain": [
       "array([1.        , 1.05084746, 1.10169492, 1.15254237, 1.20338983,\n",
       "       1.25423729, 1.30508475, 1.3559322 , 1.40677966, 1.45762712,\n",
       "       1.50847458, 1.55932203, 1.61016949, 1.66101695, 1.71186441,\n",
       "       1.76271186, 1.81355932, 1.86440678, 1.91525424, 1.96610169,\n",
       "       2.01694915, 2.06779661, 2.11864407, 2.16949153, 2.22033898,\n",
       "       2.27118644, 2.3220339 , 2.37288136, 2.42372881, 2.47457627,\n",
       "       2.52542373, 2.57627119, 2.62711864, 2.6779661 , 2.72881356,\n",
       "       2.77966102, 2.83050847, 2.88135593, 2.93220339, 2.98305085,\n",
       "       3.03389831, 3.08474576, 3.13559322, 3.18644068, 3.23728814,\n",
       "       3.28813559, 3.33898305, 3.38983051, 3.44067797, 3.49152542,\n",
       "       3.54237288, 3.59322034, 3.6440678 , 3.69491525, 3.74576271,\n",
       "       3.79661017, 3.84745763, 3.89830508, 3.94915254, 4.        ])"
      ]
     },
     "execution_count": 34,
     "metadata": {},
     "output_type": "execute_result"
    }
   ],
   "source": [
    "np.linspace(1, 4, 60)"
   ]
  },
  {
   "cell_type": "code",
   "execution_count": 38,
   "metadata": {},
   "outputs": [
    {
     "data": {
      "text/plain": [
       "40000"
      ]
     },
     "execution_count": 38,
     "metadata": {},
     "output_type": "execute_result"
    }
   ],
   "source": [
    "k = np.ones(4*10000, np.float32)\n",
    "# 4*100000개의 내용을 모두 1로 만들기\n",
    "len(k)\n"
   ]
  },
  {
   "cell_type": "code",
   "execution_count": 39,
   "metadata": {},
   "outputs": [
    {
     "data": {
      "text/plain": [
       "array([4, 5, 3, 2])"
      ]
     },
     "execution_count": 39,
     "metadata": {},
     "output_type": "execute_result"
    }
   ],
   "source": [
    "a = np.array([4, 5, 3, 2])\n",
    "a"
   ]
  },
  {
   "cell_type": "code",
   "execution_count": 40,
   "metadata": {},
   "outputs": [
    {
     "data": {
      "text/plain": [
       "array([2, 7, 8, 9])"
      ]
     },
     "execution_count": 40,
     "metadata": {},
     "output_type": "execute_result"
    }
   ],
   "source": [
    "b = np.array([2, 7, 8, 9])\n",
    "b"
   ]
  },
  {
   "cell_type": "code",
   "execution_count": 46,
   "metadata": {},
   "outputs": [
    {
     "data": {
      "text/plain": [
       "array([ 6, 12, 11, 11])"
      ]
     },
     "execution_count": 46,
     "metadata": {},
     "output_type": "execute_result"
    }
   ],
   "source": [
    "a+b\n"
   ]
  },
  {
   "cell_type": "code",
   "execution_count": 47,
   "metadata": {},
   "outputs": [
    {
     "data": {
      "text/plain": [
       "array([ 2, -2, -5, -7])"
      ]
     },
     "execution_count": 47,
     "metadata": {},
     "output_type": "execute_result"
    }
   ],
   "source": [
    "a-b"
   ]
  },
  {
   "cell_type": "code",
   "execution_count": 48,
   "metadata": {},
   "outputs": [
    {
     "data": {
      "text/plain": [
       "array([16, 25,  9,  4], dtype=int32)"
      ]
     },
     "execution_count": 48,
     "metadata": {},
     "output_type": "execute_result"
    }
   ],
   "source": [
    "a**2"
   ]
  },
  {
   "cell_type": "code",
   "execution_count": 49,
   "metadata": {},
   "outputs": [
    {
     "data": {
      "text/plain": [
       "array([ 8, 35, 24, 18])"
      ]
     },
     "execution_count": 49,
     "metadata": {},
     "output_type": "execute_result"
    }
   ],
   "source": [
    "a*b"
   ]
  },
  {
   "cell_type": "code",
   "execution_count": 50,
   "metadata": {},
   "outputs": [
    {
     "data": {
      "text/plain": [
       "array([30, 57,  8, -1])"
      ]
     },
     "execution_count": 50,
     "metadata": {},
     "output_type": "execute_result"
    }
   ],
   "source": [
    "2**(a+1) - b"
   ]
  },
  {
   "cell_type": "code",
   "execution_count": 51,
   "metadata": {},
   "outputs": [
    {
     "data": {
      "text/plain": [
       "array([[1., 1., 1., 1., 1., 1.],\n",
       "       [1., 1., 1., 1., 1., 1.],\n",
       "       [1., 1., 1., 1., 1., 1.],\n",
       "       [1., 1., 1., 1., 1., 1.],\n",
       "       [1., 1., 1., 1., 1., 1.],\n",
       "       [1., 1., 1., 1., 1., 1.]])"
      ]
     },
     "execution_count": 51,
     "metadata": {},
     "output_type": "execute_result"
    }
   ],
   "source": [
    "c = np.ones((6, 6))\n",
    "c"
   ]
  },
  {
   "cell_type": "code",
   "execution_count": 52,
   "metadata": {},
   "outputs": [
    {
     "data": {
      "text/plain": [
       "array([[1., 1., 1., 1., 1., 1.],\n",
       "       [1., 1., 1., 1., 1., 1.],\n",
       "       [1., 1., 1., 1., 1., 1.],\n",
       "       [1., 1., 1., 1., 1., 1.],\n",
       "       [1., 1., 1., 1., 1., 1.],\n",
       "       [1., 1., 1., 1., 1., 1.]])"
      ]
     },
     "execution_count": 52,
     "metadata": {},
     "output_type": "execute_result"
    }
   ],
   "source": [
    "c*c"
   ]
  },
  {
   "cell_type": "code",
   "execution_count": 53,
   "metadata": {},
   "outputs": [
    {
     "data": {
      "text/plain": [
       "array([[6., 6., 6., 6., 6., 6.],\n",
       "       [6., 6., 6., 6., 6., 6.],\n",
       "       [6., 6., 6., 6., 6., 6.],\n",
       "       [6., 6., 6., 6., 6., 6.],\n",
       "       [6., 6., 6., 6., 6., 6.],\n",
       "       [6., 6., 6., 6., 6., 6.]])"
      ]
     },
     "execution_count": 53,
     "metadata": {},
     "output_type": "execute_result"
    }
   ],
   "source": [
    "c.dot(c) # c x c"
   ]
  },
  {
   "cell_type": "code",
   "execution_count": 55,
   "metadata": {},
   "outputs": [
    {
     "data": {
      "text/plain": [
       "array([4, 5, 3, 2])"
      ]
     },
     "execution_count": 55,
     "metadata": {},
     "output_type": "execute_result"
    }
   ],
   "source": [
    "a"
   ]
  },
  {
   "cell_type": "code",
   "execution_count": 56,
   "metadata": {},
   "outputs": [
    {
     "data": {
      "text/plain": [
       "array([2, 7, 8, 9])"
      ]
     },
     "execution_count": 56,
     "metadata": {},
     "output_type": "execute_result"
    }
   ],
   "source": [
    "b"
   ]
  },
  {
   "cell_type": "code",
   "execution_count": 57,
   "metadata": {},
   "outputs": [
    {
     "data": {
      "text/plain": [
       "array([False, False, False, False])"
      ]
     },
     "execution_count": 57,
     "metadata": {},
     "output_type": "execute_result"
    }
   ],
   "source": [
    "a == b"
   ]
  },
  {
   "cell_type": "code",
   "execution_count": 58,
   "metadata": {},
   "outputs": [
    {
     "data": {
      "text/plain": [
       "array([ True, False, False, False])"
      ]
     },
     "execution_count": 58,
     "metadata": {},
     "output_type": "execute_result"
    }
   ],
   "source": [
    "a > b"
   ]
  },
  {
   "cell_type": "code",
   "execution_count": 59,
   "metadata": {},
   "outputs": [
    {
     "data": {
      "text/plain": [
       "array([False,  True,  True,  True])"
      ]
     },
     "execution_count": 59,
     "metadata": {},
     "output_type": "execute_result"
    }
   ],
   "source": [
    "a < b"
   ]
  },
  {
   "cell_type": "code",
   "execution_count": 61,
   "metadata": {},
   "outputs": [
    {
     "data": {
      "text/plain": [
       "False"
      ]
     },
     "execution_count": 61,
     "metadata": {},
     "output_type": "execute_result"
    }
   ],
   "source": [
    "np.array_equal(a, b)"
   ]
  },
  {
   "cell_type": "code",
   "execution_count": 62,
   "metadata": {},
   "outputs": [
    {
     "data": {
      "text/plain": [
       "array([ True,  True,  True,  True])"
      ]
     },
     "execution_count": 62,
     "metadata": {},
     "output_type": "execute_result"
    }
   ],
   "source": [
    "np.logical_and(a, b)"
   ]
  },
  {
   "cell_type": "code",
   "execution_count": 63,
   "metadata": {},
   "outputs": [
    {
     "data": {
      "text/plain": [
       "array([-0.7568025 , -0.95892427,  0.14112001,  0.90929743])"
      ]
     },
     "execution_count": 63,
     "metadata": {},
     "output_type": "execute_result"
    }
   ],
   "source": [
    "np.sin(a)"
   ]
  },
  {
   "cell_type": "code",
   "execution_count": 64,
   "metadata": {},
   "outputs": [
    {
     "data": {
      "text/plain": [
       "array([1.38629436, 1.60943791, 1.09861229, 0.69314718])"
      ]
     },
     "execution_count": 64,
     "metadata": {},
     "output_type": "execute_result"
    }
   ],
   "source": [
    "np.log(a)"
   ]
  },
  {
   "cell_type": "code",
   "execution_count": 65,
   "metadata": {},
   "outputs": [
    {
     "data": {
      "text/plain": [
       "array([ 54.59815003, 148.4131591 ,  20.08553692,   7.3890561 ])"
      ]
     },
     "execution_count": 65,
     "metadata": {},
     "output_type": "execute_result"
    }
   ],
   "source": [
    "np.exp(a)"
   ]
  },
  {
   "cell_type": "code",
   "execution_count": 66,
   "metadata": {},
   "outputs": [
    {
     "data": {
      "text/plain": [
       "array([[1., 1., 1., 1., 1., 1.],\n",
       "       [1., 1., 1., 1., 1., 1.],\n",
       "       [1., 1., 1., 1., 1., 1.],\n",
       "       [1., 1., 1., 1., 1., 1.],\n",
       "       [1., 1., 1., 1., 1., 1.],\n",
       "       [1., 1., 1., 1., 1., 1.]])"
      ]
     },
     "execution_count": 66,
     "metadata": {},
     "output_type": "execute_result"
    }
   ],
   "source": [
    "c"
   ]
  },
  {
   "cell_type": "code",
   "execution_count": 70,
   "metadata": {},
   "outputs": [
    {
     "data": {
      "text/plain": [
       "array([[1., 1., 1., 1., 1., 1.],\n",
       "       [0., 1., 1., 1., 1., 1.],\n",
       "       [0., 0., 1., 1., 1., 1.],\n",
       "       [0., 0., 0., 1., 1., 1.],\n",
       "       [0., 0., 0., 0., 1., 1.],\n",
       "       [0., 0., 0., 0., 0., 1.]])"
      ]
     },
     "execution_count": 70,
     "metadata": {},
     "output_type": "execute_result"
    }
   ],
   "source": [
    "m1 = np.triu(np.ones((6, 6)), 0)\n",
    "m1"
   ]
  },
  {
   "cell_type": "code",
   "execution_count": 71,
   "metadata": {},
   "outputs": [
    {
     "data": {
      "text/plain": [
       "array([[1., 0., 0., 0., 0., 0.],\n",
       "       [1., 1., 0., 0., 0., 0.],\n",
       "       [1., 1., 1., 0., 0., 0.],\n",
       "       [1., 1., 1., 1., 0., 0.],\n",
       "       [1., 1., 1., 1., 1., 0.],\n",
       "       [1., 1., 1., 1., 1., 1.]])"
      ]
     },
     "execution_count": 71,
     "metadata": {},
     "output_type": "execute_result"
    }
   ],
   "source": [
    "m1.T"
   ]
  },
  {
   "cell_type": "code",
   "execution_count": 72,
   "metadata": {},
   "outputs": [],
   "source": [
    "x = np.array([1, 2, 3, 4])"
   ]
  },
  {
   "cell_type": "code",
   "execution_count": 73,
   "metadata": {},
   "outputs": [
    {
     "data": {
      "text/plain": [
       "10"
      ]
     },
     "execution_count": 73,
     "metadata": {},
     "output_type": "execute_result"
    }
   ],
   "source": [
    "np.sum(x)"
   ]
  },
  {
   "cell_type": "code",
   "execution_count": 74,
   "metadata": {},
   "outputs": [
    {
     "data": {
      "text/plain": [
       "array([4, 5, 3, 2])"
      ]
     },
     "execution_count": 74,
     "metadata": {},
     "output_type": "execute_result"
    }
   ],
   "source": [
    "a"
   ]
  },
  {
   "cell_type": "code",
   "execution_count": 75,
   "metadata": {},
   "outputs": [
    {
     "data": {
      "text/plain": [
       "14"
      ]
     },
     "execution_count": 75,
     "metadata": {},
     "output_type": "execute_result"
    }
   ],
   "source": [
    "np.sum(a)"
   ]
  },
  {
   "cell_type": "code",
   "execution_count": 76,
   "metadata": {},
   "outputs": [
    {
     "data": {
      "text/plain": [
       "14"
      ]
     },
     "execution_count": 76,
     "metadata": {},
     "output_type": "execute_result"
    }
   ],
   "source": [
    "a.sum()"
   ]
  },
  {
   "cell_type": "code",
   "execution_count": 77,
   "metadata": {},
   "outputs": [
    {
     "data": {
      "text/plain": [
       "array([[1., 1., 1., 1., 1., 1.],\n",
       "       [0., 1., 1., 1., 1., 1.],\n",
       "       [0., 0., 1., 1., 1., 1.],\n",
       "       [0., 0., 0., 1., 1., 1.],\n",
       "       [0., 0., 0., 0., 1., 1.],\n",
       "       [0., 0., 0., 0., 0., 1.]])"
      ]
     },
     "execution_count": 77,
     "metadata": {},
     "output_type": "execute_result"
    }
   ],
   "source": [
    "m1"
   ]
  },
  {
   "cell_type": "code",
   "execution_count": 78,
   "metadata": {},
   "outputs": [
    {
     "data": {
      "text/plain": [
       "21.0"
      ]
     },
     "execution_count": 78,
     "metadata": {},
     "output_type": "execute_result"
    }
   ],
   "source": [
    "m1.sum()"
   ]
  },
  {
   "cell_type": "code",
   "execution_count": 80,
   "metadata": {},
   "outputs": [
    {
     "data": {
      "text/plain": [
       "array([1., 2., 3., 4., 5., 6.])"
      ]
     },
     "execution_count": 80,
     "metadata": {},
     "output_type": "execute_result"
    }
   ],
   "source": [
    "m1.sum(axis=0) \n",
    "#열에 대한 합이 나옴"
   ]
  },
  {
   "cell_type": "code",
   "execution_count": 81,
   "metadata": {},
   "outputs": [
    {
     "data": {
      "text/plain": [
       "array([6., 5., 4., 3., 2., 1.])"
      ]
     },
     "execution_count": 81,
     "metadata": {},
     "output_type": "execute_result"
    }
   ],
   "source": [
    "m1.sum(axis=1)"
   ]
  },
  {
   "cell_type": "code",
   "execution_count": 82,
   "metadata": {},
   "outputs": [
    {
     "data": {
      "text/plain": [
       "array([[1., 1., 1., 1., 1., 1.],\n",
       "       [0., 1., 1., 1., 1., 1.],\n",
       "       [0., 0., 1., 1., 1., 1.],\n",
       "       [0., 0., 0., 1., 1., 1.],\n",
       "       [0., 0., 0., 0., 1., 1.],\n",
       "       [0., 0., 0., 0., 0., 1.]])"
      ]
     },
     "execution_count": 82,
     "metadata": {},
     "output_type": "execute_result"
    }
   ],
   "source": [
    "m1"
   ]
  },
  {
   "cell_type": "code",
   "execution_count": 83,
   "metadata": {},
   "outputs": [
    {
     "data": {
      "text/plain": [
       "array([1., 1., 1., 1., 1., 1.])"
      ]
     },
     "execution_count": 83,
     "metadata": {},
     "output_type": "execute_result"
    }
   ],
   "source": [
    "m1[0, :]"
   ]
  },
  {
   "cell_type": "code",
   "execution_count": 84,
   "metadata": {},
   "outputs": [
    {
     "data": {
      "text/plain": [
       "array([0., 0., 1., 1., 1., 1.])"
      ]
     },
     "execution_count": 84,
     "metadata": {},
     "output_type": "execute_result"
    }
   ],
   "source": [
    "m1[2, :]"
   ]
  },
  {
   "cell_type": "code",
   "execution_count": 85,
   "metadata": {},
   "outputs": [
    {
     "data": {
      "text/plain": [
       "1.0"
      ]
     },
     "execution_count": 85,
     "metadata": {},
     "output_type": "execute_result"
    }
   ],
   "source": [
    "m1[2, 3]"
   ]
  },
  {
   "cell_type": "code",
   "execution_count": 86,
   "metadata": {},
   "outputs": [
    {
     "data": {
      "text/plain": [
       "array([[2, 3, 4],\n",
       "       [1, 4, 1],\n",
       "       [5, 7, 8]])"
      ]
     },
     "execution_count": 86,
     "metadata": {},
     "output_type": "execute_result"
    }
   ],
   "source": [
    "m1 = np.array([[2, 3, 4], [1, 4, 1], [5, 7, 8]])\n",
    "m1"
   ]
  },
  {
   "cell_type": "code",
   "execution_count": 87,
   "metadata": {},
   "outputs": [
    {
     "data": {
      "text/plain": [
       "2"
      ]
     },
     "execution_count": 87,
     "metadata": {},
     "output_type": "execute_result"
    }
   ],
   "source": [
    "m1[0, 0]"
   ]
  },
  {
   "cell_type": "code",
   "execution_count": 88,
   "metadata": {},
   "outputs": [
    {
     "data": {
      "text/plain": [
       "8"
      ]
     },
     "execution_count": 88,
     "metadata": {},
     "output_type": "execute_result"
    }
   ],
   "source": [
    "m1[2, 2]"
   ]
  },
  {
   "cell_type": "code",
   "execution_count": 90,
   "metadata": {},
   "outputs": [
    {
     "data": {
      "text/plain": [
       "array([2, 3, 4])"
      ]
     },
     "execution_count": 90,
     "metadata": {},
     "output_type": "execute_result"
    }
   ],
   "source": [
    "m1[0, :]"
   ]
  },
  {
   "cell_type": "code",
   "execution_count": 91,
   "metadata": {},
   "outputs": [
    {
     "data": {
      "text/plain": [
       "array([2, 3, 4])"
      ]
     },
     "execution_count": 91,
     "metadata": {},
     "output_type": "execute_result"
    }
   ],
   "source": [
    "m1[0]"
   ]
  },
  {
   "cell_type": "code",
   "execution_count": 92,
   "metadata": {},
   "outputs": [
    {
     "data": {
      "text/plain": [
       "array([2, 1, 5])"
      ]
     },
     "execution_count": 92,
     "metadata": {},
     "output_type": "execute_result"
    }
   ],
   "source": [
    "m1[:, 0]"
   ]
  },
  {
   "cell_type": "code",
   "execution_count": 93,
   "metadata": {},
   "outputs": [
    {
     "data": {
      "text/plain": [
       "array([3, 4])"
      ]
     },
     "execution_count": 93,
     "metadata": {},
     "output_type": "execute_result"
    }
   ],
   "source": [
    "m1[0,1:]"
   ]
  },
  {
   "cell_type": "code",
   "execution_count": 95,
   "metadata": {},
   "outputs": [
    {
     "data": {
      "text/plain": [
       "array([[[0.08821505, 0.5883492 ],\n",
       "        [0.54055532, 0.6264112 ]],\n",
       "\n",
       "       [[0.28685703, 0.60417749],\n",
       "        [0.19849985, 0.10461345]]])"
      ]
     },
     "execution_count": 95,
     "metadata": {},
     "output_type": "execute_result"
    }
   ],
   "source": [
    "m2 = np.random.rand(2, 2, 2)\n",
    "m2"
   ]
  },
  {
   "cell_type": "code",
   "execution_count": 96,
   "metadata": {},
   "outputs": [
    {
     "data": {
      "text/plain": [
       "3.0376785864642963"
      ]
     },
     "execution_count": 96,
     "metadata": {},
     "output_type": "execute_result"
    }
   ],
   "source": [
    "m2.sum()"
   ]
  },
  {
   "cell_type": "code",
   "execution_count": 97,
   "metadata": {},
   "outputs": [
    {
     "data": {
      "text/plain": [
       "array([[0.37507207, 1.19252669],\n",
       "       [0.73905517, 0.73102465]])"
      ]
     },
     "execution_count": 97,
     "metadata": {},
     "output_type": "execute_result"
    }
   ],
   "source": [
    "m2.sum(axis = 0)"
   ]
  },
  {
   "cell_type": "code",
   "execution_count": 98,
   "metadata": {},
   "outputs": [
    {
     "data": {
      "text/plain": [
       "array([[0.62877037, 1.2147604 ],\n",
       "       [0.48535688, 0.70879094]])"
      ]
     },
     "execution_count": 98,
     "metadata": {},
     "output_type": "execute_result"
    }
   ],
   "source": [
    "m2.sum(axis = 1)"
   ]
  },
  {
   "cell_type": "code",
   "execution_count": 99,
   "metadata": {},
   "outputs": [
    {
     "data": {
      "text/plain": [
       "array([[0.67656425, 1.16696652],\n",
       "       [0.89103451, 0.3031133 ]])"
      ]
     },
     "execution_count": 99,
     "metadata": {},
     "output_type": "execute_result"
    }
   ],
   "source": [
    "m2.sum(axis = 2)"
   ]
  },
  {
   "cell_type": "code",
   "execution_count": 100,
   "metadata": {},
   "outputs": [
    {
     "data": {
      "text/plain": [
       "array([[0.08821505, 0.5883492 ],\n",
       "       [0.54055532, 0.6264112 ]])"
      ]
     },
     "execution_count": 100,
     "metadata": {},
     "output_type": "execute_result"
    }
   ],
   "source": [
    "m2[0, :, :]"
   ]
  },
  {
   "cell_type": "code",
   "execution_count": 101,
   "metadata": {},
   "outputs": [
    {
     "data": {
      "text/plain": [
       "array([0.54055532, 0.6264112 ])"
      ]
     },
     "execution_count": 101,
     "metadata": {},
     "output_type": "execute_result"
    }
   ],
   "source": [
    "m2[0, 1, :]"
   ]
  },
  {
   "cell_type": "code",
   "execution_count": 102,
   "metadata": {},
   "outputs": [
    {
     "data": {
      "text/plain": [
       "0.08821504892473087"
      ]
     },
     "execution_count": 102,
     "metadata": {},
     "output_type": "execute_result"
    }
   ],
   "source": [
    "m2.min()"
   ]
  },
  {
   "cell_type": "code",
   "execution_count": 103,
   "metadata": {},
   "outputs": [
    {
     "data": {
      "text/plain": [
       "0.4137061730470706"
      ]
     },
     "execution_count": 103,
     "metadata": {},
     "output_type": "execute_result"
    }
   ],
   "source": [
    "np.median(m2)"
   ]
  },
  {
   "cell_type": "code",
   "execution_count": 104,
   "metadata": {},
   "outputs": [],
   "source": [
    "N=8\n",
    "y=np.zeros(N)"
   ]
  },
  {
   "cell_type": "code",
   "execution_count": 106,
   "metadata": {},
   "outputs": [
    {
     "name": "stdout",
     "output_type": "stream",
     "text": [
      "x1 [ 0.          1.42857143  2.85714286  4.28571429  5.71428571  7.14285714\n",
      "  8.57142857 10.        ]\n",
      "x2 [0.   1.25 2.5  3.75 5.   6.25 7.5  8.75]\n"
     ]
    }
   ],
   "source": [
    "x1 = np.linspace(0, 10, N, endpoint = True)\n",
    "x2 = np.linspace(0, 10, N, endpoint = False)\n",
    "print(\"x1\", x1)\n",
    "print(\"x2\", x2)"
   ]
  },
  {
   "cell_type": "code",
   "execution_count": 112,
   "metadata": {},
   "outputs": [
    {
     "data": {
      "image/png": "[encoded data removed]",
      "text/plain": [
       "<Figure size 432x288 with 1 Axes>"
      ]
     },
     "metadata": {
      "needs_background": "light"
     },
     "output_type": "display_data"
    }
   ],
   "source": [
    "plt.plot(x1, y, '*')\n",
    "# o는 기호를 나타냄\n",
    "plt.plot(x2, y+1.0, '+')\n",
    "plt.ylim([-0.5, 2.0])\n",
    "plt.xlim([-0.5, 15.0])\n",
    "plt.show()"
   ]
  },
  {
   "cell_type": "code",
   "execution_count": 113,
   "metadata": {},
   "outputs": [],
   "source": [
    "x = np.linspace(0.3, 3, 100, endpoint = True)\n",
    "y = np.logspace(0.3, 3, num = 100)"
   ]
  },
  {
   "cell_type": "code",
   "execution_count": 114,
   "metadata": {},
   "outputs": [
    {
     "data": {
      "image/png": "[encoded data removed]",
      "text/plain": [
       "<Figure size 432x288 with 1 Axes>"
      ]
     },
     "metadata": {
      "needs_background": "light"
     },
     "output_type": "display_data"
    }
   ],
   "source": [
    "plt.plot(x, y, 'o')\n",
    "plt.show()"
   ]
  },
  {
   "cell_type": "code",
   "execution_count": 117,
   "metadata": {},
   "outputs": [
    {
     "data": {
      "text/plain": [
       "array([0., 1.])"
      ]
     },
     "execution_count": 117,
     "metadata": {},
     "output_type": "execute_result"
    }
   ],
   "source": [
    "nx, ny = (2, 3)\n",
    "\n",
    "x = np.linspace(0, 1, nx)\n",
    "x"
   ]
  },
  {
   "cell_type": "code",
   "execution_count": 119,
   "metadata": {},
   "outputs": [
    {
     "data": {
      "text/plain": [
       "array([0. , 0.5, 1. ])"
      ]
     },
     "execution_count": 119,
     "metadata": {},
     "output_type": "execute_result"
    }
   ],
   "source": [
    "y = np.linspace(0, 1, ny)\n",
    "y"
   ]
  },
  {
   "cell_type": "code",
   "execution_count": 120,
   "metadata": {},
   "outputs": [
    {
     "name": "stdout",
     "output_type": "stream",
     "text": [
      "[[0. 1.]\n",
      " [0. 1.]\n",
      " [0. 1.]]\n",
      "[[0.  0. ]\n",
      " [0.5 0.5]\n",
      " [1.  1. ]]\n"
     ]
    }
   ],
   "source": [
    "xx, yy = np.meshgrid(x, y)\n",
    "print(xx)\n",
    "print(yy)"
   ]
  },
  {
   "cell_type": "code",
   "execution_count": 127,
   "metadata": {},
   "outputs": [
    {
     "name": "stdout",
     "output_type": "stream",
     "text": [
      "x [0.         0.11111111 0.22222222 0.33333333 0.44444444 0.55555556\n",
      " 0.66666667 0.77777778 0.88888889 1.        ]\n",
      "y [0.         0.11111111 0.22222222 0.33333333 0.44444444 0.55555556\n",
      " 0.66666667 0.77777778 0.88888889 1.        ]\n",
      "z [[0.         0.01234537 0.04936265 0.11088263 0.19624881 0.30376506\n",
      "  0.42995636 0.5687113  0.71044016 0.84147098]\n",
      " [0.01234537 0.02468885 0.0616892  0.12314342 0.20833915 0.31550392\n",
      "  0.44106961 0.57882249 0.71907417 0.84807709]\n",
      " [0.04936265 0.0616892  0.09860494 0.15980571 0.24441232 0.35042486\n",
      "  0.47399926 0.60862061 0.74431342 0.86711592]\n",
      " [0.11088263 0.12314342 0.15980571 0.22039774 0.30376506 0.40753499\n",
      "  0.52741539 0.65640944 0.78409373 0.8961922 ]\n",
      " [0.19624881 0.20833915 0.24441232 0.30376506 0.38486516 0.48483355\n",
      "  0.59877866 0.71907417 0.83473663 0.93114154]\n",
      " [0.30376506 0.31550392 0.35042486 0.40753499 0.48483355 0.57882249\n",
      "  0.68389381 0.79169604 0.89064669 0.96583389]\n",
      " [0.42995636 0.44106961 0.47399926 0.52741539 0.59877866 0.68389381\n",
      "  0.77637192 0.86711592 0.94400573 0.99202822]\n",
      " [0.5687113  0.57882249 0.60862061 0.65640944 0.71907417 0.79169604\n",
      "  0.86711592 0.93557241 0.98459837 0.99941722]\n",
      " [0.71044016 0.71907417 0.74431342 0.78409373 0.83473663 0.89064669\n",
      "  0.94400573 0.98459837 0.99995534 0.97604407]\n",
      " [0.84147098 0.84807709 0.86711592 0.8961922  0.93114154 0.96583389\n",
      "  0.99202822 0.99941722 0.97604407 0.90929743]]\n"
     ]
    },
    {
     "data": {
      "image/png": "[encoded data removed]",
      "text/plain": [
       "<Figure size 432x288 with 1 Axes>"
      ]
     },
     "metadata": {
      "needs_background": "light"
     },
     "output_type": "display_data"
    }
   ],
   "source": [
    "nx, ny = (10, 10)\n",
    "x = np.linspace(0, 1, nx)\n",
    "y = np.linspace(0, 1, ny)\n",
    "plt.plot(x, y, 'o')\n",
    "xx, yy = np.meshgrid(x, y)\n",
    "z = np.sin(xx**2 + yy**2)\n",
    "print(\"x\", x)\n",
    "print(\"y\", y)\n",
    "print(\"z\", z)"
   ]
  },
  {
   "cell_type": "code",
   "execution_count": 126,
   "metadata": {},
   "outputs": [
    {
     "data": {
      "image/png": "[encoded data removed]",
      "text/plain": [
       "<Figure size 432x288 with 1 Axes>"
      ]
     },
     "metadata": {
      "needs_background": "light"
     },
     "output_type": "display_data"
    }
   ],
   "source": [
    "h = plt.contour(x, y, z)\n",
    "plt.show()"
   ]
  },
  {
   "cell_type": "code",
   "execution_count": 128,
   "metadata": {},
   "outputs": [
    {
     "data": {
      "image/png": "[encoded data removed]",
      "text/plain": [
       "<Figure size 432x288 with 1 Axes>"
      ]
     },
     "metadata": {
      "needs_background": "light"
     },
     "output_type": "display_data"
    }
   ],
   "source": [
    "h = plt.contourf(x, y, z)\n",
    "plt.show()"
   ]
  },
  {
   "cell_type": "code",
   "execution_count": 130,
   "metadata": {},
   "outputs": [
    {
     "data": {
      "text/plain": [
       "array([[4, 5, 3, 2],\n",
       "       [2, 7, 8, 9]])"
      ]
     },
     "execution_count": 130,
     "metadata": {},
     "output_type": "execute_result"
    }
   ],
   "source": [
    "c = np.vstack((a, b))\n",
    "c"
   ]
  },
  {
   "cell_type": "code",
   "execution_count": 131,
   "metadata": {},
   "outputs": [
    {
     "data": {
      "text/plain": [
       "array([4, 5, 3, 2, 2, 7, 8, 9])"
      ]
     },
     "execution_count": 131,
     "metadata": {},
     "output_type": "execute_result"
    }
   ],
   "source": [
    "d = np.hstack((a, b))\n",
    "d"
   ]
  },
  {
   "cell_type": "code",
   "execution_count": 132,
   "metadata": {},
   "outputs": [
    {
     "data": {
      "text/plain": [
       "array([[4, 5],\n",
       "       [3, 2],\n",
       "       [2, 7],\n",
       "       [8, 9]])"
      ]
     },
     "execution_count": 132,
     "metadata": {},
     "output_type": "execute_result"
    }
   ],
   "source": [
    "d.reshape(4, 2)"
   ]
  },
  {
   "cell_type": "code",
   "execution_count": 133,
   "metadata": {},
   "outputs": [
    {
     "data": {
      "text/plain": [
       "array([[ 1,  4,  1],\n",
       "       [ 0,  2, -2],\n",
       "       [ 0,  0, -9]])"
      ]
     },
     "execution_count": 133,
     "metadata": {},
     "output_type": "execute_result"
    }
   ],
   "source": [
    "U = np.array([[1, 4, 1], [0, 2, -2], [0, 0, -9]])\n",
    "U"
   ]
  },
  {
   "cell_type": "code",
   "execution_count": 134,
   "metadata": {},
   "outputs": [
    {
     "data": {
      "text/plain": [
       "array([ 7,  6, 18])"
      ]
     },
     "execution_count": 134,
     "metadata": {},
     "output_type": "execute_result"
    }
   ],
   "source": [
    "y = np.array([7, 6, 18])\n",
    "y"
   ]
  },
  {
   "cell_type": "code",
   "execution_count": 136,
   "metadata": {},
   "outputs": [
    {
     "data": {
      "text/plain": [
       "array([ 5.,  1., -2.])"
      ]
     },
     "execution_count": 136,
     "metadata": {},
     "output_type": "execute_result"
    }
   ],
   "source": [
    "x = np.linalg.solve(U, y)\n",
    "x"
   ]
  },
  {
   "cell_type": "code",
   "execution_count": 141,
   "metadata": {},
   "outputs": [
    {
     "data": {
      "text/plain": [
       "array([-1.16594974,  0.71150881, -1.21148362, -0.50965534, -1.90269138,\n",
       "        0.90406781,  0.64879851, -1.004815  ,  1.35483883, -0.85268867,\n",
       "       -1.46880062, -0.82360764, -2.56051575, -0.29140294, -1.45222701,\n",
       "       -0.36593018,  0.86180082, -0.3888563 ,  0.7098206 , -0.32038474,\n",
       "       -0.22966139, -1.0278376 ,  1.14819429,  1.66685601, -0.80830807,\n",
       "       -1.8732011 ,  1.07982269, -0.75421956,  1.34959912, -0.65936612,\n",
       "        0.41765697, -1.50385774, -0.74315931,  1.67888731, -0.01964625,\n",
       "        0.87412214,  1.67127209, -1.29414558,  0.28285275,  0.06271495,\n",
       "        0.48057696,  0.36594006,  0.91234536, -0.44607509,  1.1116436 ,\n",
       "       -0.08726819,  1.79202765,  0.67679414,  0.70135798,  2.43850281,\n",
       "       -0.79086396,  0.83486467, -0.88019702,  0.74238328,  1.28694474,\n",
       "        1.02032643, -0.33191968,  1.62862423,  0.02533218, -1.0591878 ,\n",
       "        0.76572296,  0.44385941,  0.67894347,  1.76514174, -0.48463648,\n",
       "        0.73611153, -0.89794223,  1.37592111,  0.27479838,  1.00924674,\n",
       "        0.27842236,  0.21951057, -1.98587947, -0.33711476,  0.47163045,\n",
       "       -1.09237054, -1.71429429, -1.32014266, -0.31628015, -1.61019697,\n",
       "       -0.16708189, -0.2130302 , -0.61494776, -1.32228321, -2.45779368,\n",
       "        1.04729487,  0.42315874, -0.20987208,  0.91625253, -1.58086344,\n",
       "        1.05759157, -1.28074197, -2.42603524, -0.85673081,  0.8428765 ,\n",
       "        0.70474301, -0.86196331, -1.640803  , -0.19964998, -0.11576637])"
      ]
     },
     "execution_count": 141,
     "metadata": {},
     "output_type": "execute_result"
    }
   ],
   "source": [
    "s = np.random.randn(100)\n",
    "s"
   ]
  },
  {
   "cell_type": "code",
   "execution_count": 143,
   "metadata": {},
   "outputs": [
    {
     "data": {
      "text/plain": [
       "DescribeResult(nobs=100, minmax=(-2.560515749009961, 2.438502807032326), mean=-0.0808264009528367, variance=1.2113941809245885, skewness=-0.1351970911548306, kurtosis=-0.715574542170816)"
      ]
     },
     "execution_count": 143,
     "metadata": {},
     "output_type": "execute_result"
    }
   ],
   "source": [
    "stats.describe(s)"
   ]
  },
  {
   "cell_type": "code",
   "execution_count": 147,
   "metadata": {},
   "outputs": [
    {
     "name": "stderr",
     "output_type": "stream",
     "text": [
      "C:\\ProgramData\\Anaconda3\\lib\\site-packages\\ipykernel_launcher.py:1: DeprecationWarning: scipy.randn is deprecated and will be removed in SciPy 2.0.0, use numpy.random.randn instead\n",
      "  \"\"\"Entry point for launching an IPython kernel.\n"
     ]
    },
    {
     "data": {
      "text/plain": [
       "array([ 0.52707497, -1.16467355, -0.04960423, -0.24010377,  0.24246849,\n",
       "       -0.09075794,  0.88457009, -0.25702442,  0.6079041 ,  1.32388577,\n",
       "       -0.51114035,  0.67100045,  1.45999888, -0.40548088,  0.83196393,\n",
       "       -1.14679996,  0.63655859,  0.98697153,  0.40283297,  1.29448298,\n",
       "        0.11243451,  1.22731383, -0.11933946,  1.7090437 ,  0.70559076,\n",
       "        0.76054345, -0.78313333,  1.33978993,  0.19926433, -1.47450123,\n",
       "        0.30856696, -2.12933738,  0.65108692,  0.92990661,  0.01627318,\n",
       "       -0.34462988,  0.46157389,  0.79106828,  0.39880522,  0.05034121,\n",
       "       -0.85291573,  0.0571949 ,  0.28613787, -0.25860429,  0.18908433,\n",
       "        0.05703185, -0.59713375, -2.42844285, -0.11364541, -1.80696631,\n",
       "       -0.92957761,  0.23157919, -0.68451075, -0.83704755, -2.25257302,\n",
       "        1.00979104,  0.85465993,  0.98225527, -0.97352781, -1.10652679,\n",
       "        0.25352255, -0.24643847,  0.92052801,  0.97277674,  0.05007433,\n",
       "        0.89707067, -1.14874225, -0.22729793, -0.94195251,  1.04852436,\n",
       "        0.95998566, -1.43959364, -0.51840819,  1.38090062,  0.49488789,\n",
       "        0.31831452, -0.13120888,  0.71666513, -0.32053302, -1.09035135,\n",
       "        0.3779145 , -0.9254373 , -0.21258499,  2.52570281,  0.92334754,\n",
       "        1.10319923, -0.76588514, -0.3828872 , -2.10142457, -0.1087814 ,\n",
       "       -0.30305806,  0.30475331,  0.27042632,  0.29666758,  1.45417994,\n",
       "       -0.68030954, -1.90267054,  0.61900603, -3.49504566, -2.087623  ])"
      ]
     },
     "execution_count": 147,
     "metadata": {},
     "output_type": "execute_result"
    }
   ],
   "source": [
    "sp.randn(100)"
   ]
  },
  {
   "cell_type": "code",
   "execution_count": 148,
   "metadata": {},
   "outputs": [
    {
     "data": {
      "text/plain": [
       "DescribeResult(nobs=100, minmax=(-2.560515749009961, 2.438502807032326), mean=-0.0808264009528367, variance=1.2113941809245885, skewness=-0.1351970911548306, kurtosis=-0.715574542170816)"
      ]
     },
     "execution_count": 148,
     "metadata": {},
     "output_type": "execute_result"
    }
   ],
   "source": [
    "stats.describe(s)"
   ]
  },
  {
   "cell_type": "code",
   "execution_count": 149,
   "metadata": {},
   "outputs": [],
   "source": [
    "from scipy.stats import linregress"
   ]
  },
  {
   "cell_type": "code",
   "execution_count": 150,
   "metadata": {},
   "outputs": [
    {
     "name": "stdout",
     "output_type": "stream",
     "text": [
      "1.07 0.6200000000000001 0.9777909575038012 0.003959829749708253 0.13241349377360814\n"
     ]
    }
   ],
   "source": [
    "x = np.linspace(0., 8., 5)\n",
    "y = [0.0, 3.1, 5.2, 7.9, 8.3]\n",
    "slope, intercept, r_value, p_value, std_err = linregress(x, y)\n",
    "print(slope, intercept, r_value, p_value, std_err)"
   ]
  },
  {
   "cell_type": "code",
   "execution_count": 151,
   "metadata": {},
   "outputs": [
    {
     "data": {
      "text/plain": [
       "array([0.62, 2.76, 4.9 , 7.04, 9.18])"
      ]
     },
     "execution_count": 151,
     "metadata": {},
     "output_type": "execute_result"
    }
   ],
   "source": [
    "yfit = intercept + slope * x\n",
    "yfit"
   ]
  },
  {
   "cell_type": "code",
   "execution_count": 152,
   "metadata": {},
   "outputs": [
    {
     "data": {
      "image/png": "[encoded data removed]",
      "text/plain": [
       "<Figure size 432x288 with 1 Axes>"
      ]
     },
     "metadata": {
      "needs_background": "light"
     },
     "output_type": "display_data"
    }
   ],
   "source": [
    "plt.plot(x, y, 'o', label = 'read data')\n",
    "plt.plot(x, yfit, 'r', label = 'fitted line')\n",
    "plt.legend()\n",
    "plt.xlabel('x')\n",
    "plt.ylabel('y')\n",
    "plt.show()"
   ]
  },
  {
   "cell_type": "code",
   "execution_count": null,
   "metadata": {},
   "outputs": [],
   "source": []
  }
 ],
 "metadata": {
  "kernelspec": {
   "display_name": "Python 3",
   "language": "python",
   "name": "python3"
  },
  "language_info": {
   "codemirror_mode": {
    "name": "ipython",
    "version": 3
   },
   "file_extension": ".py",
   "mimetype": "text/x-python",
   "name": "python",
   "nbconvert_exporter": "python",
   "pygments_lexer": "ipython3",
   "version": "3.7.6"
  }
 },
 "nbformat": 4,
 "nbformat_minor": 4
}
