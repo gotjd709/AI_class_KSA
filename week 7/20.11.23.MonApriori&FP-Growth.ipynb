{
 "cells": [
  {
   "cell_type": "code",
   "execution_count": 1,
   "metadata": {},
   "outputs": [
    {
     "name": "stdout",
     "output_type": "stream",
     "text": [
      "['setosa' 'versicolor' 'virginica']\n",
      "['sepal length (cm)', 'sepal width (cm)', 'petal length (cm)', 'petal width (cm)']\n"
     ]
    }
   ],
   "source": [
    "from sklearn.datasets import load_iris\n",
    "\n",
    "iris = load_iris()\n",
    "\n",
    "print(iris.target_names)\n",
    "\n",
    "print(iris.feature_names)"
   ]
  },
  {
   "cell_type": "code",
   "execution_count": 3,
   "metadata": {},
   "outputs": [],
   "source": [
    "from sklearn.model_selection import train_test_split\n",
    "\n",
    "train_points = iris.data\n",
    "train_labels = iris.target\n",
    "\n",
    "X_train, X_test, y_train, y_test = train_test_split(train_points, train_labels,\n",
    "                                                   test_size=0.2, random_state=15)"
   ]
  },
  {
   "cell_type": "code",
   "execution_count": 5,
   "metadata": {},
   "outputs": [],
   "source": [
    "from sklearn.tree import DecisionTreeClassifier\n",
    "\n",
    "classifier = DecisionTreeClassifier(random_state=0)\n",
    "\n",
    "classifier.fit(X_train, y_train)\n",
    "\n",
    "guesses = classifier.predict(X_test)\n"
   ]
  },
  {
   "cell_type": "code",
   "execution_count": 6,
   "metadata": {},
   "outputs": [
    {
     "name": "stdout",
     "output_type": "stream",
     "text": [
      "Confusion Matrix:  [[ 8  0  0]\n",
      " [ 0 12  1]\n",
      " [ 0  1  8]]\n",
      "Accuracy 0.9333333333333333\n"
     ]
    }
   ],
   "source": [
    "from sklearn.metrics import confusion_matrix\n",
    "from sklearn.metrics import accuracy_score\n",
    "\n",
    "print(\"Confusion Matrix: \", confusion_matrix(y_test, guesses))\n",
    "\n",
    "print(\"Accuracy\", accuracy_score(y_test, guesses))\n"
   ]
  },
  {
   "cell_type": "code",
   "execution_count": 10,
   "metadata": {},
   "outputs": [
    {
     "name": "stdout",
     "output_type": "stream",
     "text": [
      "['setosa' 'versicolor' 'virginica']\n",
      "['sepal length (cm)', 'sepal width (cm)', 'petal length (cm)', 'petal width (cm)']\n"
     ]
    }
   ],
   "source": [
    "from sklearn.datasets import load_iris\n",
    "\n",
    "iris = load_iris()\n",
    "\n",
    "print(iris.target_names)\n",
    "\n",
    "print(iris.feature_names)"
   ]
  },
  {
   "cell_type": "code",
   "execution_count": 11,
   "metadata": {},
   "outputs": [],
   "source": [
    "from sklearn.model_selection import train_test_split\n",
    "\n",
    "train_points = iris.data\n",
    "train_labels = iris.target\n",
    "\n",
    "X_train, X_test, y_train, y_test = train_test_split(train_points, train_labels,\n",
    "                                                   test_size=0.2, random_state=15)"
   ]
  },
  {
   "cell_type": "code",
   "execution_count": 16,
   "metadata": {},
   "outputs": [],
   "source": [
    "from sklearn.ensemble import RandomForestClassifier\n",
    "\n",
    "classifier = RandomForestClassifier(random_state=0, n_estimators=10000)\n",
    "\n",
    "classifier.fit(X_train, y_train)\n",
    "\n",
    "guesses = classifier.predict(X_test)"
   ]
  },
  {
   "cell_type": "code",
   "execution_count": 17,
   "metadata": {},
   "outputs": [
    {
     "name": "stdout",
     "output_type": "stream",
     "text": [
      "Confusion Matrix:  [[ 8  0  0]\n",
      " [ 0 13  0]\n",
      " [ 0  0  9]]\n",
      "Accuracy: 1.0\n"
     ]
    }
   ],
   "source": [
    "from sklearn.metrics import confusion_matrix\n",
    "from sklearn.metrics import accuracy_score\n",
    "\n",
    "print(\"Confusion Matrix: \", confusion_matrix(y_test, guesses))\n",
    "\n",
    "print(\"Accuracy:\", accuracy_score(y_test, guesses))"
   ]
  },
  {
   "cell_type": "code",
   "execution_count": null,
   "metadata": {},
   "outputs": [],
   "source": [
    "# 적당한 트리 개수를 구하기 어렵다\n",
    "# 트리 개수가 많아지면 시간이 오래걸린다\n",
    "# "
   ]
  },
  {
   "cell_type": "code",
   "execution_count": null,
   "metadata": {},
   "outputs": [],
   "source": []
  },
  {
   "cell_type": "code",
   "execution_count": 18,
   "metadata": {},
   "outputs": [
    {
     "name": "stdout",
     "output_type": "stream",
     "text": [
      "<class 'pandas.core.frame.DataFrame'>\n",
      "RangeIndex: 768 entries, 0 to 767\n",
      "Data columns (total 9 columns):\n",
      " #   Column  Non-Null Count  Dtype  \n",
      "---  ------  --------------  -----  \n",
      " 0   col1    768 non-null    int64  \n",
      " 1   col2    768 non-null    int64  \n",
      " 2   col3    768 non-null    int64  \n",
      " 3   col4    768 non-null    int64  \n",
      " 4   col4.1  768 non-null    int64  \n",
      " 5   col5    768 non-null    float64\n",
      " 6   col6    768 non-null    float64\n",
      " 7   col7    768 non-null    int64  \n",
      " 8   class   768 non-null    int64  \n",
      "dtypes: float64(2), int64(7)\n",
      "memory usage: 54.1 KB\n",
      "None\n"
     ]
    }
   ],
   "source": [
    "import pandas as pd\n",
    "data = pd.read_csv(\"pima-indians-diabetes.csv\")\n",
    "print(data.info())"
   ]
  },
  {
   "cell_type": "code",
   "execution_count": 19,
   "metadata": {},
   "outputs": [],
   "source": [
    "train_points = data.drop(\"class\", axis=1)\n",
    "train_labels = data[\"class\"]\n",
    "\n",
    "from sklearn.preprocessing import StandardScaler\n",
    "\n",
    "scaler = StandardScaler()\n",
    "train_points_scaled = scaler.fit_transform(train_points)\n",
    "\n",
    "from sklearn.model_selection import train_test_split\n",
    "\n",
    "X_train, X_test, y_train, y_test = train_test_split(train_points_scaled, train_labels,\n",
    "                                                   test_size=0.2, random_state=5)\n"
   ]
  },
  {
   "cell_type": "code",
   "execution_count": 20,
   "metadata": {},
   "outputs": [],
   "source": [
    "from sklearn.ensemble import RandomForestClassifier\n",
    "\n",
    "classifier = RandomForestClassifier(random_state=0, n_estimators=3)\n",
    "\n",
    "classifier.fit(X_train,y_train)\n",
    "\n",
    "guesses = classifier.predict(X_test)"
   ]
  },
  {
   "cell_type": "code",
   "execution_count": 21,
   "metadata": {},
   "outputs": [
    {
     "name": "stdout",
     "output_type": "stream",
     "text": [
      "Confusion Matrix:  [[83 17]\n",
      " [26 28]]\n",
      "Accurcy: 0.7207792207792207\n"
     ]
    }
   ],
   "source": [
    "from sklearn.metrics import confusion_matrix\n",
    "from sklearn.metrics import accuracy_score\n",
    "\n",
    "print(\"Confusion Matrix: \", confusion_matrix(y_test, guesses))\n",
    "\n",
    "print(\"Accurcy:\", accuracy_score(y_test, guesses))"
   ]
  },
  {
   "cell_type": "code",
   "execution_count": 24,
   "metadata": {},
   "outputs": [],
   "source": [
    "from sklearn.ensemble import RandomForestClassifier\n",
    "\n",
    "classifier = RandomForestClassifier(random_state=0, n_estimators=5)\n",
    "\n",
    "classifier.fit(X_train, y_train)\n",
    "\n",
    "guesses = classifier.predict(X_test)"
   ]
  },
  {
   "cell_type": "code",
   "execution_count": 25,
   "metadata": {},
   "outputs": [],
   "source": [
    "from sklearn.ensemble import RandomForestClassifier\n",
    "\n",
    "classifier = RandomForestClassifier(random_state=0, n_estimators=10)\n",
    "\n",
    "classifier.fit(X_train, y_train)\n",
    "\n",
    "guesses = classifier.predict(X_test)"
   ]
  },
  {
   "cell_type": "code",
   "execution_count": 26,
   "metadata": {},
   "outputs": [],
   "source": [
    "from sklearn.ensemble import RandomForestClassifier\n",
    "\n",
    "classifier = RandomForestClassifier(random_state=0, n_estimators=100)\n",
    "\n",
    "classifier.fit(X_train, y_train)\n",
    "\n",
    "guesses = classifier.predict(X_test)"
   ]
  },
  {
   "cell_type": "code",
   "execution_count": 36,
   "metadata": {},
   "outputs": [
    {
     "name": "stdout",
     "output_type": "stream",
     "text": [
      "[0.6623376623376623, 0.6818181818181818, 0.7207792207792207, 0.7337662337662337, 0.7467532467532467, 0.7532467532467533, 0.7402597402597403, 0.7792207792207793, 0.7597402597402597, 0.7792207792207793, 0.7922077922077922, 0.7987012987012987, 0.7987012987012987, 0.7792207792207793, 0.7922077922077922, 0.7727272727272727, 0.7727272727272727, 0.7792207792207793, 0.7727272727272727, 0.7727272727272727, 0.7857142857142857, 0.7922077922077922, 0.7922077922077922, 0.7857142857142857, 0.7792207792207793, 0.7792207792207793, 0.7792207792207793, 0.7857142857142857, 0.7727272727272727, 0.7727272727272727, 0.7857142857142857, 0.7662337662337663, 0.7792207792207793, 0.7727272727272727, 0.7792207792207793, 0.7792207792207793, 0.7857142857142857, 0.7857142857142857, 0.7922077922077922, 0.7792207792207793, 0.7792207792207793, 0.7792207792207793, 0.7857142857142857, 0.7922077922077922, 0.7857142857142857, 0.7922077922077922, 0.7922077922077922, 0.7857142857142857, 0.7857142857142857, 0.7922077922077922, 0.7922077922077922, 0.7922077922077922, 0.7922077922077922, 0.7922077922077922, 0.7922077922077922, 0.7922077922077922, 0.7922077922077922, 0.7922077922077922, 0.7922077922077922, 0.7792207792207793, 0.7922077922077922, 0.8051948051948052, 0.7987012987012987, 0.8116883116883117, 0.7987012987012987, 0.8051948051948052, 0.7922077922077922, 0.7987012987012987, 0.7987012987012987, 0.7922077922077922, 0.7922077922077922, 0.7922077922077922, 0.7922077922077922, 0.7922077922077922, 0.7987012987012987, 0.7987012987012987, 0.8051948051948052, 0.7987012987012987, 0.7987012987012987, 0.7857142857142857, 0.7987012987012987, 0.7922077922077922, 0.7987012987012987, 0.7857142857142857, 0.7922077922077922, 0.7857142857142857, 0.8051948051948052, 0.7987012987012987, 0.7987012987012987, 0.7987012987012987, 0.7987012987012987, 0.7987012987012987, 0.7987012987012987, 0.7922077922077922, 0.7922077922077922, 0.7922077922077922, 0.7987012987012987, 0.7987012987012987, 0.7922077922077922]\n"
     ]
    },
    {
     "data": {
      "image/png": "[encoded data removed]",
      "text/plain": [
       "<Figure size 432x288 with 1 Axes>"
      ]
     },
     "metadata": {
      "needs_background": "light"
     },
     "output_type": "display_data"
    }
   ],
   "source": [
    "from sklearn.ensemble import RandomForestClassifier\n",
    "from sklearn.metrics import accuracy_score\n",
    "\n",
    "n_range = range(1, 100)\n",
    "accuracy_scores = []\n",
    "\n",
    "for n in n_range:\n",
    "    classifier = RandomForestClassifier(random_state=0, n_estimators=n)\n",
    "    classifier.fit(X_train, y_train)\n",
    "    guesses = classifier.predict(X_test)\n",
    "    accuracy_scores.append(accuracy_score(y_test, guesses))\n",
    "print(accuracy_scores)\n",
    "\n",
    "import matplotlib.pyplot as plt\n",
    "\n",
    "plt.plot(n_range, accuracy_scores)\n",
    "plt.xlabel('Value of n for Random Forest')\n",
    "plt.ylabel('Testing Accuracy')\n",
    "plt.show()"
   ]
  },
  {
   "cell_type": "code",
   "execution_count": 64,
   "metadata": {
    "scrolled": false
   },
   "outputs": [
    {
     "name": "stdout",
     "output_type": "stream",
     "text": [
      "          importance\n",
      "cp          0.224437\n",
      "ca          0.153078\n",
      "thalach     0.090727\n",
      "thal        0.085207\n",
      "chol        0.081916\n",
      "age         0.080873\n",
      "oldpeak     0.073498\n",
      "exang       0.072582\n",
      "trestbps    0.061766\n",
      "sex         0.042091\n",
      "restecg     0.033827\n",
      "fbs         0.000000\n",
      "slope       0.000000\n"
     ]
    }
   ],
   "source": [
    "feature_importances = pd.DataFrame(classifier.feature_importances_,\n",
    "                                   index = train_points.columns,\n",
    "                                   columns=['importance']).sort_values('importance', ascending=False)\n",
    "print(feature_importances)\n"
   ]
  },
  {
   "cell_type": "code",
   "execution_count": 65,
   "metadata": {},
   "outputs": [],
   "source": [
    "# 시작"
   ]
  },
  {
   "cell_type": "code",
   "execution_count": 66,
   "metadata": {},
   "outputs": [
    {
     "name": "stdout",
     "output_type": "stream",
     "text": [
      "<class 'pandas.core.frame.DataFrame'>\n",
      "RangeIndex: 303 entries, 0 to 302\n",
      "Data columns (total 14 columns):\n",
      " #   Column    Non-Null Count  Dtype  \n",
      "---  ------    --------------  -----  \n",
      " 0   age       303 non-null    int64  \n",
      " 1   sex       303 non-null    int64  \n",
      " 2   cp        303 non-null    int64  \n",
      " 3   trestbps  303 non-null    int64  \n",
      " 4   chol      303 non-null    int64  \n",
      " 5   fbs       303 non-null    int64  \n",
      " 6   restecg   303 non-null    int64  \n",
      " 7   thalach   303 non-null    int64  \n",
      " 8   exang     303 non-null    int64  \n",
      " 9   oldpeak   303 non-null    float64\n",
      " 10  slope     303 non-null    int64  \n",
      " 11  ca        303 non-null    int64  \n",
      " 12  thal      303 non-null    int64  \n",
      " 13  target    303 non-null    int64  \n",
      "dtypes: float64(1), int64(13)\n",
      "memory usage: 33.3 KB\n",
      "None\n"
     ]
    }
   ],
   "source": [
    "#step1: Loading dataset\n",
    "\n",
    "import pandas as pd\n",
    "data = pd.read_csv(\"heart.csv\")\n",
    "print(data.info())"
   ]
  },
  {
   "cell_type": "code",
   "execution_count": 67,
   "metadata": {},
   "outputs": [],
   "source": [
    "#step2: Normalize and split into train and test dataset\n",
    "\n",
    "train_points = data.drop(\"target\", axis=1)\n",
    "train_labels = data[\"target\"]\n",
    "\n",
    "from sklearn.preprocessing import StandardScaler\n",
    "\n",
    "scaler = StandardScaler()\n",
    "train_points_scaled = scaler.fit_transform(train_points)\n",
    "\n",
    "from sklearn.model_selection import train_test_split\n",
    "\n",
    "X_train, X_test, y_train, y_test = train_test_split(train_points_scaled, train_labels,\n",
    "                                                   test_size=0.2, random_state=5)\n"
   ]
  },
  {
   "cell_type": "code",
   "execution_count": 68,
   "metadata": {},
   "outputs": [],
   "source": [
    "# Decision Tree 시작"
   ]
  },
  {
   "cell_type": "code",
   "execution_count": 69,
   "metadata": {},
   "outputs": [
    {
     "name": "stdout",
     "output_type": "stream",
     "text": [
      "Confusion Matrix:  [[25  5]\n",
      " [ 4 27]]\n",
      "Accuracy: 0.8524590163934426\n"
     ]
    }
   ],
   "source": [
    "#step3-1: Training with Decision Tree\n",
    "\n",
    "from sklearn.tree import DecisionTreeClassifier\n",
    "\n",
    "classifier = DecisionTreeClassifier(random_state=0)\n",
    "\n",
    "classifier.fit(X_train, y_train)\n",
    "\n",
    "guesses = classifier.predict(X_test)\n",
    "\n",
    "\n",
    "#step4-1: Checking accuracy with Decision Tree\n",
    "\n",
    "from sklearn.metrics import confusion_matrix\n",
    "from sklearn.metrics import accuracy_score\n",
    "\n",
    "print(\"Confusion Matrix: \", confusion_matrix(y_test, guesses))\n",
    "\n",
    "print(\"Accuracy:\", accuracy_score(y_test, guesses))"
   ]
  },
  {
   "cell_type": "code",
   "execution_count": 70,
   "metadata": {},
   "outputs": [
    {
     "name": "stdout",
     "output_type": "stream",
     "text": [
      "Confusion Matrix:  [[25  5]\n",
      " [ 5 26]]\n",
      "Accuracy: 0.8360655737704918\n"
     ]
    }
   ],
   "source": [
    "#step5-1: Improving accuracy with Decsion Tree random_state = 5\n",
    "\n",
    "from sklearn.tree import DecisionTreeClassifier\n",
    "\n",
    "classifier = DecisionTreeClassifier(random_state=5)\n",
    "\n",
    "classifier.fit(X_train, y_train)\n",
    "\n",
    "guesses = classifier.predict(X_test)\n",
    "\n",
    "\n",
    "from sklearn.metrics import confusion_matrix\n",
    "from sklearn.metrics import accuracy_score\n",
    "\n",
    "print(\"Confusion Matrix: \", confusion_matrix(y_test, guesses))\n",
    "\n",
    "print(\"Accuracy:\", accuracy_score(y_test, guesses))\n"
   ]
  },
  {
   "cell_type": "code",
   "execution_count": 71,
   "metadata": {},
   "outputs": [
    {
     "name": "stdout",
     "output_type": "stream",
     "text": [
      "[0.8360655737704918, 0.819672131147541, 0.8524590163934426, 0.8524590163934426, 0.8360655737704918, 0.8360655737704918, 0.8032786885245902, 0.819672131147541, 0.819672131147541, 0.8032786885245902, 0.8032786885245902, 0.8360655737704918, 0.8360655737704918, 0.819672131147541, 0.8032786885245902, 0.8524590163934426, 0.8360655737704918, 0.8524590163934426, 0.8524590163934426, 0.819672131147541, 0.8524590163934426, 0.819672131147541, 0.8032786885245902, 0.8524590163934426, 0.8032786885245902, 0.8524590163934426, 0.819672131147541, 0.8360655737704918, 0.819672131147541, 0.8524590163934426, 0.8524590163934426, 0.819672131147541, 0.8360655737704918, 0.8360655737704918, 0.8524590163934426, 0.8360655737704918, 0.8360655737704918, 0.819672131147541, 0.8688524590163934, 0.8524590163934426, 0.8360655737704918, 0.8032786885245902, 0.819672131147541, 0.819672131147541, 0.8524590163934426, 0.8524590163934426, 0.819672131147541, 0.8360655737704918, 0.8032786885245902, 0.8360655737704918, 0.8524590163934426, 0.8360655737704918, 0.8524590163934426, 0.8360655737704918, 0.8688524590163934, 0.8360655737704918, 0.819672131147541, 0.819672131147541, 0.8032786885245902, 0.8032786885245902, 0.8360655737704918, 0.8360655737704918, 0.8688524590163934, 0.8360655737704918, 0.8360655737704918, 0.819672131147541, 0.8360655737704918, 0.8524590163934426, 0.8360655737704918, 0.819672131147541, 0.8360655737704918, 0.8524590163934426, 0.8032786885245902, 0.8360655737704918, 0.8524590163934426, 0.8524590163934426, 0.8524590163934426, 0.8032786885245902, 0.8360655737704918, 0.8688524590163934, 0.8032786885245902, 0.7868852459016393, 0.8032786885245902, 0.8524590163934426, 0.8360655737704918, 0.8524590163934426, 0.819672131147541, 0.8688524590163934, 0.819672131147541, 0.8524590163934426, 0.819672131147541, 0.8524590163934426, 0.819672131147541, 0.8032786885245902, 0.8032786885245902, 0.819672131147541, 0.8688524590163934, 0.8524590163934426, 0.8524590163934426]\n"
     ]
    },
    {
     "data": {
      "image/png": "[encoded data removed]",
      "text/plain": [
       "<Figure size 432x288 with 1 Axes>"
      ]
     },
     "metadata": {
      "needs_background": "light"
     },
     "output_type": "display_data"
    }
   ],
   "source": [
    "#step6-1: visualizing accuracy with Decision Tree\n",
    "\n",
    "from sklearn.tree import DecisionTreeClassifier\n",
    "from sklearn.metrics import accuracy_score\n",
    "\n",
    "n_range = range(1, 100)\n",
    "accuracy_scores = []\n",
    "\n",
    "for n in n_range:\n",
    "    classifier = DecisionTreeClassifier(random_state=n)\n",
    "    classifier.fit(X_train, y_train)\n",
    "    guesses = classifier.predict(X_test)\n",
    "    accuracy_scores.append(accuracy_score(y_test, guesses))\n",
    "print(accuracy_scores)\n",
    "\n",
    "import matplotlib.pyplot as plt\n",
    "\n",
    "plt.plot(n_range, accuracy_scores)\n",
    "plt.xlabel('Value of n for Decision Tree')\n",
    "plt.ylabel('Testing Accuracy')\n",
    "plt.show()"
   ]
  },
  {
   "cell_type": "code",
   "execution_count": 72,
   "metadata": {},
   "outputs": [],
   "source": [
    "# RandomForest 시작"
   ]
  },
  {
   "cell_type": "code",
   "execution_count": 73,
   "metadata": {
    "scrolled": true
   },
   "outputs": [
    {
     "name": "stdout",
     "output_type": "stream",
     "text": [
      "Confusion Matrix:  [[21  9]\n",
      " [ 3 28]]\n",
      "Accurcy: 0.8032786885245902\n"
     ]
    }
   ],
   "source": [
    "#step3-2: Training with Random Forest\n",
    "\n",
    "from sklearn.ensemble import RandomForestClassifier\n",
    "\n",
    "classifier = RandomForestClassifier(random_state=0, n_estimators=3)\n",
    "\n",
    "classifier.fit(X_train,y_train)\n",
    "\n",
    "guesses = classifier.predict(X_test)\n",
    "\n",
    "#step4-2: Checking accuracy with Random Forest\n",
    "\n",
    "from sklearn.metrics import confusion_matrix\n",
    "from sklearn.metrics import accuracy_score\n",
    "\n",
    "print(\"Confusion Matrix: \", confusion_matrix(y_test, guesses))\n",
    "\n",
    "print(\"Accurcy:\", accuracy_score(y_test, guesses))\n"
   ]
  },
  {
   "cell_type": "code",
   "execution_count": 74,
   "metadata": {},
   "outputs": [
    {
     "name": "stdout",
     "output_type": "stream",
     "text": [
      "Confusion Matrix:  [[24  6]\n",
      " [ 4 27]]\n",
      "Accurcy: 0.8360655737704918\n"
     ]
    }
   ],
   "source": [
    "#step5-2: Improving accuracy with Random Forest n_estimators = 5\n",
    "\n",
    "from sklearn.ensemble import RandomForestClassifier\n",
    "\n",
    "classifier = RandomForestClassifier(random_state=0, n_estimators=5)\n",
    "\n",
    "classifier.fit(X_train, y_train)\n",
    "\n",
    "guesses = classifier.predict(X_test)\n",
    "\n",
    "from sklearn.metrics import confusion_matrix\n",
    "from sklearn.metrics import accuracy_score\n",
    "\n",
    "print(\"Confusion Matrix: \", confusion_matrix(y_test, guesses))\n",
    "\n",
    "print(\"Accurcy:\", accuracy_score(y_test, guesses))"
   ]
  },
  {
   "cell_type": "code",
   "execution_count": 75,
   "metadata": {
    "scrolled": true
   },
   "outputs": [
    {
     "name": "stdout",
     "output_type": "stream",
     "text": [
      "[0.7049180327868853, 0.7704918032786885, 0.8032786885245902, 0.8360655737704918, 0.8360655737704918, 0.819672131147541, 0.8360655737704918, 0.8688524590163934, 0.8688524590163934, 0.8360655737704918, 0.8688524590163934, 0.8524590163934426, 0.8524590163934426, 0.8524590163934426, 0.8524590163934426, 0.8524590163934426, 0.8688524590163934, 0.8688524590163934, 0.8688524590163934, 0.8852459016393442, 0.8852459016393442, 0.8852459016393442, 0.8852459016393442, 0.8852459016393442, 0.8852459016393442, 0.8852459016393442, 0.8688524590163934, 0.8688524590163934, 0.8688524590163934, 0.8852459016393442, 0.8852459016393442, 0.8852459016393442, 0.8688524590163934, 0.8852459016393442, 0.8852459016393442, 0.8852459016393442, 0.8852459016393442, 0.8688524590163934, 0.8688524590163934, 0.8688524590163934, 0.8688524590163934, 0.8688524590163934, 0.8688524590163934, 0.8688524590163934, 0.8852459016393442, 0.8688524590163934, 0.8852459016393442, 0.8852459016393442, 0.8852459016393442, 0.8852459016393442, 0.8852459016393442, 0.8852459016393442, 0.8852459016393442, 0.8852459016393442, 0.8852459016393442, 0.8852459016393442, 0.8852459016393442, 0.8852459016393442, 0.8852459016393442, 0.8852459016393442, 0.8852459016393442, 0.8852459016393442, 0.8852459016393442, 0.8852459016393442, 0.8852459016393442, 0.8852459016393442, 0.8852459016393442, 0.8852459016393442, 0.8852459016393442, 0.8688524590163934, 0.8688524590163934, 0.8688524590163934, 0.8688524590163934, 0.8688524590163934, 0.8688524590163934, 0.8688524590163934, 0.8688524590163934, 0.8688524590163934, 0.8688524590163934, 0.8688524590163934, 0.8688524590163934, 0.8688524590163934, 0.8688524590163934, 0.8688524590163934, 0.8688524590163934, 0.8688524590163934, 0.8688524590163934, 0.8688524590163934, 0.8688524590163934, 0.8688524590163934, 0.8688524590163934, 0.8688524590163934, 0.8688524590163934, 0.8688524590163934, 0.8688524590163934, 0.8688524590163934, 0.8688524590163934, 0.8688524590163934, 0.8688524590163934]\n"
     ]
    },
    {
     "data": {
      "image/png": "[encoded data removed]",
      "text/plain": [
       "<Figure size 432x288 with 1 Axes>"
      ]
     },
     "metadata": {
      "needs_background": "light"
     },
     "output_type": "display_data"
    }
   ],
   "source": [
    "#step6-2: visualizing accuracy with Random Forest \n",
    "\n",
    "from sklearn.ensemble import RandomForestClassifier\n",
    "from sklearn.metrics import accuracy_score\n",
    "\n",
    "n_range = range(1, 100)\n",
    "accuracy_scores = []\n",
    "\n",
    "for n in n_range:\n",
    "    classifier = RandomForestClassifier(random_state=0, n_estimators=n)\n",
    "    classifier.fit(X_train, y_train)\n",
    "    guesses = classifier.predict(X_test)\n",
    "    accuracy_scores.append(accuracy_score(y_test, guesses))\n",
    "print(accuracy_scores)\n",
    "\n",
    "import matplotlib.pyplot as plt\n",
    "\n",
    "plt.plot(n_range, accuracy_scores)\n",
    "plt.xlabel('Value of n for Random Forest')\n",
    "plt.ylabel('Testing Accuracy')\n",
    "plt.show()"
   ]
  },
  {
   "cell_type": "code",
   "execution_count": 76,
   "metadata": {},
   "outputs": [
    {
     "name": "stdout",
     "output_type": "stream",
     "text": [
      "          importance\n",
      "thal        0.136261\n",
      "oldpeak     0.116705\n",
      "thalach     0.107484\n",
      "ca          0.096894\n",
      "cp          0.094618\n",
      "age         0.091769\n",
      "trestbps    0.072249\n",
      "exang       0.071735\n",
      "chol        0.070170\n",
      "slope       0.063772\n",
      "sex         0.042869\n",
      "restecg     0.022982\n",
      "fbs         0.012490\n"
     ]
    }
   ],
   "source": [
    "# Feature extraction\n",
    "\n",
    "feature_importances = pd.DataFrame(classifier.feature_importances_,\n",
    "                                   index = train_points.columns,\n",
    "                                   columns=['importance']).sort_values('importance', ascending=False)\n",
    "print(feature_importances)\n"
   ]
  },
  {
   "cell_type": "code",
   "execution_count": 85,
   "metadata": {},
   "outputs": [
    {
     "name": "stdout",
     "output_type": "stream",
     "text": [
      "[0.7540983606557377, 0.7049180327868853, 0.7377049180327869, 0.7868852459016393, 0.7868852459016393, 0.7704918032786885, 0.8360655737704918, 0.8360655737704918, 0.8360655737704918, 0.8524590163934426, 0.8360655737704918, 0.8360655737704918, 0.8688524590163934, 0.8360655737704918, 0.8360655737704918, 0.8524590163934426, 0.8524590163934426, 0.8524590163934426, 0.8688524590163934, 0.8688524590163934, 0.8852459016393442, 0.8852459016393442, 0.8852459016393442, 0.8852459016393442, 0.8688524590163934, 0.8852459016393442, 0.8852459016393442, 0.8852459016393442, 0.8688524590163934, 0.8852459016393442, 0.8688524590163934, 0.9016393442622951, 0.8524590163934426, 0.8524590163934426, 0.8524590163934426, 0.8688524590163934, 0.8688524590163934, 0.8688524590163934, 0.8688524590163934, 0.8688524590163934, 0.8688524590163934, 0.8688524590163934, 0.8852459016393442, 0.8688524590163934, 0.8688524590163934, 0.8852459016393442, 0.8688524590163934, 0.8688524590163934, 0.8688524590163934, 0.8852459016393442, 0.8852459016393442, 0.8852459016393442, 0.8852459016393442, 0.8852459016393442, 0.8852459016393442, 0.8852459016393442, 0.8852459016393442, 0.9016393442622951, 0.9016393442622951, 0.9016393442622951, 0.9016393442622951, 0.9016393442622951, 0.9016393442622951, 0.9016393442622951, 0.9016393442622951, 0.9016393442622951, 0.9016393442622951, 0.9016393442622951, 0.9016393442622951, 0.9016393442622951, 0.9016393442622951, 0.9016393442622951, 0.9016393442622951, 0.9016393442622951, 0.9016393442622951, 0.9016393442622951, 0.8852459016393442, 0.9016393442622951, 0.9016393442622951, 0.9016393442622951, 0.9016393442622951, 0.9016393442622951, 0.9016393442622951, 0.9016393442622951, 0.9016393442622951, 0.9016393442622951, 0.9016393442622951, 0.9016393442622951, 0.8852459016393442, 0.8852459016393442, 0.8852459016393442, 0.8852459016393442, 0.8852459016393442, 0.8852459016393442, 0.8852459016393442, 0.8852459016393442, 0.8852459016393442, 0.8852459016393442, 0.8852459016393442]\n"
     ]
    },
    {
     "data": {
      "image/png": "[encoded data removed]",
      "text/plain": [
       "<Figure size 432x288 with 1 Axes>"
      ]
     },
     "metadata": {
      "needs_background": "light"
     },
     "output_type": "display_data"
    }
   ],
   "source": [
    "# Redeem :: Normalize and split into train and test dataset\n",
    "\n",
    "train_points = data.drop([\"target\", \"fbs\", \"restecg\", \"sex\"], axis=1)\n",
    "train_labels = data[\"target\"]\n",
    "\n",
    "from sklearn.preprocessing import StandardScaler\n",
    "\n",
    "scaler = StandardScaler()\n",
    "train_points_scaled = scaler.fit_transform(train_points)\n",
    "\n",
    "from sklearn.model_selection import train_test_split\n",
    "\n",
    "X_train, X_test, y_train, y_test = train_test_split(train_points_scaled, train_labels,\n",
    "                                                   test_size=0.2, random_state=5)\n",
    "\n",
    "# Final :: visualizing accuracy with Random Forest\n",
    "\n",
    "from sklearn.ensemble import RandomForestClassifier\n",
    "from sklearn.metrics import accuracy_score\n",
    "\n",
    "n_range = range(1, 100)\n",
    "accuracy_scores = []\n",
    "\n",
    "for n in n_range:\n",
    "    classifier = RandomForestClassifier(random_state=0, n_estimators=n)\n",
    "    classifier.fit(X_train, y_train)\n",
    "    guesses = classifier.predict(X_test)\n",
    "    accuracy_scores.append(accuracy_score(y_test, guesses))\n",
    "print(accuracy_scores)\n",
    "\n",
    "import matplotlib.pyplot as plt\n",
    "\n",
    "plt.plot(n_range, accuracy_scores)\n",
    "plt.xlabel('Value of n for Random Forest')\n",
    "plt.ylabel('Testing Accuracy')\n",
    "plt.show()"
   ]
  },
  {
   "cell_type": "code",
   "execution_count": null,
   "metadata": {},
   "outputs": [],
   "source": []
  }
 ],
 "metadata": {
  "kernelspec": {
   "display_name": "Python 3",
   "language": "python",
   "name": "python3"
  },
  "language_info": {
   "codemirror_mode": {
    "name": "ipython",
    "version": 3
   },
   "file_extension": ".py",
   "mimetype": "text/x-python",
   "name": "python",
   "nbconvert_exporter": "python",
   "pygments_lexer": "ipython3",
   "version": "3.7.4"
  }
 },
 "nbformat": 4,
 "nbformat_minor": 4
}
